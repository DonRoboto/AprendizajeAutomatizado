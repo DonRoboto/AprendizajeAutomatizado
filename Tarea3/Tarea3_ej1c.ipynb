{
  "nbformat": 4,
  "nbformat_minor": 0,
  "metadata": {
    "colab": {
      "name": "Tarea3_ej1c.ipynb",
      "provenance": [],
      "include_colab_link": true
    },
    "kernelspec": {
      "name": "python3",
      "display_name": "Python 3"
    }
  },
  "cells": [
    {
      "cell_type": "markdown",
      "metadata": {
        "id": "view-in-github",
        "colab_type": "text"
      },
      "source": [
        "<a href=\"https://colab.research.google.com/github/DonRoboto/AprendizajeAutomatizado/blob/master/Tarea3/Tarea3_ej1c.ipynb\" target=\"_parent\"><img src=\"https://colab.research.google.com/assets/colab-badge.svg\" alt=\"Open In Colab\"/></a>"
      ]
    },
    {
      "cell_type": "markdown",
      "metadata": {
        "id": "qpClAzZ48ID8",
        "colab_type": "text"
      },
      "source": [
        "Cargamos librerias"
      ]
    },
    {
      "cell_type": "code",
      "metadata": {
        "id": "LGGvmBFy8JgB",
        "colab_type": "code",
        "colab": {}
      },
      "source": [
        "import pandas as pd\n",
        "from sklearn.metrics import mean_squared_error\n",
        "from sklearn.model_selection import train_test_split\n",
        "import numpy as np\n",
        "import matplotlib.pyplot as plt\n",
        "from sklearn.linear_model import LinearRegression\n",
        "from sklearn.preprocessing import PolynomialFeatures\n",
        "from sklearn.pipeline import Pipeline\n",
        "from sklearn.model_selection import cross_val_score\n",
        "import seaborn as sns"
      ],
      "execution_count": 0,
      "outputs": []
    },
    {
      "cell_type": "markdown",
      "metadata": {
        "id": "HTnaalu38Rjl",
        "colab_type": "text"
      },
      "source": [
        "Definimos la funcion para entrenar y evaluar el modelo"
      ]
    },
    {
      "cell_type": "code",
      "metadata": {
        "id": "m3f8cCHD8VG_",
        "colab_type": "code",
        "colab": {}
      },
      "source": [
        "def fit_eval(model, X, y):\n",
        "    X_train, X_val, y_train, y_val = train_test_split(X, y, test_size=0.2)\n",
        "    train_errors, val_errors, cv_errors = [], [], []\n",
        "    for m in range(1, len(X_train)):\n",
        "        model.fit(X_train[:m], y_train[:m])\n",
        "        scores = cross_val_score(model, X, y,scoring=\"neg_mean_squared_error\", cv=5)\n",
        "        y_train_predict = model.predict(X_train[:m])\n",
        "        y_val_predict = model.predict(X_val)\n",
        "        train_errors.append(mean_squared_error(y_train[:m], y_train_predict))\n",
        "        val_errors.append(mean_squared_error(y_val, y_val_predict))\n",
        "        cv_errors.append(scores.mean())\n",
        "    plt.plot(np.sqrt(train_errors), \"r-+\", linewidth=2, label=\"train\")\n",
        "    plt.plot(np.sqrt(val_errors), \"b-\", linewidth=3, label=\"val\")\n",
        "    et=sum(train_errors)/len(train_errors) \n",
        "    ev=sum(val_errors)/len(val_errors) \n",
        "    cv=sum(cv_errors)/len(cv_errors) \n",
        "    return et, ev, cv    "
      ],
      "execution_count": 0,
      "outputs": []
    },
    {
      "cell_type": "markdown",
      "metadata": {
        "id": "yzOIzNl28pww",
        "colab_type": "text"
      },
      "source": [
        "Cargamos los datos"
      ]
    },
    {
      "cell_type": "code",
      "metadata": {
        "id": "n8pAJg7F8pCP",
        "colab_type": "code",
        "colab": {}
      },
      "source": [
        "url_data = 'https://raw.githubusercontent.com/DonRoboto/AprendizajeAutomatizado/master/Tarea3/housing.data'\n",
        "dataframe = pd.read_csv(url_data,header=None, delimiter=r\"\\s+\")\n",
        "\n",
        "from sklearn.preprocessing import MinMaxScaler\n",
        "scaler = MinMaxScaler()\n",
        "scaled_df = scaler.fit_transform(dataframe)\n",
        "dataset = pd.DataFrame(scaled_df)"
      ],
      "execution_count": 0,
      "outputs": []
    },
    {
      "cell_type": "markdown",
      "metadata": {
        "id": "reBlW1Ld-G4d",
        "colab_type": "text"
      },
      "source": [
        "Graficamos para observar aquellas columnas que guardan una mayor correlacion con la variable target"
      ]
    },
    {
      "cell_type": "code",
      "metadata": {
        "id": "9JOSug39-NFw",
        "colab_type": "code",
        "outputId": "deed654d-d03f-4456-c15c-76cacf41638e",
        "colab": {
          "base_uri": "https://localhost:8080/",
          "height": 505
        }
      },
      "source": [
        "f, ax = plt.subplots(figsize=(10, 8))\n",
        "corr = dataframe.corr()\n",
        "sns.heatmap(corr, mask=np.zeros_like(corr, dtype=np.bool), cmap=sns.diverging_palette(220, 10, as_cmap=True),\n",
        "               square=True, ax=ax)"
      ],
      "execution_count": 7,
      "outputs": [
        {
          "output_type": "execute_result",
          "data": {
            "text/plain": [
              "<matplotlib.axes._subplots.AxesSubplot at 0x7f6be5dd6780>"
            ]
          },
          "metadata": {
            "tags": []
          },
          "execution_count": 7
        },
        {
          "output_type": "display_data",
          "data": {
            "image/png": "[encoded data removed]",
            "text/plain": [
              "<Figure size 720x576 with 2 Axes>"
            ]
          },
          "metadata": {
            "tags": [],
            "needs_background": "light"
          }
        }
      ]
    },
    {
      "cell_type": "markdown",
      "metadata": {
        "id": "IbeLNzSc-WE7",
        "colab_type": "text"
      },
      "source": [
        "Seleccionando aquellas características que tienen una mayor correlacion"
      ]
    },
    {
      "cell_type": "code",
      "metadata": {
        "id": "R082ePWQ-fEX",
        "colab_type": "code",
        "colab": {}
      },
      "source": [
        "df=dataset.to_numpy()\n",
        "df=df[:,0:14]\n",
        "\n",
        "X1 = np.array([df[:, 1]]).transpose()\n",
        "X3 = np.array([df[:, 3]]).transpose()\n",
        "X5 = np.array([df[:, 5]]).transpose()\n",
        "X7 = np.array([df[:, 7]]).transpose()\n",
        "X11 = np.array([df[:, 11]]).transpose()\n",
        "X = np.hstack((X1, X3, X5, X7, X11))\n",
        "\n",
        "y = df[:,13]\n"
      ],
      "execution_count": 0,
      "outputs": []
    },
    {
      "cell_type": "code",
      "metadata": {
        "id": "X7m8TcDK_UMx",
        "colab_type": "code",
        "outputId": "fe382ae9-3a77-4ac6-c27c-c1c99d4e0e4a",
        "colab": {
          "base_uri": "https://localhost:8080/",
          "height": 331
        }
      },
      "source": [
        "polynomial_regression = Pipeline([\n",
        "                (\"poly_features\", PolynomialFeatures(degree=2, interaction_only=False, include_bias=False)),\n",
        "                (\"lin_reg_ridge\", LinearRegression()),\n",
        "                ])\n",
        "\n",
        "\n",
        "et, ev, cv = fit_eval(polynomial_regression, X, y)\n",
        "print(\"Error en Entrenamiento: {}\".format(et))\n",
        "print(\"Error en Validación: {}\".format(ev))\n",
        "print(\"Error en Validación Cruzada: {}\".format(cv))"
      ],
      "execution_count": 9,
      "outputs": [
        {
          "output_type": "stream",
          "text": [
            "Error en Entrenamiento: 0.01193162043987583\n",
            "Error en Validación: 1.3314149472140088e+17\n",
            "Error en Validación Cruzada: -0.039024484939046276\n"
          ],
          "name": "stdout"
        },
        {
          "output_type": "display_data",
          "data": {
            "image/png": "[encoded data removed]",
            "text/plain": [
              "<Figure size 432x288 with 1 Axes>"
            ]
          },
          "metadata": {
            "tags": [],
            "needs_background": "light"
          }
        }
      ]
    }
  ]
}