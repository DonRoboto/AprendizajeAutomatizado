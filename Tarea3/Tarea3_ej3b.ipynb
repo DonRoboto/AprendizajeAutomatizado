{
  "nbformat": 4,
  "nbformat_minor": 0,
  "metadata": {
    "colab": {
      "name": "Tarea3_ej3b.ipynb",
      "provenance": [],
      "authorship_tag": "ABX9TyNtt0NgSF35kBaUuoZ+X3/v",
      "include_colab_link": true
    },
    "kernelspec": {
      "name": "python3",
      "display_name": "Python 3"
    }
  },
  "cells": [
    {
      "cell_type": "markdown",
      "metadata": {
        "id": "view-in-github",
        "colab_type": "text"
      },
      "source": [
        "<a href=\"https://colab.research.google.com/github/DonRoboto/AprendizajeAutomatizado/blob/master/Tarea3/Tarea3_ej3b.ipynb\" target=\"_parent\"><img src=\"https://colab.research.google.com/assets/colab-badge.svg\" alt=\"Open In Colab\"/></a>"
      ]
    },
    {
      "cell_type": "code",
      "metadata": {
        "id": "0wsB2kbsdcH9",
        "colab_type": "code",
        "colab": {}
      },
      "source": [
        "import numpy as np\n",
        "import pandas as pd\n",
        "import math\n",
        "import random\n",
        "from sklearn.model_selection import train_test_split\n",
        "from sklearn.naive_bayes import GaussianNB\n",
        "from sklearn import metrics\n",
        "from sklearn.model_selection import StratifiedKFold\n",
        "from sklearn.metrics import roc_auc_score\n",
        "from sklearn.utils import shuffle"
      ],
      "execution_count": 0,
      "outputs": []
    },
    {
      "cell_type": "code",
      "metadata": {
        "id": "PCMTYIGT-hL5",
        "colab_type": "code",
        "colab": {}
      },
      "source": [
        "def sigmoide(X, weight):\n",
        "    z = np.dot(X, weight)\n",
        "    return 1 / (1 + np.exp(-z))\n",
        "\n",
        "def funcion_perdida(h, y):\n",
        "    return (-y * np.log(h) - (1 - y) * np.log(1 - h)).mean()\n",
        "\n",
        "def descenso_gradiente(X, h, y):\n",
        "    return np.dot(X.T, (h - y)) / y.shape[0]\n",
        "\n",
        "def actualiza_pesos(weight, learning_rate, gradient):\n",
        "    return weight - learning_rate * gradient"
      ],
      "execution_count": 0,
      "outputs": []
    },
    {
      "cell_type": "code",
      "metadata": {
        "id": "mubnS9fc-jXn",
        "colab_type": "code",
        "colab": {}
      },
      "source": [
        "def fit_modelo(X_train, y_train):\n",
        "  num_iter = 100000\n",
        "\n",
        "  intercept_train = np.ones((X_train.shape[0], 1)) \n",
        "  X_train = np.concatenate((intercept_train, X_train), axis=1)\n",
        "  theta = np.zeros(X_train.shape[1])\n",
        "\n",
        "  for i in range(num_iter):\n",
        "    h = sigmoide(X_train, theta)\n",
        "    gradient = descenso_gradiente(X_train, h, y_train)\n",
        "    theta = actualiza_pesos(theta, 0.001, gradient)\n",
        "  return theta   "
      ],
      "execution_count": 0,
      "outputs": []
    },
    {
      "cell_type": "code",
      "metadata": {
        "id": "J6YZCB7L-lMx",
        "colab_type": "code",
        "colab": {}
      },
      "source": [
        "def evalua_modelo(X_test, theta):\n",
        "  intercept_test = np.ones((X_test.shape[0], 1)) \n",
        "  X_test = np.concatenate((intercept_test, X_test), axis=1)\n",
        "  y_val = sigmoide(X_test, theta)\n",
        "  \n",
        "  y_label = [0] * len(y_val)\n",
        "  v_max = max(y_val)\n",
        "  v_min = min(y_val)\n",
        "  umbral = (v_max-v_min)/2\n",
        "\n",
        "  for i in range(len(y_val)):\n",
        "    if(y_val[i]>umbral):\n",
        "        y_label[i]=1\n",
        "    else:\n",
        "        y_label[i]=0\n",
        "  return y_label"
      ],
      "execution_count": 0,
      "outputs": []
    },
    {
      "cell_type": "code",
      "metadata": {
        "id": "MwCKAMdYdgiC",
        "colab_type": "code",
        "colab": {}
      },
      "source": [
        "df_train =  pd.read_csv(\"https://raw.githubusercontent.com/DonRoboto/AprendizajeAutomatizado/master/breast-cancer-wisconsin.data\",header=None, delimiter=\",\")\n",
        "df_train[6] = df_train[6].map({'?': 0, '0': 0, '1': 1, '2': 2, '3': 3, '4': 4, '5': 5, '6': 6, '7': 7, '8': 8, '9': 9, '10': 10})\n",
        "df_train[10] = df_train[10].map({2: 1, 4: 0})\n",
        "\n",
        "df_train[:] = df_train[:].astype(float)\n",
        "data_train = df_train.to_numpy()\n",
        "\n",
        "X_dataP = data_train[:, 1:9]\n",
        "y_dataP = data_train[:, -1]\n"
      ],
      "execution_count": 0,
      "outputs": []
    },
    {
      "cell_type": "code",
      "metadata": {
        "id": "DOY4UVdpweQd",
        "colab_type": "code",
        "outputId": "806ae4a1-f16b-49ed-952a-ba4715d1d793",
        "colab": {
          "base_uri": "https://localhost:8080/",
          "height": 219
        }
      },
      "source": [
        "score_final = []\n",
        "for ex in range(10):\n",
        "\n",
        "  X_data, y_data = shuffle(X_dataP, y_dataP)\n",
        "\n",
        "  kf = StratifiedKFold(n_splits=5)\n",
        "  pred_test_full =0\n",
        "  \n",
        "  for train_index,test_index in kf.split(X_data,y_data):\n",
        "    cv_score =[]\n",
        "    xtr,xvl = X_data[train_index],X_data[test_index]\n",
        "    ytr,yvl = y_data[train_index],y_data[test_index]\n",
        "   \n",
        "    theta = fit_modelo(xtr, ytr)\n",
        "    y_hat = evalua_modelo(xvl, theta)\n",
        "    score = roc_auc_score(yvl,y_hat)\n",
        "  \n",
        "    cv_score.append(score)\n",
        "  \n",
        "  print(ex, \" \", score.mean())   \n",
        "  score_final.append(score.mean())   \n",
        "print(\"Resultado Regresión Logística:\", sum(score_final)/len(score_final))   \n"
      ],
      "execution_count": 6,
      "outputs": [
        {
          "output_type": "stream",
          "text": [
            "0   0.9479166666666667\n",
            "1   0.9626831501831503\n",
            "2   0.9632554945054945\n",
            "3   0.9621108058608058\n",
            "4   0.9571886446886448\n",
            "5   0.9302884615384616\n",
            "6   0.9210164835164836\n",
            "7   0.9467719780219781\n",
            "8   0.9676053113553114\n",
            "9   0.9632554945054945\n",
            "Resultado Regresión Logística: 0.9522092490842491\n"
          ],
          "name": "stdout"
        }
      ]
    },
    {
      "cell_type": "code",
      "metadata": {
        "id": "H57RndBM5oBU",
        "colab_type": "code",
        "colab": {
          "base_uri": "https://localhost:8080/",
          "height": 219
        },
        "outputId": "f9dec391-4e26-4a04-956e-df712c52bdb3"
      },
      "source": [
        "score_final = []\n",
        "for ex in range(10):\n",
        "\n",
        "  X_data, y_data = shuffle(X_dataP, y_dataP)\n",
        "\n",
        "  kf = StratifiedKFold(n_splits=5)\n",
        "  pred_test_full =0\n",
        "  \n",
        "  for train_index,test_index in kf.split(X_data,y_data):\n",
        "    cv_score =[]\n",
        "    xtr,xvl = X_data[train_index],X_data[test_index]\n",
        "    ytr,yvl = y_data[train_index],y_data[test_index]\n",
        "    \n",
        "    lr = GaussianNB()\n",
        "    lr.fit(xtr,ytr)\n",
        "    score = roc_auc_score(yvl,lr.predict(xvl))\n",
        "  \n",
        "    cv_score.append(score)\n",
        "  \n",
        "  print(ex, \" \", score.mean())   \n",
        "  score_final.append(score.mean())   \n",
        "print(\"Resultado Clasificador Bayesiano Ingenuo:\", sum(score_final)/len(score_final)) "
      ],
      "execution_count": 7,
      "outputs": [
        {
          "output_type": "stream",
          "text": [
            "0   0.9785943223443223\n",
            "1   0.9945054945054945\n",
            "2   0.989010989010989\n",
            "3   0.9626831501831503\n",
            "4   0.9566163003663003\n",
            "5   0.9626831501831503\n",
            "6   0.9676053113553114\n",
            "7   0.9791666666666667\n",
            "8   0.956043956043956\n",
            "9   0.96875\n",
            "Resultado Clasificador Bayesiano Ingenuo: 0.9715659340659342\n"
          ],
          "name": "stdout"
        }
      ]
    }
  ]
}