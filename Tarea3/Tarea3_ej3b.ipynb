{
  "nbformat": 4,
  "nbformat_minor": 0,
  "metadata": {
    "colab": {
      "name": "Tarea3_ej3b.ipynb",
      "provenance": [],
      "authorship_tag": "ABX9TyPPcL4QMDvn6OovlJj3tXo8",
      "include_colab_link": true
    },
    "kernelspec": {
      "name": "python3",
      "display_name": "Python 3"
    }
  },
  "cells": [
    {
      "cell_type": "markdown",
      "metadata": {
        "id": "view-in-github",
        "colab_type": "text"
      },
      "source": [
        "<a href=\"https://colab.research.google.com/github/DonRoboto/AprendizajeAutomatizado/blob/master/Tarea3/Tarea3_ej3b.ipynb\" target=\"_parent\"><img src=\"https://colab.research.google.com/assets/colab-badge.svg\" alt=\"Open In Colab\"/></a>"
      ]
    },
    {
      "cell_type": "code",
      "metadata": {
        "id": "0wsB2kbsdcH9",
        "colab_type": "code",
        "colab": {}
      },
      "source": [
        "import numpy as np\n",
        "import pandas as pd\n",
        "import math\n",
        "import random\n",
        "from sklearn.model_selection import train_test_split\n",
        "from sklearn.linear_model import LogisticRegression\n",
        "from sklearn.metrics import classification_report, confusion_matrix\n",
        "from sklearn import metrics"
      ],
      "execution_count": 0,
      "outputs": []
    },
    {
      "cell_type": "code",
      "metadata": {
        "id": "E4I1qniNdc_4",
        "colab_type": "code",
        "colab": {}
      },
      "source": [
        "def sigmoide(X, weight):\n",
        "    z = np.dot(X, weight)\n",
        "    return 1 / (1 + np.exp(-z))\n",
        "\n",
        "\n",
        "def funcion_perdida(h, y):\n",
        "    return (-y * np.log(h) - (1 - y) * np.log(1 - h)).mean()\n",
        "\n",
        "\n",
        "def descenso_gradiente(X, h, y):\n",
        "    return np.dot(X.T, (h - y)) / y.shape[0]\n",
        "\n",
        "\n",
        "def actualiza_pesos(weight, learning_rate, gradient):\n",
        "    return weight - learning_rate * gradient\n"
      ],
      "execution_count": 0,
      "outputs": []
    },
    {
      "cell_type": "code",
      "metadata": {
        "id": "MwCKAMdYdgiC",
        "colab_type": "code",
        "colab": {}
      },
      "source": [
        "df_train =  pd.read_csv(\"https://raw.githubusercontent.com/DonRoboto/AprendizajeAutomatizado/master/spam.csv\",header=None, delimiter=\" \")\n",
        "\n",
        "df_train[:] = df_train[:].astype(float)\n",
        "data_train = df_train.to_numpy()"
      ],
      "execution_count": 0,
      "outputs": []
    },
    {
      "cell_type": "code",
      "metadata": {
        "id": "W2bM2moGdn4O",
        "colab_type": "code",
        "colab": {}
      },
      "source": [
        "X_data = data_train[:, 0:2000]\n",
        "y_data = data_train[:, -1]\n",
        "\n",
        "X_train, X_test, y_train, y_test = train_test_split(X_data, y_data, test_size=0.3, random_state=0)"
      ],
      "execution_count": 0,
      "outputs": []
    },
    {
      "cell_type": "code",
      "metadata": {
        "id": "i6Lpo0LyeElL",
        "colab_type": "code",
        "colab": {}
      },
      "source": [
        "num_iter = 100000\n",
        "\n",
        "intercept_train = np.ones((X_train.shape[0], 1)) \n",
        "X_train = np.concatenate((intercept_train, X_train), axis=1)\n",
        "theta = np.zeros(X_train.shape[1])\n",
        "\n",
        "intercept_test = np.ones((X_test.shape[0], 1)) \n",
        "X_test = np.concatenate((intercept_test, X_test), axis=1)\n",
        "\n",
        "for i in range(num_iter):\n",
        "    h = sigmoide(X_train, theta)\n",
        "    gradient = descenso_gradiente(X_train, h, y_train)\n",
        "    theta = actualiza_pesos(theta, 0.001, gradient)\n",
        "\n",
        "y_val = sigmoide(X_test, theta)"
      ],
      "execution_count": 0,
      "outputs": []
    },
    {
      "cell_type": "code",
      "metadata": {
        "id": "V1qjElg3eHbi",
        "colab_type": "code",
        "colab": {
          "base_uri": "https://localhost:8080/",
          "height": 35
        },
        "outputId": "66d72494-915a-4064-bb0a-ecde9dc1bbee"
      },
      "source": [
        "y_label = [0] * len(y_val)\n",
        "v_max = max(y_val)\n",
        "v_min = min(y_val)\n",
        "umbral = (v_max-v_min)/2\n",
        "\n",
        "for i in range(len(y_val)):\n",
        "    if(y_val[i]>umbral):\n",
        "        y_label[i]=1\n",
        "    else:\n",
        "        y_label[i]=0\n",
        "\n",
        "print('Accuracy: ',metrics.accuracy_score(y_test, y_label))"
      ],
      "execution_count": 20,
      "outputs": [
        {
          "output_type": "stream",
          "text": [
            "Accuracy:  0.9632731958762887\n"
          ],
          "name": "stdout"
        }
      ]
    },
    {
      "cell_type": "code",
      "metadata": {
        "id": "PnlRvXjkeJR9",
        "colab_type": "code",
        "colab": {
          "base_uri": "https://localhost:8080/",
          "height": 35
        },
        "outputId": "4ae13bfb-850e-4ddd-ea21-04ea48cd334e"
      },
      "source": [
        "model = LogisticRegression(random_state=0).fit(X_train, y_train)\n",
        "scr=model.score(X_test, y_test)\n",
        "print('Accuracy: ',scr)"
      ],
      "execution_count": 21,
      "outputs": [
        {
          "output_type": "stream",
          "text": [
            "Accuracy:  0.970360824742268\n"
          ],
          "name": "stdout"
        }
      ]
    }
  ]
}