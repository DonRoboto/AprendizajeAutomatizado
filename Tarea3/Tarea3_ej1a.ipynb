{
  "nbformat": 4,
  "nbformat_minor": 0,
  "metadata": {
    "colab": {
      "name": "Tarea3_ej1a.ipynb",
      "provenance": [],
      "collapsed_sections": [],
      "authorship_tag": "ABX9TyPGQ1cLwqRMBKUvxw5x+a9i",
      "include_colab_link": true
    },
    "kernelspec": {
      "name": "python3",
      "display_name": "Python 3"
    }
  },
  "cells": [
    {
      "cell_type": "markdown",
      "metadata": {
        "id": "view-in-github",
        "colab_type": "text"
      },
      "source": [
        "<a href=\"https://colab.research.google.com/github/DonRoboto/AprendizajeAutomatizado/blob/master/Tarea3/Tarea3_ej1a.ipynb\" target=\"_parent\"><img src=\"https://colab.research.google.com/assets/colab-badge.svg\" alt=\"Open In Colab\"/></a>"
      ]
    },
    {
      "cell_type": "markdown",
      "metadata": {
        "id": "L1e0nMYXvcea",
        "colab_type": "text"
      },
      "source": [
        "Importamos las librerias necesarias"
      ]
    },
    {
      "cell_type": "code",
      "metadata": {
        "id": "xdYxvMhcvepS",
        "colab_type": "code",
        "colab": {}
      },
      "source": [
        "import pandas as pd\n",
        "import numpy as np\n",
        "import matplotlib.pyplot as plt\n",
        "from sklearn.metrics import mean_squared_error\n",
        "from sklearn.model_selection import train_test_split\n",
        "from sklearn.linear_model import LinearRegression\n",
        "from sklearn.model_selection import cross_val_score\n",
        "from sklearn.preprocessing import PolynomialFeatures\n",
        "from sklearn.pipeline import Pipeline"
      ],
      "execution_count": 0,
      "outputs": []
    },
    {
      "cell_type": "markdown",
      "metadata": {
        "id": "_ChSTI01vhCM",
        "colab_type": "text"
      },
      "source": [
        "Función para evaluar cada modelo en entrenamiento (80%) y validación (20%)"
      ]
    },
    {
      "cell_type": "code",
      "metadata": {
        "id": "8qodSvP2vpw6",
        "colab_type": "code",
        "colab": {}
      },
      "source": [
        "def fit_eval(model, X, y):\n",
        "    X_train, X_test, y_train, y_test = train_test_split(X, y, test_size=0.2)\n",
        "    train_errors, test_errors = [], []\n",
        "\n",
        "    m = len(X_train)\n",
        "    model.fit(X_train[:m], y_train[:m])\n",
        "    \n",
        "    y_train_predict = model.predict(X_train[:m])\n",
        "    y_test_predict = model.predict(X_test)\n",
        "\n",
        "    train_errors.append(mean_squared_error(y_train[:m], y_train_predict))\n",
        "    test_errors.append(mean_squared_error(y_test, y_test_predict))\n",
        "    cv_scores = cross_val_score(model, X, y, scoring=\"neg_root_mean_squared_error\", cv=5)\n",
        "\n",
        "    err_train = np.sqrt(train_errors).mean()\n",
        "    err_test = np.sqrt(test_errors).mean()\n",
        "    err_cv =  cv_scores.mean()\n",
        "    return  err_train, err_test, err_cv\n"
      ],
      "execution_count": 0,
      "outputs": []
    },
    {
      "cell_type": "markdown",
      "metadata": {
        "id": "uEv5Ryg7v2Ki",
        "colab_type": "text"
      },
      "source": [
        "Cargar datos de precios de casas en Boston"
      ]
    },
    {
      "cell_type": "code",
      "metadata": {
        "id": "1mcYKCftv1j2",
        "colab_type": "code",
        "colab": {}
      },
      "source": [
        "url_data = 'https://raw.githubusercontent.com/DonRoboto/AprendizajeAutomatizado/master/Tarea3/housing.data'\n",
        "data = pd.read_csv(url_data,header=None, delimiter=r\"\\s+\")\n",
        "df = data.to_numpy()\n",
        "\n",
        "X = df[:,0:13]\n",
        "y = df[:,13]\n",
        "\n",
        "\n",
        "err_train = []\n",
        "err_test = []\n",
        "err_cv = []\n",
        "\n",
        "et = []\n",
        "ev = []\n",
        "cv = []"
      ],
      "execution_count": 0,
      "outputs": []
    },
    {
      "cell_type": "markdown",
      "metadata": {
        "id": "KWrbva56wc6Q",
        "colab_type": "text"
      },
      "source": [
        "Se evalua el modelo con diferentes grados de expansión polinomial"
      ]
    },
    {
      "cell_type": "code",
      "metadata": {
        "id": "Vb6c12SVwdoh",
        "colab_type": "code",
        "outputId": "ea6423ae-c845-4904-9fa7-65080ad640b8",
        "colab": {
          "base_uri": "https://localhost:8080/",
          "height": 293
        }
      },
      "source": [
        "grado = 5\n",
        "\n",
        "#hacemos el experimento para diferentes grados de expansion polinomica\n",
        "for i in range(1, grado+1):\n",
        "    #realizamos el experimento 10 veces\n",
        "    for n in range(10):\n",
        "      polynomial_regression = Pipeline([\n",
        "              (\"poly_features\", PolynomialFeatures(degree=i, interaction_only=False, include_bias=False)),\n",
        "              (\"lin_reg\", LinearRegression()),\n",
        "              ])\n",
        "\n",
        "      et_ex, ev_ex, cv_ex = fit_eval(polynomial_regression, X, y)\n",
        "      et.append(et_ex)\n",
        "      ev.append(ev_ex)\n",
        "      cv.append(cv_ex)\n",
        "      \n",
        "      \n",
        "    err_train.append(sum(et) / len(et))\n",
        "    err_test.append(sum(ev) / len(ev))\n",
        "    err_cv.append(sum(cv) / len(cv))\n",
        "    print(\"Grado del Polinomio {} Error de Entrenamiento {}\".format(i, sum(et) / len(et)))\n",
        "    print(\"Grado del Polinomio {} Error de Validación {}\".format(i, sum(ev) / len(ev)))\n",
        "    print(\"Grado del Polinomio {} Error de Validación Cruzada {}\".format(i, sum(cv) / len(cv)))"
      ],
      "execution_count": 4,
      "outputs": [
        {
          "output_type": "stream",
          "text": [
            "Grado del Polinomio 1 Error de Entrenamiento 4.628805002533429\n",
            "Grado del Polinomio 1 Error de Validación 4.951471351150628\n",
            "Grado del Polinomio 1 Error de Validación Cruzada -5.8286589462158185\n",
            "Grado del Polinomio 2 Error de Entrenamiento 3.508857297783738\n",
            "Grado del Polinomio 2 Error de Validación 4.389752256840854\n",
            "Grado del Polinomio 2 Error de Validación Cruzada -8.54539442520706\n",
            "Grado del Polinomio 3 Error de Entrenamiento 2.3392406995896198\n",
            "Grado del Polinomio 3 Error de Validación 165.27151351447816\n",
            "Grado del Polinomio 3 Error de Validación Cruzada -10499.22775518637\n",
            "Grado del Polinomio 4 Error de Entrenamiento 1.7544305247686538\n",
            "Grado del Polinomio 4 Error de Validación 205.88414826510024\n",
            "Grado del Polinomio 4 Error de Validación Cruzada -8608.535882703878\n",
            "Grado del Polinomio 5 Error de Entrenamiento 1.4035444199058873\n",
            "Grado del Polinomio 5 Error de Validación 202.65760389136912\n",
            "Grado del Polinomio 5 Error de Validación Cruzada -7548.667440794122\n"
          ],
          "name": "stdout"
        }
      ]
    },
    {
      "cell_type": "markdown",
      "metadata": {
        "id": "xGQC2fwwwz0b",
        "colab_type": "text"
      },
      "source": [
        "Se grafican los niveles de error en entrenamiento y validacion para diferentes grados de expansión polinomial"
      ]
    },
    {
      "cell_type": "code",
      "metadata": {
        "id": "wcjsfmfuw0sX",
        "colab_type": "code",
        "outputId": "1bda5915-7b4b-48d3-9a4b-93df5f43d382",
        "colab": {
          "base_uri": "https://localhost:8080/",
          "height": 369
        }
      },
      "source": [
        "fig, axes = plt.subplots(nrows=3, ncols=1, figsize=(5, 5))\n",
        "axes[0].plot(err_train, \"r\", linewidth=2, label=\"Train\")\n",
        "axes[0].legend(loc=\"best\")\n",
        "\n",
        "axes[1].plot(err_test, \"b\", linewidth=2, label=\"Test\")\n",
        "axes[1].legend(loc=\"best\")\n",
        "\n",
        "axes[2].plot(err_cv, \"g\", linewidth=2, label=\"Cross Validation\")\n",
        "axes[2].legend(loc=\"best\")\n",
        "\n",
        "\n",
        "fig.tight_layout()"
      ],
      "execution_count": 5,
      "outputs": [
        {
          "output_type": "display_data",
          "data": {
            "image/png": "[encoded data removed]",
            "text/plain": [
              "<Figure size 360x360 with 3 Axes>"
            ]
          },
          "metadata": {
            "tags": [],
            "needs_background": "light"
          }
        }
      ]
    }
  ]
}