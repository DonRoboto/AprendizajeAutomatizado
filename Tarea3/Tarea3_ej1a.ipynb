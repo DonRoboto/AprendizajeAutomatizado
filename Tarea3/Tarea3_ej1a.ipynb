{
  "nbformat": 4,
  "nbformat_minor": 0,
  "metadata": {
    "colab": {
      "name": "Tarea3_ej1a.ipynb",
      "provenance": [],
      "authorship_tag": "ABX9TyP0q50hC3IKn+vLtkU3KbW9",
      "include_colab_link": true
    },
    "kernelspec": {
      "name": "python3",
      "display_name": "Python 3"
    }
  },
  "cells": [
    {
      "cell_type": "markdown",
      "metadata": {
        "id": "view-in-github",
        "colab_type": "text"
      },
      "source": [
        "<a href=\"https://colab.research.google.com/github/DonRoboto/AprendizajeAutomatizado/blob/master/Tarea3/Tarea3_ej1a.ipynb\" target=\"_parent\"><img src=\"https://colab.research.google.com/assets/colab-badge.svg\" alt=\"Open In Colab\"/></a>"
      ]
    },
    {
      "cell_type": "markdown",
      "metadata": {
        "id": "Vd0bER-wFHIh",
        "colab_type": "text"
      },
      "source": [
        "Importar librerias"
      ]
    },
    {
      "cell_type": "code",
      "metadata": {
        "id": "dduquqoGFIck",
        "colab_type": "code",
        "colab": {}
      },
      "source": [
        "import numpy as np\n",
        "import pandas as pd\n",
        "import math\n",
        "import random\n"
      ],
      "execution_count": 0,
      "outputs": []
    },
    {
      "cell_type": "markdown",
      "metadata": {
        "id": "oflvHDX7FNGM",
        "colab_type": "text"
      },
      "source": [
        "Cargar datos"
      ]
    },
    {
      "cell_type": "code",
      "metadata": {
        "id": "aHIVl93aFOIt",
        "colab_type": "code",
        "colab": {}
      },
      "source": [
        "df_train =  pd.read_csv(\"https://raw.githubusercontent.com/DonRoboto/AprendizajeAutomatizado/master/Tarea3/juegos_entrenamiento.txt\",header=None, delimiter=r\"\\s+\")\n",
        "data_train = df_train.to_numpy()\n",
        "\n",
        "df_test =  pd.read_csv(\"https://raw.githubusercontent.com/DonRoboto/AprendizajeAutomatizado/master/Tarea3/juegos_validacion.txt\",header=None, delimiter=r\"\\s+\")\n",
        "data_test = df_test.to_numpy()\n",
        "\n",
        "rows_test, cols_test = data_test.shape"
      ],
      "execution_count": 0,
      "outputs": []
    },
    {
      "cell_type": "markdown",
      "metadata": {
        "id": "tgK1mHohFgsb",
        "colab_type": "text"
      },
      "source": [
        "Separar en clases donde gana la columna A y la columna B"
      ]
    },
    {
      "cell_type": "code",
      "metadata": {
        "id": "mZJJE-XPFkms",
        "colab_type": "code",
        "colab": {}
      },
      "source": [
        "#clase GANA A\n",
        "data_A = data_train[data_train[:,2] == 1]\n",
        "x_a_A = data_A[:, 0]\n",
        "x_b_A = data_A[:, 1]\n",
        "\n",
        "#clase GANA B\n",
        "data_B = data_train[data_train[:,2] == 0]\n",
        "x_a_B = data_B[:, 0]\n",
        "x_b_B = data_B[:, 1]"
      ],
      "execution_count": 0,
      "outputs": []
    },
    {
      "cell_type": "markdown",
      "metadata": {
        "id": "uH9BasgeFpMx",
        "colab_type": "text"
      },
      "source": [
        "Parámetros de distribución binomial de las clases"
      ]
    },
    {
      "cell_type": "code",
      "metadata": {
        "id": "D_G6jXZuFspf",
        "colab_type": "code",
        "colab": {
          "base_uri": "https://localhost:8080/",
          "height": 54
        },
        "outputId": "f65dce97-c866-4f9d-a885-86256d1d1ce6"
      },
      "source": [
        "q_a = data_A.shape[0] / data_train.shape[0]\n",
        "q_b = data_B.shape[0] / data_train.shape[0]\n",
        "\n",
        "print(\"q_A=\" + str(q_a))\n",
        "print(\"q_B=\" + str(q_b))"
      ],
      "execution_count": 4,
      "outputs": [
        {
          "output_type": "stream",
          "text": [
            "q_A=0.5235109717868338\n",
            "q_B=0.47648902821316613\n"
          ],
          "name": "stdout"
        }
      ]
    },
    {
      "cell_type": "markdown",
      "metadata": {
        "id": "1ujgKg79FwIC",
        "colab_type": "text"
      },
      "source": [
        "Parámetros de la distribución gaussiana cuando gana A"
      ]
    },
    {
      "cell_type": "code",
      "metadata": {
        "id": "RCir5qAvF1IS",
        "colab_type": "code",
        "colab": {
          "base_uri": "https://localhost:8080/",
          "height": 90
        },
        "outputId": "540aa4aa-68e1-4eab-c06a-9ae6bc31a061"
      },
      "source": [
        "#distribucion gaussiana columna A\n",
        "mu_a_A = x_a_A.mean()\n",
        "sigma_a_A = x_a_A.var()\n",
        "\n",
        "mu_b_A = x_b_A.mean()\n",
        "sigma_b_A = x_b_A.var()\n",
        "\n",
        "print(\"mu de columna A partidas ganadas por A=\" + str(mu_a_A))\n",
        "print(\"sigma de columna A partidas ganadas por A=\" + str(sigma_a_A))\n",
        "\n",
        "print(\"mu de columna B partidas ganadas por A=\" + str(mu_b_A))\n",
        "print(\"sigma de columna B partidas ganadas por A=\" + str(sigma_b_A))"
      ],
      "execution_count": 5,
      "outputs": [
        {
          "output_type": "stream",
          "text": [
            "mu de columna A partidas ganadas por A=63.41317365269461\n",
            "sigma de columna A partidas ganadas por A=1911.8352755566711\n",
            "mu de columna B partidas ganadas por A=59.7185628742515\n",
            "sigma de columna B partidas ganadas por A=1908.441751228083\n"
          ],
          "name": "stdout"
        }
      ]
    },
    {
      "cell_type": "markdown",
      "metadata": {
        "id": "dYtwx1Z4GCwf",
        "colab_type": "text"
      },
      "source": [
        "Parámetros de la distribución gaussiana cuando gana B"
      ]
    },
    {
      "cell_type": "code",
      "metadata": {
        "id": "DODsMc5YGKtb",
        "colab_type": "code",
        "colab": {
          "base_uri": "https://localhost:8080/",
          "height": 90
        },
        "outputId": "f590c0e5-7e0d-4a1d-88e1-7e11255e6ac7"
      },
      "source": [
        "#distribucion gaussiana columna B\n",
        "mu_a_B = x_a_B.mean()\n",
        "sigma_a_B = x_a_B.var()\n",
        "\n",
        "mu_b_B = x_b_B.mean()\n",
        "sigma_b_B = x_b_B.var()\n",
        "\n",
        "\n",
        "print(\"mu de columna A partidas ganadas por B=\" + str(mu_a_B))\n",
        "print(\"sigma de columna A partidas ganadas por B=\" + str(sigma_a_B))\n",
        "\n",
        "print(\"mu de columna B partidas ganadas por B=\" + str(mu_b_B))\n",
        "print(\"sigma de columna B partidas ganadas por B=\" + str(sigma_b_B))"
      ],
      "execution_count": 6,
      "outputs": [
        {
          "output_type": "stream",
          "text": [
            "mu de columna A partidas ganadas por B=59.69736842105263\n",
            "sigma de columna A partidas ganadas por B=1727.6057825484766\n",
            "mu de columna B partidas ganadas por B=68.78289473684211\n",
            "sigma de columna B partidas ganadas por B=1846.9857600415512\n"
          ],
          "name": "stdout"
        }
      ]
    },
    {
      "cell_type": "markdown",
      "metadata": {
        "id": "g2TQRdF5GVnc",
        "colab_type": "text"
      },
      "source": [
        "Con estos parámetros evaluamos en el conjunto de validación"
      ]
    },
    {
      "cell_type": "code",
      "metadata": {
        "id": "B_Rh_VR_GcHb",
        "colab_type": "code",
        "colab": {
          "base_uri": "https://localhost:8080/",
          "height": 35
        },
        "outputId": "60b96559-f635-49e0-f844-e98c1c4ac4a6"
      },
      "source": [
        "CLASES = [1, 0]\n",
        "aciertos=[]\n",
        "\n",
        "for i in range(rows_test):\n",
        "    N_A=data_test[i][0]\n",
        "    N_B=data_test[i][1]\n",
        "    y=data_test[i][2]\n",
        "    \n",
        "    p_cA = (1/math.sqrt(2*3.14*sigma_a_A)) * math.exp(-0.5 * pow((N_A - mu_a_A),2)/sigma_a_A)\\\n",
        "         * (1/math.sqrt(2*3.14*sigma_b_A)) * math.exp(-0.5 * pow((N_B - mu_b_A),2)/sigma_b_A)\n",
        "   \n",
        "    p_cB = (1/math.sqrt(2*3.14*sigma_a_B)) * math.exp(-0.5 * pow((N_A - mu_a_B),2)/sigma_a_B)\\\n",
        "         * (1/math.sqrt(2*3.14*sigma_b_B)) * math.exp(-0.5 * pow((N_B - mu_b_B),2)/sigma_b_B)\n",
        "\n",
        "\n",
        "    C1 = np.argmax([p_cA, p_cB])\n",
        "    if(CLASES[C1]==y):\n",
        "        aciertos.append(1)\n",
        "    else:\n",
        "        aciertos.append(0)\n",
        "        \n",
        "print(sum(aciertos)/len(aciertos))"
      ],
      "execution_count": 7,
      "outputs": [
        {
          "output_type": "stream",
          "text": [
            "0.6608695652173913\n"
          ],
          "name": "stdout"
        }
      ]
    },
    {
      "cell_type": "markdown",
      "metadata": {
        "id": "dycS-RA8GgUx",
        "colab_type": "text"
      },
      "source": [
        "Con estos parámetros podemos calcular partidas de manera artificial"
      ]
    },
    {
      "cell_type": "code",
      "metadata": {
        "id": "SAsBYldsGlsr",
        "colab_type": "code",
        "colab": {
          "base_uri": "https://localhost:8080/",
          "height": 201
        },
        "outputId": "cb94acfb-f30a-4fc4-f116-a751b3f3cce1"
      },
      "source": [
        "partidas = 10\n",
        "for k in range(partidas):\n",
        "  player_A=random.randint(1,142)\n",
        "  player_B=random.randint(1,142)\n",
        "\n",
        "  j_cA = (1/math.sqrt(2*3.14*sigma_a_A)) * math.exp(-0.5 * pow((player_A - mu_a_A),2)/sigma_a_A)\\\n",
        "         * (1/math.sqrt(2*3.14*sigma_b_A)) * math.exp(-0.5 * pow((player_B - mu_b_A),2)/sigma_b_A)\n",
        "   \n",
        "  j_cB = (1/math.sqrt(2*3.14*sigma_a_B)) * math.exp(-0.5 * pow((player_A - mu_a_B),2)/sigma_a_B)\\\n",
        "         * (1/math.sqrt(2*3.14*sigma_b_B)) * math.exp(-0.5 * pow((player_B - mu_b_B),2)/sigma_b_B)\n",
        "\n",
        "\n",
        "  C1 = np.argmax([j_cA, j_cB])\n",
        "  print(player_A, player_B, C1)"
      ],
      "execution_count": 9,
      "outputs": [
        {
          "output_type": "stream",
          "text": [
            "66 136 1\n",
            "70 106 1\n",
            "108 67 0\n",
            "8 125 1\n",
            "133 113 0\n",
            "4 16 0\n",
            "76 122 1\n",
            "103 85 1\n",
            "87 4 0\n",
            "92 42 0\n"
          ],
          "name": "stdout"
        }
      ]
    }
  ]
}