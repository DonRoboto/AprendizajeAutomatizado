{
  "nbformat": 4,
  "nbformat_minor": 0,
  "metadata": {
    "colab": {
      "name": "Tarea3_ej1a.ipynb",
      "provenance": [],
      "authorship_tag": "ABX9TyOCsZFQyFf54riaw7NnpyFA",
      "include_colab_link": true
    },
    "kernelspec": {
      "name": "python3",
      "display_name": "Python 3"
    }
  },
  "cells": [
    {
      "cell_type": "markdown",
      "metadata": {
        "id": "view-in-github",
        "colab_type": "text"
      },
      "source": [
        "<a href=\"https://colab.research.google.com/github/DonRoboto/AprendizajeAutomatizado/blob/master/Tarea3/Tarea3_ej1a.ipynb\" target=\"_parent\"><img src=\"https://colab.research.google.com/assets/colab-badge.svg\" alt=\"Open In Colab\"/></a>"
      ]
    },
    {
      "cell_type": "markdown",
      "metadata": {
        "id": "L1e0nMYXvcea",
        "colab_type": "text"
      },
      "source": [
        "Importamos las librerias necesarias"
      ]
    },
    {
      "cell_type": "code",
      "metadata": {
        "id": "xdYxvMhcvepS",
        "colab_type": "code",
        "colab": {}
      },
      "source": [
        "import pandas as pd\n",
        "import numpy as np\n",
        "import matplotlib.pyplot as plt\n",
        "from sklearn.metrics import mean_squared_error\n",
        "from sklearn.model_selection import train_test_split\n",
        "from sklearn.linear_model import LinearRegression\n",
        "from sklearn.model_selection import cross_val_score\n",
        "from sklearn.preprocessing import PolynomialFeatures\n",
        "from sklearn.pipeline import Pipeline"
      ],
      "execution_count": 0,
      "outputs": []
    },
    {
      "cell_type": "markdown",
      "metadata": {
        "id": "_ChSTI01vhCM",
        "colab_type": "text"
      },
      "source": [
        "Función para evaluar cada modelo en entrenamiento (80%) y validación (20%)"
      ]
    },
    {
      "cell_type": "code",
      "metadata": {
        "id": "8qodSvP2vpw6",
        "colab_type": "code",
        "colab": {}
      },
      "source": [
        "def fit_eval(model, X, y):\n",
        "    X_train, X_test, y_train, y_test = train_test_split(X, y, test_size=0.2)\n",
        "    train_errors, test_errors = [], []\n",
        "\n",
        "    m = len(X_train)\n",
        "    model.fit(X_train[:m], y_train[:m])\n",
        "\n",
        "    cv_scores = cross_val_score(model, X, y, scoring=\"neg_root_mean_squared_error\", cv=5)\n",
        "    \n",
        "    y_train_predict = model.predict(X_train[:m])\n",
        "    y_test_predict = model.predict(X_test)\n",
        "\n",
        "    train_errors.append(mean_squared_error(y_train[:m], y_train_predict))\n",
        "    test_errors.append(mean_squared_error(y_test, y_test_predict))\n",
        "\n",
        "    err_train = np.sqrt(train_errors).mean()\n",
        "    err_test = np.sqrt(test_errors).mean() \n",
        "    return  err_train, err_test, cv_scores.mean()\n"
      ],
      "execution_count": 0,
      "outputs": []
    },
    {
      "cell_type": "markdown",
      "metadata": {
        "id": "uEv5Ryg7v2Ki",
        "colab_type": "text"
      },
      "source": [
        "Cargar datos de precios de casas en Boston"
      ]
    },
    {
      "cell_type": "code",
      "metadata": {
        "id": "1mcYKCftv1j2",
        "colab_type": "code",
        "colab": {}
      },
      "source": [
        "url_data = 'https://raw.githubusercontent.com/DonRoboto/AprendizajeAutomatizado/master/Tarea3/housing.data'\n",
        "data = pd.read_csv(url_data,header=None, delimiter=r\"\\s+\")\n",
        "df = data.to_numpy()\n",
        "\n",
        "X = df[:,0:13]\n",
        "y = df[:,13]\n",
        "\n",
        "\n",
        "err_train = []\n",
        "err_test = []\n",
        "err_cv = []\n",
        "\n",
        "et = []\n",
        "ev = []\n",
        "cv = []"
      ],
      "execution_count": 0,
      "outputs": []
    },
    {
      "cell_type": "markdown",
      "metadata": {
        "id": "KWrbva56wc6Q",
        "colab_type": "text"
      },
      "source": [
        "Se evalua el modelo con diferentes grados de expansión polinomial"
      ]
    },
    {
      "cell_type": "code",
      "metadata": {
        "id": "Vb6c12SVwdoh",
        "colab_type": "code",
        "outputId": "5fea4501-40b9-4d48-a83f-dc4d274bcc0c",
        "colab": {
          "base_uri": "https://localhost:8080/",
          "height": 1000
        }
      },
      "source": [
        "grado = 20\n",
        "\n",
        "\n",
        "\n",
        "\n",
        "\n",
        "#hacemos el experimento para diferentes grados de expansion polinomica\n",
        "for i in range(1, grado+1):\n",
        "    for n in range(10):\n",
        "      polynomial_regression = Pipeline([\n",
        "              (\"poly_features\", PolynomialFeatures(degree=i, interaction_only=True, include_bias=False)),\n",
        "              (\"lin_reg\", LinearRegression()),\n",
        "              ])\n",
        "\n",
        "      et_ex, ev_ex, cv_ex = fit_eval(polynomial_regression, X, y)\n",
        "      et.append(et_ex)\n",
        "      ev.append(ev_ex)\n",
        "      cv.append(cv_ex)\n",
        "\n",
        "    err_train.append(sum(et) / len(et))\n",
        "    err_test.append(sum(ev) / len(ev))\n",
        "    err_cv.append(sum(cv) / len(cv))\n",
        "    print(\"Grado del Polinomio {} Error de Entrenamiento {}\".format(i, sum(et) / len(et)))\n",
        "    print(\"Grado del Polinomio {} Error de Validación {}\".format(i, sum(ev) / len(ev)))\n",
        "    print(\"Grado del Polinomio {} Error de Validación Cruzada {}\".format(i, sum(cv) / len(cv)))"
      ],
      "execution_count": 38,
      "outputs": [
        {
          "output_type": "stream",
          "text": [
            "Grado del Polinomio 1 Error de Entrenamiento 4.66159191804684\n",
            "Grado del Polinomio 1 Error de Validación 4.823205699054667\n",
            "Grado del Polinomio 1 Error de Validación Cruzada -5.8286589462158185\n",
            "Grado del Polinomio 2 Error de Entrenamiento 3.5785337851017545\n",
            "Grado del Polinomio 2 Error de Validación 4.254546468151707\n",
            "Grado del Polinomio 2 Error de Validación Cruzada -8.1302811781113\n",
            "Grado del Polinomio 3 Error de Entrenamiento 2.7284514651045693\n",
            "Grado del Polinomio 3 Error de Validación 10.915699522641743\n",
            "Grado del Polinomio 3 Error de Validación Cruzada -287.17011020594185\n",
            "Grado del Polinomio 4 Error de Entrenamiento 2.0608082158008947\n",
            "Grado del Polinomio 4 Error de Validación 1104.0653947724436\n",
            "Grado del Polinomio 4 Error de Validación Cruzada -1076.030035485583\n",
            "Grado del Polinomio 5 Error de Entrenamiento 1.648646801725707\n",
            "Grado del Polinomio 5 Error de Validación 1604.4465490867528\n",
            "Grado del Polinomio 5 Error de Validación Cruzada -7484.383536100796\n",
            "Grado del Polinomio 6 Error de Entrenamiento 1.3738723388660625\n",
            "Grado del Polinomio 6 Error de Validación 1403.066597360317\n",
            "Grado del Polinomio 6 Error de Validación Cruzada -84765.31173848151\n",
            "Grado del Polinomio 7 Error de Entrenamiento 1.1776050568858116\n",
            "Grado del Polinomio 7 Error de Validación 1242.001133463766\n",
            "Grado del Polinomio 7 Error de Validación Cruzada -125405.43133393682\n",
            "Grado del Polinomio 8 Error de Entrenamiento 1.030404490180299\n",
            "Grado del Polinomio 8 Error de Validación 1118.9162692439652\n",
            "Grado del Polinomio 8 Error de Validación Cruzada -153189.37176623062\n",
            "Grado del Polinomio 9 Error de Entrenamiento 0.9159157502547605\n",
            "Grado del Polinomio 9 Error de Validación 1057.2828854454458\n",
            "Grado del Polinomio 9 Error de Validación Cruzada -242859.9917393022\n",
            "Grado del Polinomio 10 Error de Entrenamiento 0.8243244902311484\n",
            "Grado del Polinomio 10 Error de Validación 985.3841263390533\n",
            "Grado del Polinomio 10 Error de Validación Cruzada -276115.8812320483\n",
            "Grado del Polinomio 11 Error de Entrenamiento 0.7493862089066332\n",
            "Grado del Polinomio 11 Error de Validación 930.9535974802479\n",
            "Grado del Polinomio 11 Error de Validación Cruzada -305410.1663411823\n",
            "Grado del Polinomio 12 Error de Entrenamiento 0.686938695260185\n",
            "Grado del Polinomio 12 Error de Validación 956.8282957668339\n",
            "Grado del Polinomio 12 Error de Validación Cruzada -329317.700733812\n",
            "Grado del Polinomio 13 Error de Entrenamiento 0.6340987703113999\n",
            "Grado del Polinomio 13 Error de Validación 931.3187337647294\n",
            "Grado del Polinomio 13 Error de Validación Cruzada -348944.13163638243\n",
            "Grado del Polinomio 14 Error de Entrenamiento 0.5888064459391648\n",
            "Grado del Polinomio 14 Error de Validación 915.1634730220856\n",
            "Grado del Polinomio 14 Error de Validación Cruzada -365766.7866957284\n",
            "Grado del Polinomio 15 Error de Entrenamiento 0.5495531481898983\n",
            "Grado del Polinomio 15 Error de Validación 869.4828906697683\n",
            "Grado del Polinomio 15 Error de Validación Cruzada -380346.421080495\n",
            "Grado del Polinomio 16 Error de Entrenamiento 0.5152069774959831\n",
            "Grado del Polinomio 16 Error de Validación 860.4971433088582\n",
            "Grado del Polinomio 16 Error de Validación Cruzada -393103.6011671658\n",
            "Grado del Polinomio 17 Error de Entrenamiento 0.48490194746990883\n",
            "Grado del Polinomio 17 Error de Validación 852.4362453155322\n",
            "Grado del Polinomio 17 Error de Validación Cruzada -404359.93653775763\n",
            "Grado del Polinomio 18 Error de Entrenamiento 0.45796356482080314\n",
            "Grado del Polinomio 18 Error de Validación 856.8321293187278\n",
            "Grado del Polinomio 18 Error de Validación Cruzada -414365.5679782837\n",
            "Grado del Polinomio 19 Error de Entrenamiento 0.43386055877741136\n",
            "Grado del Polinomio 19 Error de Validación 847.1154979932497\n",
            "Grado del Polinomio 19 Error de Validación Cruzada -423317.9750566491\n",
            "Grado del Polinomio 20 Error de Entrenamiento 0.41216785470523154\n",
            "Grado del Polinomio 20 Error de Validación 837.0682546741743\n",
            "Grado del Polinomio 20 Error de Validación Cruzada -431375.141427178\n"
          ],
          "name": "stdout"
        }
      ]
    },
    {
      "cell_type": "markdown",
      "metadata": {
        "id": "xGQC2fwwwz0b",
        "colab_type": "text"
      },
      "source": [
        "Se grafican los niveles de error en entrenamiento y validacion para diferentes grados de expansión polinomial"
      ]
    },
    {
      "cell_type": "code",
      "metadata": {
        "id": "wcjsfmfuw0sX",
        "colab_type": "code",
        "outputId": "19600a46-1667-446f-fb17-e480bf973193",
        "colab": {
          "base_uri": "https://localhost:8080/",
          "height": 369
        }
      },
      "source": [
        "fig, axes = plt.subplots(nrows=3, ncols=1, figsize=(5, 5))\n",
        "axes[0].plot(err_train, \"r\", linewidth=2, label=\"Train\")\n",
        "axes[0].legend(loc=\"best\")\n",
        "\n",
        "axes[1].plot(err_test, \"b\", linewidth=2, label=\"Test\")\n",
        "axes[1].legend(loc=\"best\")\n",
        "\n",
        "axes[2].plot(err_cv, \"g\", linewidth=2, label=\"Cross Validation\")\n",
        "axes[2].legend(loc=\"best\")\n",
        "\n",
        "\n",
        "fig.tight_layout()"
      ],
      "execution_count": 39,
      "outputs": [
        {
          "output_type": "display_data",
          "data": {
            "image/png": "[encoded data removed]",
            "text/plain": [
              "<Figure size 360x360 with 3 Axes>"
            ]
          },
          "metadata": {
            "tags": [],
            "needs_background": "light"
          }
        }
      ]
    }
  ]
}