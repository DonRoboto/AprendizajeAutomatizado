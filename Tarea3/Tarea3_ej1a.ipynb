{
  "nbformat": 4,
  "nbformat_minor": 0,
  "metadata": {
    "colab": {
      "name": "Tarea3_ej1a.ipynb",
      "provenance": [],
      "authorship_tag": "ABX9TyPZQj+/rGs6PifaFD69mzac",
      "include_colab_link": true
    },
    "kernelspec": {
      "name": "python3",
      "display_name": "Python 3"
    }
  },
  "cells": [
    {
      "cell_type": "markdown",
      "metadata": {
        "id": "view-in-github",
        "colab_type": "text"
      },
      "source": [
        "<a href=\"https://colab.research.google.com/github/DonRoboto/AprendizajeAutomatizado/blob/master/Tarea3/Tarea3_ej1a.ipynb\" target=\"_parent\"><img src=\"https://colab.research.google.com/assets/colab-badge.svg\" alt=\"Open In Colab\"/></a>"
      ]
    },
    {
      "cell_type": "markdown",
      "metadata": {
        "id": "L1e0nMYXvcea",
        "colab_type": "text"
      },
      "source": [
        "Importamos las librerias necesarias"
      ]
    },
    {
      "cell_type": "code",
      "metadata": {
        "id": "xdYxvMhcvepS",
        "colab_type": "code",
        "colab": {}
      },
      "source": [
        "import pandas as pd\n",
        "import numpy as np\n",
        "import matplotlib.pyplot as plt\n",
        "from sklearn.metrics import mean_squared_error\n",
        "from sklearn.model_selection import train_test_split\n",
        "from sklearn.linear_model import LinearRegression\n",
        "from sklearn.preprocessing import PolynomialFeatures\n",
        "from sklearn.pipeline import Pipeline"
      ],
      "execution_count": 0,
      "outputs": []
    },
    {
      "cell_type": "markdown",
      "metadata": {
        "id": "_ChSTI01vhCM",
        "colab_type": "text"
      },
      "source": [
        "Función para evaluar cada modelo en entrenamiento (80%) y validación (20%)"
      ]
    },
    {
      "cell_type": "code",
      "metadata": {
        "id": "8qodSvP2vpw6",
        "colab_type": "code",
        "colab": {}
      },
      "source": [
        "def fit_eval(model, X, y):\n",
        "    X_train, X_test, y_train, y_test = train_test_split(X, y, test_size=0.2)\n",
        "    train_errors, test_errors = [], []\n",
        "\n",
        "    m = len(X_train)\n",
        "    model.fit(X_train[:m], y_train[:m])\n",
        "    \n",
        "    y_train_predict = model.predict(X_train[:m])\n",
        "    y_test_predict = model.predict(X_test)\n",
        "\n",
        "    train_errors.append(mean_squared_error(y_train[:m], y_train_predict))\n",
        "    test_errors.append(mean_squared_error(y_test, y_test_predict))\n",
        "\n",
        "    err_train = np.sqrt(train_errors).mean()\n",
        "    err_test = np.sqrt(test_errors).mean() \n",
        "    return  err_train, err_test\n"
      ],
      "execution_count": 0,
      "outputs": []
    },
    {
      "cell_type": "markdown",
      "metadata": {
        "id": "uEv5Ryg7v2Ki",
        "colab_type": "text"
      },
      "source": [
        "Cargar datos de precios de casas en Boston"
      ]
    },
    {
      "cell_type": "code",
      "metadata": {
        "id": "1mcYKCftv1j2",
        "colab_type": "code",
        "colab": {}
      },
      "source": [
        "url_data = 'https://raw.githubusercontent.com/DonRoboto/AprendizajeAutomatizado/master/Tarea3/housing.data'\n",
        "data = pd.read_csv(url_data,header=None, delimiter=r\"\\s+\")\n",
        "df = data.to_numpy()\n",
        "\n",
        "X = df[:,0:13]\n",
        "y = df[:,13]\n",
        "\n",
        "err_train = []\n",
        "err_test = []"
      ],
      "execution_count": 0,
      "outputs": []
    },
    {
      "cell_type": "markdown",
      "metadata": {
        "id": "KWrbva56wc6Q",
        "colab_type": "text"
      },
      "source": [
        "Se evalua el modelo con diferentes grados de expansión polinomial"
      ]
    },
    {
      "cell_type": "code",
      "metadata": {
        "id": "Vb6c12SVwdoh",
        "colab_type": "code",
        "colab": {
          "base_uri": "https://localhost:8080/",
          "height": 1000
        },
        "outputId": "4a1d2e75-9ff5-4cc8-d47a-0b27ca571045"
      },
      "source": [
        "grado = 30\n",
        "for i in range(1, grado+1):\n",
        "    polynomial_regression = Pipeline([\n",
        "            (\"poly_features\", PolynomialFeatures(degree=grado, interaction_only=True, include_bias=False)),\n",
        "            (\"lin_reg\", LinearRegression()),\n",
        "            ])\n",
        "\n",
        "    et, ev = fit_eval(polynomial_regression, X, y)\n",
        "    err_train.append(et)\n",
        "    err_test.append(ev)\n",
        "    print(\"Grado del Polinomio {} Error de Entrenamiento {}\".format(i, et))\n",
        "    print(\"Grado del Polinomio {} Error de Validación {}\".format(i, ev))"
      ],
      "execution_count": 6,
      "outputs": [
        {
          "output_type": "stream",
          "text": [
            "Grado del Polinomio 1 Error de Entrenamiento 4.342787390361315e-06\n",
            "Grado del Polinomio 1 Error de Validación 346.6003537329771\n",
            "Grado del Polinomio 2 Error de Entrenamiento 1.1676898108879046e-05\n",
            "Grado del Polinomio 2 Error de Validación 268.8991834440288\n",
            "Grado del Polinomio 3 Error de Entrenamiento 1.647072569578795e-08\n",
            "Grado del Polinomio 3 Error de Validación 2534.437429025663\n",
            "Grado del Polinomio 4 Error de Entrenamiento 1.1428175467472656e-05\n",
            "Grado del Polinomio 4 Error de Validación 466.84404511121704\n",
            "Grado del Polinomio 5 Error de Entrenamiento 5.182260472445401e-09\n",
            "Grado del Polinomio 5 Error de Validación 225.1643284573125\n",
            "Grado del Polinomio 6 Error de Entrenamiento 1.542680203051754e-08\n",
            "Grado del Polinomio 6 Error de Validación 804.213491335488\n",
            "Grado del Polinomio 7 Error de Entrenamiento 3.5714229667334175e-08\n",
            "Grado del Polinomio 7 Error de Validación 628.6982275318155\n",
            "Grado del Polinomio 8 Error de Entrenamiento 1.0801856503892661e-08\n",
            "Grado del Polinomio 8 Error de Validación 263.6869572526673\n",
            "Grado del Polinomio 9 Error de Entrenamiento 2.0073883854756283e-05\n",
            "Grado del Polinomio 9 Error de Validación 615.298273947999\n",
            "Grado del Polinomio 10 Error de Entrenamiento 2.3904973339186344e-09\n",
            "Grado del Polinomio 10 Error de Validación 304.48820527710785\n",
            "Grado del Polinomio 11 Error de Entrenamiento 1.1886647653318488e-05\n",
            "Grado del Polinomio 11 Error de Validación 3994.117089554784\n",
            "Grado del Polinomio 12 Error de Entrenamiento 3.858224082658758e-09\n",
            "Grado del Polinomio 12 Error de Validación 589.5190277980863\n",
            "Grado del Polinomio 13 Error de Entrenamiento 5.580635341919852e-09\n",
            "Grado del Polinomio 13 Error de Validación 392.43920790870186\n",
            "Grado del Polinomio 14 Error de Entrenamiento 1.4466386787763757e-05\n",
            "Grado del Polinomio 14 Error de Validación 1206.6518432263708\n",
            "Grado del Polinomio 15 Error de Entrenamiento 3.984900258018067e-06\n",
            "Grado del Polinomio 15 Error de Validación 150.02327735567718\n",
            "Grado del Polinomio 16 Error de Entrenamiento 4.055189924550453e-09\n",
            "Grado del Polinomio 16 Error de Validación 173.59634683628946\n",
            "Grado del Polinomio 17 Error de Entrenamiento 3.299820085429785e-08\n",
            "Grado del Polinomio 17 Error de Validación 574.1044576973703\n",
            "Grado del Polinomio 18 Error de Entrenamiento 4.158686662632574e-09\n",
            "Grado del Polinomio 18 Error de Validación 747.6142397216462\n",
            "Grado del Polinomio 19 Error de Entrenamiento 1.7053899839791974e-06\n",
            "Grado del Polinomio 19 Error de Validación 1316.928414231448\n",
            "Grado del Polinomio 20 Error de Entrenamiento 3.197531728410979e-08\n",
            "Grado del Polinomio 20 Error de Validación 754.5468160668541\n",
            "Grado del Polinomio 21 Error de Entrenamiento 6.430308274587023e-09\n",
            "Grado del Polinomio 21 Error de Validación 281.7126309916877\n",
            "Grado del Polinomio 22 Error de Entrenamiento 3.4733905084938126e-08\n",
            "Grado del Polinomio 22 Error de Validación 14310.886315852285\n",
            "Grado del Polinomio 23 Error de Entrenamiento 3.0800220439242974e-07\n",
            "Grado del Polinomio 23 Error de Validación 387.8317161403192\n",
            "Grado del Polinomio 24 Error de Entrenamiento 1.4173585967224865e-08\n",
            "Grado del Polinomio 24 Error de Validación 243.81533574304805\n",
            "Grado del Polinomio 25 Error de Entrenamiento 1.6995817451679778e-05\n",
            "Grado del Polinomio 25 Error de Validación 1025.3438501136939\n",
            "Grado del Polinomio 26 Error de Entrenamiento 2.765607909498183e-08\n",
            "Grado del Polinomio 26 Error de Validación 3182.1089485630728\n",
            "Grado del Polinomio 27 Error de Entrenamiento 1.0019446876220771e-08\n",
            "Grado del Polinomio 27 Error de Validación 247.5600152000396\n",
            "Grado del Polinomio 28 Error de Entrenamiento 8.107833746003073e-06\n",
            "Grado del Polinomio 28 Error de Validación 1894.4384009531936\n",
            "Grado del Polinomio 29 Error de Entrenamiento 5.947303603009094e-09\n",
            "Grado del Polinomio 29 Error de Validación 560.4724572857083\n",
            "Grado del Polinomio 30 Error de Entrenamiento 9.480174442825732e-09\n",
            "Grado del Polinomio 30 Error de Validación 401.34833510022327\n"
          ],
          "name": "stdout"
        }
      ]
    },
    {
      "cell_type": "markdown",
      "metadata": {
        "id": "xGQC2fwwwz0b",
        "colab_type": "text"
      },
      "source": [
        "Se grafican los niveles de error en entrenamiento y validacion para diferentes grados de expansión polinomial"
      ]
    },
    {
      "cell_type": "code",
      "metadata": {
        "id": "wcjsfmfuw0sX",
        "colab_type": "code",
        "colab": {
          "base_uri": "https://localhost:8080/",
          "height": 369
        },
        "outputId": "766e806b-d9dd-4035-ee14-d2462a687df4"
      },
      "source": [
        "fig, axes = plt.subplots(nrows=2, ncols=1, figsize=(5, 5))\n",
        "axes[0].plot(err_train, \"r\", linewidth=2, label=\"Train\")\n",
        "axes[0].legend(loc=\"best\")\n",
        "\n",
        "axes[1].plot(err_test, \"b\", linewidth=2, label=\"Test\")\n",
        "axes[1].legend(loc=\"best\")\n",
        "fig.tight_layout()"
      ],
      "execution_count": 7,
      "outputs": [
        {
          "output_type": "display_data",
          "data": {
            "image/png": "[encoded data removed]",
            "text/plain": [
              "<Figure size 360x360 with 2 Axes>"
            ]
          },
          "metadata": {
            "tags": [],
            "needs_background": "light"
          }
        }
      ]
    }
  ]
}