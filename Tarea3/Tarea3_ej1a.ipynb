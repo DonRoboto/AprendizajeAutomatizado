{
  "nbformat": 4,
  "nbformat_minor": 0,
  "metadata": {
    "colab": {
      "name": "Tarea3_ej1a.ipynb",
      "provenance": [],
      "collapsed_sections": [],
      "include_colab_link": true
    },
    "kernelspec": {
      "name": "python3",
      "display_name": "Python 3"
    }
  },
  "cells": [
    {
      "cell_type": "markdown",
      "metadata": {
        "id": "view-in-github",
        "colab_type": "text"
      },
      "source": [
        "<a href=\"https://colab.research.google.com/github/DonRoboto/AprendizajeAutomatizado/blob/master/Tarea3/Tarea3_ej1a.ipynb\" target=\"_parent\"><img src=\"https://colab.research.google.com/assets/colab-badge.svg\" alt=\"Open In Colab\"/></a>"
      ]
    },
    {
      "cell_type": "markdown",
      "metadata": {
        "id": "L1e0nMYXvcea",
        "colab_type": "text"
      },
      "source": [
        "Importamos las librerias necesarias"
      ]
    },
    {
      "cell_type": "code",
      "metadata": {
        "id": "xdYxvMhcvepS",
        "colab_type": "code",
        "colab": {}
      },
      "source": [
        "import pandas as pd\n",
        "import numpy as np\n",
        "import matplotlib.pyplot as plt\n",
        "from sklearn.metrics import mean_squared_error\n",
        "from sklearn.model_selection import train_test_split\n",
        "from sklearn.linear_model import LinearRegression\n",
        "from sklearn.model_selection import cross_val_score\n",
        "from sklearn.preprocessing import PolynomialFeatures\n",
        "from sklearn.pipeline import Pipeline"
      ],
      "execution_count": 0,
      "outputs": []
    },
    {
      "cell_type": "markdown",
      "metadata": {
        "id": "_ChSTI01vhCM",
        "colab_type": "text"
      },
      "source": [
        "Función para evaluar cada modelo en entrenamiento (80%) y validación (20%)"
      ]
    },
    {
      "cell_type": "code",
      "metadata": {
        "id": "8qodSvP2vpw6",
        "colab_type": "code",
        "colab": {}
      },
      "source": [
        "def fit_eval(model, X, y):\n",
        "    X_train, X_test, y_train, y_test = train_test_split(X, y, test_size=0.2)\n",
        "    train_errors, test_errors = [], []\n",
        "\n",
        "    m = len(X_train)\n",
        "    model.fit(X_train[:m], y_train[:m])\n",
        "    \n",
        "    y_train_predict = model.predict(X_train[:m])\n",
        "    y_test_predict = model.predict(X_test)\n",
        "\n",
        "    train_errors.append(mean_squared_error(y_train[:m], y_train_predict))\n",
        "    test_errors.append(mean_squared_error(y_test, y_test_predict))\n",
        "    cv_scores = cross_val_score(model, X, y, scoring=\"neg_root_mean_squared_error\", cv=5)\n",
        "\n",
        "    err_train = np.sqrt(train_errors).mean()\n",
        "    err_test = np.sqrt(test_errors).mean()\n",
        "    err_cv =  cv_scores.mean()\n",
        "    return  err_train, err_test, err_cv\n"
      ],
      "execution_count": 0,
      "outputs": []
    },
    {
      "cell_type": "markdown",
      "metadata": {
        "id": "uEv5Ryg7v2Ki",
        "colab_type": "text"
      },
      "source": [
        "Cargar datos de precios de casas en Boston"
      ]
    },
    {
      "cell_type": "code",
      "metadata": {
        "id": "1mcYKCftv1j2",
        "colab_type": "code",
        "colab": {}
      },
      "source": [
        "url_data = 'https://raw.githubusercontent.com/DonRoboto/AprendizajeAutomatizado/master/Tarea3/housing.data'\n",
        "data = pd.read_csv(url_data,header=None, delimiter=r\"\\s+\")\n",
        "df = data.to_numpy()\n",
        "\n",
        "X = df[:,0:13]\n",
        "y = df[:,13]\n",
        "\n",
        "\n",
        "err_train = []\n",
        "err_test = []\n",
        "err_cv = []\n",
        "\n",
        "et = []\n",
        "ev = []\n",
        "cv = []"
      ],
      "execution_count": 0,
      "outputs": []
    },
    {
      "cell_type": "markdown",
      "metadata": {
        "id": "KWrbva56wc6Q",
        "colab_type": "text"
      },
      "source": [
        "Se evalua el modelo con diferentes grados de expansión polinomial"
      ]
    },
    {
      "cell_type": "code",
      "metadata": {
        "id": "Vb6c12SVwdoh",
        "colab_type": "code",
        "outputId": "93b862cd-572c-4dd9-c196-fa4e4b115a6c",
        "colab": {
          "base_uri": "https://localhost:8080/",
          "height": 1000
        }
      },
      "source": [
        "grado = 20\n",
        "\n",
        "#hacemos el experimento para diferentes grados de expansion polinomica\n",
        "for i in range(1, grado+1):\n",
        "    #realizamos el experimento 10 veces\n",
        "    for n in range(10):\n",
        "      polynomial_regression = Pipeline([\n",
        "              (\"poly_features\", PolynomialFeatures(degree=i, interaction_only=True, include_bias=False)),\n",
        "              (\"lin_reg\", LinearRegression()),\n",
        "              ])\n",
        "\n",
        "      et_ex, ev_ex, cv_ex = fit_eval(polynomial_regression, X, y)\n",
        "      et.append(et_ex)\n",
        "      ev.append(ev_ex)\n",
        "      cv.append(cv_ex)\n",
        "      \n",
        "      \n",
        "    err_train.append(sum(et) / len(et))\n",
        "    err_test.append(sum(ev) / len(ev))\n",
        "    err_cv.append(sum(cv) / len(cv))\n",
        "    print(\"Grado del Polinomio {} Error de Entrenamiento {}\".format(i, sum(et) / len(et)))\n",
        "    print(\"Grado del Polinomio {} Error de Validación {}\".format(i, sum(ev) / len(ev)))\n",
        "    print(\"Grado del Polinomio {} Error de Validación Cruzada {}\".format(i, sum(cv) / len(cv)))"
      ],
      "execution_count": 4,
      "outputs": [
        {
          "output_type": "stream",
          "text": [
            "Grado del Polinomio 1 Error de Entrenamiento 4.533269368165103\n",
            "Grado del Polinomio 1 Error de Validación 5.283022383727387\n",
            "Grado del Polinomio 1 Error de Validación Cruzada -5.8286589462158185\n",
            "Grado del Polinomio 2 Error de Entrenamiento 3.5096239941079226\n",
            "Grado del Polinomio 2 Error de Validación 4.459891100307001\n",
            "Grado del Polinomio 2 Error de Validación Cruzada -8.1302811781113\n",
            "Grado del Polinomio 3 Error de Entrenamiento 2.68936608272471\n",
            "Grado del Polinomio 3 Error de Validación 17.15151528438361\n",
            "Grado del Polinomio 3 Error de Validación Cruzada -287.17011020594185\n",
            "Grado del Polinomio 4 Error de Entrenamiento 2.0387644768838142\n",
            "Grado del Polinomio 4 Error de Validación 577.7182857527939\n",
            "Grado del Polinomio 4 Error de Validación Cruzada -1076.030035485583\n",
            "Grado del Polinomio 5 Error de Entrenamiento 1.6310119396459835\n",
            "Grado del Polinomio 5 Error de Validación 731.2833029882485\n",
            "Grado del Polinomio 5 Error de Validación Cruzada -7484.383536100796\n",
            "Grado del Polinomio 6 Error de Entrenamiento 1.3591766234243192\n",
            "Grado del Polinomio 6 Error de Validación 666.0417576159634\n",
            "Grado del Polinomio 6 Error de Validación Cruzada -84765.31173848151\n",
            "Grado del Polinomio 7 Error de Entrenamiento 1.165008596990194\n",
            "Grado del Polinomio 7 Error de Validación 614.8950726541059\n",
            "Grado del Polinomio 7 Error de Validación Cruzada -125405.43133393682\n",
            "Grado del Polinomio 8 Error de Entrenamiento 1.019382618081811\n",
            "Grado del Polinomio 8 Error de Validación 585.7631098246741\n",
            "Grado del Polinomio 8 Error de Validación Cruzada -153189.37176623062\n",
            "Grado del Polinomio 9 Error de Entrenamiento 0.9061179924587006\n",
            "Grado del Polinomio 9 Error de Validación 571.9185559866542\n",
            "Grado del Polinomio 9 Error de Validación Cruzada -242859.9917393022\n",
            "Grado del Polinomio 10 Error de Entrenamiento 0.8155066502075224\n",
            "Grado del Polinomio 10 Error de Validación 576.7984839433467\n",
            "Grado del Polinomio 10 Error de Validación Cruzada -276115.8812320483\n",
            "Grado del Polinomio 11 Error de Entrenamiento 0.7413697962068434\n",
            "Grado del Polinomio 11 Error de Validación 619.7916058435954\n",
            "Grado del Polinomio 11 Error de Validación Cruzada -305410.1663411823\n",
            "Grado del Polinomio 12 Error de Entrenamiento 0.6795896974341132\n",
            "Grado del Polinomio 12 Error de Validación 688.8909456379897\n",
            "Grado del Polinomio 12 Error de Validación Cruzada -329317.700733812\n",
            "Grado del Polinomio 13 Error de Entrenamiento 0.627314443277145\n",
            "Grado del Polinomio 13 Error de Validación 673.369904304746\n",
            "Grado del Polinomio 13 Error de Validación Cruzada -348944.13163638243\n",
            "Grado del Polinomio 14 Error de Entrenamiento 0.5825070231862445\n",
            "Grado del Polinomio 14 Error de Validación 683.8220460920601\n",
            "Grado del Polinomio 14 Error de Validación Cruzada -365766.7866957284\n",
            "Grado del Polinomio 15 Error de Entrenamiento 0.5436745103839901\n",
            "Grado del Polinomio 15 Error de Validación 678.4329981203155\n",
            "Grado del Polinomio 15 Error de Validación Cruzada -380346.421080495\n",
            "Grado del Polinomio 16 Error de Entrenamiento 0.5096957239822071\n",
            "Grado del Polinomio 16 Error de Validación 718.0611182168925\n",
            "Grado del Polinomio 16 Error de Validación Cruzada -393103.6011671658\n",
            "Grado del Polinomio 17 Error de Entrenamiento 0.47971410468182885\n",
            "Grado del Polinomio 17 Error de Validación 743.9821834507651\n",
            "Grado del Polinomio 17 Error de Validación Cruzada -404359.93653775763\n",
            "Grado del Polinomio 18 Error de Entrenamiento 0.45306358062396124\n",
            "Grado del Polinomio 18 Error de Validación 734.7721359445445\n",
            "Grado del Polinomio 18 Error de Validación Cruzada -414365.5679782837\n",
            "Grado del Polinomio 19 Error de Entrenamiento 0.4292181421163852\n",
            "Grado del Polinomio 19 Error de Validación 728.2496790559416\n",
            "Grado del Polinomio 19 Error de Validación Cruzada -423317.9750566491\n",
            "Grado del Polinomio 20 Error de Entrenamiento 0.40775749156559565\n",
            "Grado del Polinomio 20 Error de Validación 722.8193193132839\n",
            "Grado del Polinomio 20 Error de Validación Cruzada -431375.141427178\n"
          ],
          "name": "stdout"
        }
      ]
    },
    {
      "cell_type": "markdown",
      "metadata": {
        "id": "xGQC2fwwwz0b",
        "colab_type": "text"
      },
      "source": [
        "Se grafican los niveles de error en entrenamiento y validacion para diferentes grados de expansión polinomial"
      ]
    },
    {
      "cell_type": "code",
      "metadata": {
        "id": "wcjsfmfuw0sX",
        "colab_type": "code",
        "outputId": "06f99085-4872-41ad-bf28-67a56345b6f7",
        "colab": {
          "base_uri": "https://localhost:8080/",
          "height": 369
        }
      },
      "source": [
        "fig, axes = plt.subplots(nrows=3, ncols=1, figsize=(5, 5))\n",
        "axes[0].plot(err_train, \"r\", linewidth=2, label=\"Train\")\n",
        "axes[0].legend(loc=\"best\")\n",
        "\n",
        "axes[1].plot(err_test, \"b\", linewidth=2, label=\"Test\")\n",
        "axes[1].legend(loc=\"best\")\n",
        "\n",
        "axes[2].plot(err_cv, \"g\", linewidth=2, label=\"Cross Validation\")\n",
        "axes[2].legend(loc=\"best\")\n",
        "\n",
        "fig.tight_layout()"
      ],
      "execution_count": 5,
      "outputs": [
        {
          "output_type": "display_data",
          "data": {
            "image/png": "[encoded data removed]",
            "text/plain": [
              "<Figure size 360x360 with 3 Axes>"
            ]
          },
          "metadata": {
            "tags": [],
            "needs_background": "light"
          }
        }
      ]
    }
  ]
}