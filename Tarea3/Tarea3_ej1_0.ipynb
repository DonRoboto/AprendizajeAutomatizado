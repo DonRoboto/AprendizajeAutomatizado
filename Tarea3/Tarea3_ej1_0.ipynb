{
  "nbformat": 4,
  "nbformat_minor": 0,
  "metadata": {
    "colab": {
      "name": "Tarea3_ej1_0.ipynb",
      "provenance": [],
      "authorship_tag": "ABX9TyOO8y6JINldqNe+0MGuRNrt",
      "include_colab_link": true
    },
    "kernelspec": {
      "name": "python3",
      "display_name": "Python 3"
    }
  },
  "cells": [
    {
      "cell_type": "markdown",
      "metadata": {
        "id": "view-in-github",
        "colab_type": "text"
      },
      "source": [
        "<a href=\"https://colab.research.google.com/github/DonRoboto/AprendizajeAutomatizado/blob/master/Tarea3/Tarea3_ej1_0.ipynb\" target=\"_parent\"><img src=\"https://colab.research.google.com/assets/colab-badge.svg\" alt=\"Open In Colab\"/></a>"
      ]
    },
    {
      "cell_type": "markdown",
      "metadata": {
        "id": "DQ9oTkDUazbJ",
        "colab_type": "text"
      },
      "source": [
        "Ejercicio 1 \n",
        "<br>\n",
        "Inciso a)"
      ]
    },
    {
      "cell_type": "code",
      "metadata": {
        "id": "LnyX0_jLIJNf",
        "colab_type": "code",
        "colab": {}
      },
      "source": [
        "import numpy as np"
      ],
      "execution_count": 0,
      "outputs": []
    },
    {
      "cell_type": "markdown",
      "metadata": {
        "id": "J1spR6Pca4Vq",
        "colab_type": "text"
      },
      "source": [
        "Para la expansión polinomial programamos la siguiente función recursiva, que multiplica los coeficientes, omitiendo las interacciones y agregando el coeficiente para el sesgo"
      ]
    },
    {
      "cell_type": "code",
      "metadata": {
        "id": "XhTPIkwQbAIv",
        "colab_type": "code",
        "colab": {}
      },
      "source": [
        "def expansionPolinomial(grado, row):\n",
        "    if grado==1:\n",
        "        if 1 not in row:\n",
        "            result = row.insert(0,1)\n",
        "        result=row\n",
        "        return result\n",
        "    elif grado > 1:\n",
        "        aux_result=[]\n",
        "        result = expansionPolinomial(grado-1, row)\n",
        "        aux_result.extend(result)\n",
        "        for item in row:\n",
        "            for p_item in result:\n",
        "                res=item*p_item\n",
        "                if (res not in result) and (res not in aux_result):\n",
        "                    aux_result.append(res)\n",
        "    return aux_result"
      ],
      "execution_count": 0,
      "outputs": []
    },
    {
      "cell_type": "markdown",
      "metadata": {
        "id": "WJZLkyd2dbFG",
        "colab_type": "text"
      },
      "source": [
        "Hacemos una prueba para un caso sencillo de dos coeficientes"
      ]
    },
    {
      "cell_type": "code",
      "metadata": {
        "id": "8sfvBWzkdaRe",
        "colab_type": "code",
        "colab": {
          "base_uri": "https://localhost:8080/",
          "height": 72
        },
        "outputId": "91452b4b-4496-4f9c-ddd2-34bcb599dba1"
      },
      "source": [
        "d = 3\n",
        "array_row = [[2, 3],\n",
        "       [4, 5],\n",
        "       [7, 8]]\n",
        "\n",
        "A = expansionPolinomial(d, array_row[0])\n",
        "for i in range(1, len(array_row)):\n",
        "    newrow = expansionPolinomial(d, array_row[i])\n",
        "    A = np.vstack([A, newrow])\n",
        "\n",
        "print(A)"
      ],
      "execution_count": 3,
      "outputs": [
        {
          "output_type": "stream",
          "text": [
            "[[  1   2   3   4   6   9   8  12  18  27]\n",
            " [  1   4   5  16  20  25  64  80 100 125]\n",
            " [  1   7   8  49  56  64 343 392 448 512]]\n"
          ],
          "name": "stdout"
        }
      ]
    },
    {
      "cell_type": "markdown",
      "metadata": {
        "id": "qIQUb2IMdsgD",
        "colab_type": "text"
      },
      "source": [
        "Comparamos este resultado con el que obtendríamos utilizando las librerias de sklearn, "
      ]
    },
    {
      "cell_type": "code",
      "metadata": {
        "id": "eUL412sIdz3I",
        "colab_type": "code",
        "colab": {
          "base_uri": "https://localhost:8080/",
          "height": 72
        },
        "outputId": "ae15747a-2f06-40dc-a84a-184b4e086abb"
      },
      "source": [
        "from sklearn.preprocessing import PolynomialFeatures\n",
        "d = 3\n",
        "row =  [[2, 3],\n",
        "       [3, 5],\n",
        "       [7, 8]]\n",
        "pf = PolynomialFeatures(degree=d, interaction_only=False, include_bias=True).fit_transform(row)\n",
        "print(pf)"
      ],
      "execution_count": 4,
      "outputs": [
        {
          "output_type": "stream",
          "text": [
            "[[  1.   2.   3.   4.   6.   9.   8.  12.  18.  27.]\n",
            " [  1.   3.   5.   9.  15.  25.  27.  45.  75. 125.]\n",
            " [  1.   7.   8.  49.  56.  64. 343. 392. 448. 512.]]\n"
          ],
          "name": "stdout"
        }
      ]
    },
    {
      "cell_type": "markdown",
      "metadata": {
        "id": "Yg5PaqQXAJvB",
        "colab_type": "text"
      },
      "source": [
        "Podemos observar que el número de coeficientes se reduce drásticamente si consideramos únicamente las interacciones"
      ]
    },
    {
      "cell_type": "code",
      "metadata": {
        "id": "AHOncA1OAM71",
        "colab_type": "code",
        "colab": {
          "base_uri": "https://localhost:8080/",
          "height": 72
        },
        "outputId": "49af2ef8-8c91-4d81-a720-9fddb8d3315e"
      },
      "source": [
        "pf = PolynomialFeatures(degree=d, interaction_only=True, include_bias=True).fit_transform(row)\n",
        "print(pf)"
      ],
      "execution_count": 5,
      "outputs": [
        {
          "output_type": "stream",
          "text": [
            "[[ 1.  2.  3.  6.]\n",
            " [ 1.  3.  5. 15.]\n",
            " [ 1.  7.  8. 56.]]\n"
          ],
          "name": "stdout"
        }
      ]
    },
    {
      "cell_type": "markdown",
      "metadata": {
        "id": "OtZ-s_PwpEFr",
        "colab_type": "text"
      },
      "source": [
        "Definimos las siguientes funciones para calcular la regresión lineal multivariada con el método del descenso del gradiente"
      ]
    },
    {
      "cell_type": "code",
      "metadata": {
        "id": "nuhUNouVo2Sr",
        "colab_type": "code",
        "colab": {}
      },
      "source": [
        "def inicia_parametros(num_features):    \n",
        "    coef = np.ones(num_features)\n",
        "    b=0\n",
        "    return coef,b\n",
        "\n",
        "def funcion_costo(y, y_hat):\n",
        "    N = y.shape[0]\n",
        "    diffs = y_hat - y\n",
        "    J = np.sum(diffs**2) * (1/N)\n",
        "    return J, diffs   \n",
        "\n",
        "def descenso_gradiente(coef,b,dw,db,lr):\n",
        "    coef = coef - lr * dw\n",
        "    b = b - lr * db  \n",
        "    return coef, b\n",
        "\n",
        "def forward_propagation(X, coef, b):\n",
        "    y_hat = np.dot(X,coef)+b\n",
        "    return y_hat\n",
        "    \n",
        "def back_propagation(X,diffs):\n",
        "    N = X.shape[0]    \n",
        "    xs_transposed = X.transpose()\n",
        "    dw = np.dot(xs_transposed, diffs) / N\n",
        "    db = np.sum(diffs) / N    \n",
        "    return dw, db"
      ],
      "execution_count": 0,
      "outputs": []
    },
    {
      "cell_type": "markdown",
      "metadata": {
        "id": "DqM5iSYEpdiJ",
        "colab_type": "text"
      },
      "source": [
        "Función que por cada iteración ajusta los valores de los coeficientes hasta minimizar la función de costo"
      ]
    },
    {
      "cell_type": "code",
      "metadata": {
        "id": "_Er6evSZpd9P",
        "colab_type": "code",
        "colab": {}
      },
      "source": [
        "def fit_model(xs, ys, lr, iterations):\n",
        "    num_examples, num_features = np.shape(xs)\n",
        "    coef,b = inicia_parametros(num_features)\n",
        "\n",
        "    for i in range(iterations):\n",
        "        y_hat = forward_propagation(xs, coef, b)\n",
        "        J, diffs = funcion_costo(ys, y_hat) \n",
        "\n",
        "        dw, db = back_propagation(xs, diffs)\n",
        "        coef,b = descenso_gradiente(coef, b, dw, db, lr)\n",
        "    return coef, b"
      ],
      "execution_count": 0,
      "outputs": []
    },
    {
      "cell_type": "markdown",
      "metadata": {
        "id": "_wnWrVjJqDcV",
        "colab_type": "text"
      },
      "source": [
        "Cargamos los datos de los precios de casas y normalizamos los valores"
      ]
    },
    {
      "cell_type": "code",
      "metadata": {
        "id": "TF9t0XowqGNy",
        "colab_type": "code",
        "colab": {}
      },
      "source": [
        "import pandas as pd\n",
        "\n",
        "ds = pd.read_csv(\"https://raw.githubusercontent.com/DonRoboto/AprendizajeAutomatizado/master/Tarea3/housing.data\",header=None, delimiter=r\"\\s+\")\n",
        "\n",
        "#normalizar los datos\n",
        "from sklearn.preprocessing import MinMaxScaler\n",
        "scaler = MinMaxScaler()\n",
        "scaled_df = scaler.fit_transform(ds)\n",
        "dataset = pd.DataFrame(scaled_df)"
      ],
      "execution_count": 0,
      "outputs": []
    },
    {
      "cell_type": "markdown",
      "metadata": {
        "id": "TcF6kOyVqyZb",
        "colab_type": "text"
      },
      "source": [
        "Separamos datos de entrenamiento (80%) y validación (20%) para una expansión de grado 1"
      ]
    },
    {
      "cell_type": "code",
      "metadata": {
        "id": "F4vMJkvuq5Cd",
        "colab_type": "code",
        "colab": {}
      },
      "source": [
        "num_examples, num_features = np.shape(dataset)\n",
        "num_features = num_features -1\n",
        "particion = int(round(num_examples*0.8))\n",
        "grado_polinomio=1\n",
        "\n",
        "X_train = dataset.iloc[0:particion,:-1].to_numpy()\n",
        "X_train_exp_1 = PolynomialFeatures(degree=grado_polinomio, interaction_only=True, include_bias=False).fit_transform(X_train)\n",
        "y_train = dataset.iloc[0:particion,num_features].to_numpy()\n",
        "\n",
        "X_test = dataset.iloc[particion:num_examples,:-1].to_numpy()\n",
        "X_test_exp_1 = PolynomialFeatures(degree=grado_polinomio, interaction_only=True, include_bias=False).fit_transform(X_test)\n",
        "y_test = dataset.iloc[particion:num_examples,num_features].to_numpy()\n"
      ],
      "execution_count": 0,
      "outputs": []
    },
    {
      "cell_type": "markdown",
      "metadata": {
        "id": "6pLOd12PqtOn",
        "colab_type": "text"
      },
      "source": [
        "Entrenamos un primer modelo"
      ]
    },
    {
      "cell_type": "code",
      "metadata": {
        "id": "wvqWfjAbqvna",
        "colab_type": "code",
        "colab": {}
      },
      "source": [
        "lr = 0.01\n",
        "iteraciones = 10000\n",
        "coef, b = fit_model(X_train_exp_1, y_train, lr,  iteraciones)"
      ],
      "execution_count": 0,
      "outputs": []
    },
    {
      "cell_type": "markdown",
      "metadata": {
        "id": "g_vNvNJqDTgX",
        "colab_type": "text"
      },
      "source": [
        "Evaluamos para este modelo tanto para el conjunto de entrenamiento como para el conjunto de validación"
      ]
    },
    {
      "cell_type": "code",
      "metadata": {
        "id": "zHzZvJmMDV6J",
        "colab_type": "code",
        "colab": {
          "base_uri": "https://localhost:8080/",
          "height": 54
        },
        "outputId": "3e2f2f90-b000-4b8b-f584-33410f14c6bb"
      },
      "source": [
        "y_hat_train_1 = forward_propagation(X_train_exp_1, coef, b)\n",
        "J_train, diffs_train =funcion_costo(y_train, y_hat_train_1)\n",
        "\n",
        "y_hat_test_1 = forward_propagation(X_test_exp_1, coef, b)\n",
        "J_test, diffs_test =funcion_costo(y_test, y_hat_test_1)\n",
        "\n",
        "print(\"Expansión de grado:{0} Función de Costo en Entrenamiento:{1}\".format(grado_polinomio, J_train))\n",
        "print(\"Expansión de grado:{0} Función de Costo en Validación:{1}\".format(grado_polinomio, J_test))"
      ],
      "execution_count": 11,
      "outputs": [
        {
          "output_type": "stream",
          "text": [
            "Expansión de grado:1 Función de Costo en Entrenamiento:0.01955044721674139\n",
            "Expansión de grado:1 Función de Costo en Validación:0.028063757020445536\n"
          ],
          "name": "stdout"
        }
      ]
    },
    {
      "cell_type": "markdown",
      "metadata": {
        "id": "fPYtZJeaGEgm",
        "colab_type": "text"
      },
      "source": [
        "Expandimos el polinomio a un grado 3"
      ]
    },
    {
      "cell_type": "code",
      "metadata": {
        "id": "jtKW7OfyGkJx",
        "colab_type": "code",
        "colab": {}
      },
      "source": [
        "grado_polinomio=3\n",
        "X_train_exp_3 = PolynomialFeatures(degree=grado_polinomio, interaction_only=True, include_bias=False).fit_transform(X_train)\n",
        "\n",
        "X_test_exp_3 = PolynomialFeatures(degree=grado_polinomio, interaction_only=True, include_bias=False).fit_transform(X_test)"
      ],
      "execution_count": 0,
      "outputs": []
    },
    {
      "cell_type": "markdown",
      "metadata": {
        "id": "4C6P-o-yGy50",
        "colab_type": "text"
      },
      "source": [
        "Entrenamos y evaluamos"
      ]
    },
    {
      "cell_type": "code",
      "metadata": {
        "id": "KKAzn56sG1J_",
        "colab_type": "code",
        "colab": {}
      },
      "source": [
        "coef, b = fit_model(X_train_exp_3, y_train, lr,  iteraciones)"
      ],
      "execution_count": 0,
      "outputs": []
    },
    {
      "cell_type": "code",
      "metadata": {
        "id": "6iMrngNNHbMP",
        "colab_type": "code",
        "colab": {
          "base_uri": "https://localhost:8080/",
          "height": 54
        },
        "outputId": "8130fa20-4964-4e2a-fc1c-f65f8f7125cd"
      },
      "source": [
        "y_hat_train_3 = forward_propagation(X_train_exp_3, coef, b)\n",
        "J_train, diffs_train =funcion_costo(y_train, y_hat_train_3)\n",
        "\n",
        "y_hat_test_3 = forward_propagation(X_test_exp_3, coef, b)\n",
        "J_test, diffs_test =funcion_costo(y_test, y_hat_test_3)\n",
        "\n",
        "print(\"Expansión de grado:{0} Función de Costo en Entrenamiento:{1}\".format(grado_polinomio, J_train))\n",
        "print(\"Expansión de grado:{0} Función de Costo en Validación:{1}\".format(grado_polinomio, J_test))"
      ],
      "execution_count": 14,
      "outputs": [
        {
          "output_type": "stream",
          "text": [
            "Expansión de grado:3 Función de Costo en Entrenamiento:0.07391883406710546\n",
            "Expansión de grado:3 Función de Costo en Validación:0.5814622307599191\n"
          ],
          "name": "stdout"
        }
      ]
    },
    {
      "cell_type": "markdown",
      "metadata": {
        "id": "fuOnPcxSLgYE",
        "colab_type": "text"
      },
      "source": [
        "Expansión del polinomio a grado 5"
      ]
    },
    {
      "cell_type": "code",
      "metadata": {
        "id": "J5eBiPA2LpJc",
        "colab_type": "code",
        "colab": {}
      },
      "source": [
        "grado_polinomio=5\n",
        "X_train_exp_5 = PolynomialFeatures(degree=grado_polinomio, interaction_only=True, include_bias=False).fit_transform(X_train)\n",
        "\n",
        "X_test_exp_5 = PolynomialFeatures(degree=grado_polinomio, interaction_only=True, include_bias=False).fit_transform(X_test)"
      ],
      "execution_count": 0,
      "outputs": []
    },
    {
      "cell_type": "markdown",
      "metadata": {
        "id": "5LKAOfS8Lq9r",
        "colab_type": "text"
      },
      "source": [
        "Entrenamos y evaluamos"
      ]
    },
    {
      "cell_type": "code",
      "metadata": {
        "id": "ACCakDgeLse7",
        "colab_type": "code",
        "colab": {}
      },
      "source": [
        "coef, b = fit_model(X_train_exp_5, y_train, lr,  iteraciones)"
      ],
      "execution_count": 0,
      "outputs": []
    },
    {
      "cell_type": "code",
      "metadata": {
        "id": "snZqi6_ULspC",
        "colab_type": "code",
        "colab": {
          "base_uri": "https://localhost:8080/",
          "height": 54
        },
        "outputId": "f5bca4f0-d207-4725-f272-63ffb8b4d56d"
      },
      "source": [
        "y_hat_train_5 = forward_propagation(X_train_exp_5, coef, b)\n",
        "\n",
        "J_train, diffs_train =funcion_costo(y_train, y_hat_train_5)\n",
        "\n",
        "y_hat_test_5 = forward_propagation(X_test_exp_5, coef, b)\n",
        "J_test, diffs_test =funcion_costo(y_test, y_hat_test_5)\n",
        "\n",
        "print(\"Expansión de grado:{0} Función de Costo en Entrenamiento:{1}\".format(grado_polinomio, J_train))\n",
        "print(\"Expansión de grado:{0} Función de Costo en Validación:{1}\".format(grado_polinomio, J_test))"
      ],
      "execution_count": 17,
      "outputs": [
        {
          "output_type": "stream",
          "text": [
            "Expansión de grado:5 Función de Costo en Entrenamiento:0.39392414959093014\n",
            "Expansión de grado:5 Función de Costo en Validación:5.980710395003662\n"
          ],
          "name": "stdout"
        }
      ]
    },
    {
      "cell_type": "markdown",
      "metadata": {
        "id": "LSCDq7YPMESp",
        "colab_type": "text"
      },
      "source": [
        "Expandimos el polinomio a grado 10"
      ]
    },
    {
      "cell_type": "code",
      "metadata": {
        "id": "PZDmE1j7MHYg",
        "colab_type": "code",
        "colab": {}
      },
      "source": [
        "grado_polinomio=10\n",
        "X_train_exp_10 = PolynomialFeatures(degree=grado_polinomio, interaction_only=True, include_bias=False).fit_transform(X_train)\n",
        "\n",
        "X_test_exp_10 = PolynomialFeatures(degree=grado_polinomio, interaction_only=True, include_bias=False).fit_transform(X_test)"
      ],
      "execution_count": 0,
      "outputs": []
    },
    {
      "cell_type": "markdown",
      "metadata": {
        "id": "JvCKCVXIMLX7",
        "colab_type": "text"
      },
      "source": [
        "Entrenamos y evaluamos"
      ]
    },
    {
      "cell_type": "code",
      "metadata": {
        "id": "Wfxtd2_dMNdZ",
        "colab_type": "code",
        "colab": {}
      },
      "source": [
        "coef, b = fit_model(X_train_exp_10, y_train, lr,  iteraciones)"
      ],
      "execution_count": 0,
      "outputs": []
    },
    {
      "cell_type": "code",
      "metadata": {
        "id": "JD8RK9C0MVHV",
        "colab_type": "code",
        "colab": {
          "base_uri": "https://localhost:8080/",
          "height": 54
        },
        "outputId": "37f21ccb-84fb-4fc7-8b8d-e1533c4441b7"
      },
      "source": [
        "y_hat_train_10 = forward_propagation(X_train_exp_10, coef, b)\n",
        "J_train, diffs_train =funcion_costo(y_train, y_hat_train_10)\n",
        "\n",
        "y_hat_test_10 = forward_propagation(X_test_exp_10, coef, b)\n",
        "J_test, diffs_test =funcion_costo(y_test, y_hat_test_10)\n",
        "\n",
        "print(\"Expansión de grado:{0} Función de Costo en Entrenamiento:{1}\".format(grado_polinomio, J_train))\n",
        "print(\"Expansión de grado:{0} Función de Costo en Validación:{1}\".format(grado_polinomio, J_test))"
      ],
      "execution_count": 20,
      "outputs": [
        {
          "output_type": "stream",
          "text": [
            "Expansión de grado:10 Función de Costo en Entrenamiento:0.9345331448397496\n",
            "Expansión de grado:10 Función de Costo en Validación:12.237112012474963\n"
          ],
          "name": "stdout"
        }
      ]
    }
  ]
}