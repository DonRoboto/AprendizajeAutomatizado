{
  "nbformat": 4,
  "nbformat_minor": 0,
  "metadata": {
    "colab": {
      "name": "Tarea3_ej3a.ipynb",
      "provenance": [],
      "include_colab_link": true
    },
    "kernelspec": {
      "name": "python3",
      "display_name": "Python 3"
    }
  },
  "cells": [
    {
      "cell_type": "markdown",
      "metadata": {
        "id": "view-in-github",
        "colab_type": "text"
      },
      "source": [
        "<a href=\"https://colab.research.google.com/github/DonRoboto/AprendizajeAutomatizado/blob/master/Tarea3/Tarea3_ej3a.ipynb\" target=\"_parent\"><img src=\"https://colab.research.google.com/assets/colab-badge.svg\" alt=\"Open In Colab\"/></a>"
      ]
    },
    {
      "cell_type": "markdown",
      "metadata": {
        "id": "QBEYcPRK6Stu",
        "colab_type": "text"
      },
      "source": [
        "Ejercicio 3\n",
        "<br>\n",
        "Inciso a)\n",
        "<br>\n",
        "Spam"
      ]
    },
    {
      "cell_type": "markdown",
      "metadata": {
        "id": "Nb0Ug0VM6Med",
        "colab_type": "text"
      },
      "source": [
        "Importamos librerias"
      ]
    },
    {
      "cell_type": "code",
      "metadata": {
        "id": "sF-lzzn86Qyc",
        "colab_type": "code",
        "colab": {}
      },
      "source": [
        "import numpy as np\n",
        "import pandas as pd\n",
        "import math\n",
        "import random\n",
        "from sklearn.model_selection import train_test_split\n",
        "from sklearn.naive_bayes import GaussianNB\n",
        "from sklearn import metrics\n",
        "from sklearn.model_selection import StratifiedKFold\n",
        "from sklearn.metrics import roc_auc_score\n",
        "from sklearn.utils import shuffle"
      ],
      "execution_count": 0,
      "outputs": []
    },
    {
      "cell_type": "code",
      "metadata": {
        "id": "1w9WaZf27CCZ",
        "colab_type": "code",
        "colab": {}
      },
      "source": [
        "def sigmoide(X, weight):\n",
        "    z = np.dot(X, weight)\n",
        "    return 1 / (1 + np.exp(-z))\n",
        "\n",
        "def funcion_perdida(h, y):\n",
        "    return (-y * np.log(h) - (1 - y) * np.log(1 - h)).mean()\n",
        "\n",
        "def descenso_gradiente(X, h, y):\n",
        "    return np.dot(X.T, (h - y)) / y.shape[0]\n",
        "\n",
        "def actualiza_pesos(weight, learning_rate, gradient):\n",
        "    return weight - learning_rate * gradient"
      ],
      "execution_count": 0,
      "outputs": []
    },
    {
      "cell_type": "code",
      "metadata": {
        "id": "TdgZLN2D8uwX",
        "colab_type": "code",
        "colab": {}
      },
      "source": [
        "def fit_modelo(X_train, y_train):\n",
        "  num_iter = 100000\n",
        "\n",
        "  intercept_train = np.ones((X_train.shape[0], 1)) \n",
        "  X_train = np.concatenate((intercept_train, X_train), axis=1)\n",
        "  theta = np.zeros(X_train.shape[1])\n",
        "\n",
        "  for i in range(num_iter):\n",
        "    h = sigmoide(X_train, theta)\n",
        "    gradient = descenso_gradiente(X_train, h, y_train)\n",
        "    theta = actualiza_pesos(theta, 0.001, gradient)\n",
        "  return theta   "
      ],
      "execution_count": 0,
      "outputs": []
    },
    {
      "cell_type": "code",
      "metadata": {
        "id": "2gQrp_zN9LDx",
        "colab_type": "code",
        "colab": {}
      },
      "source": [
        "def evalua_modelo(X_test, theta):\n",
        "  intercept_test = np.ones((X_test.shape[0], 1)) \n",
        "  X_test = np.concatenate((intercept_test, X_test), axis=1)\n",
        "  y_val = sigmoide(X_test, theta)\n",
        "  \n",
        "  y_label = [0] * len(y_val)\n",
        "  v_max = max(y_val)\n",
        "  v_min = min(y_val)\n",
        "  umbral = (v_max-v_min)/2\n",
        "\n",
        "  for i in range(len(y_val)):\n",
        "    if(y_val[i]>umbral):\n",
        "        y_label[i]=1\n",
        "    else:\n",
        "        y_label[i]=0\n",
        "  return y_label"
      ],
      "execution_count": 0,
      "outputs": []
    },
    {
      "cell_type": "code",
      "metadata": {
        "id": "ZDXiVO6AatZV",
        "colab_type": "code",
        "colab": {}
      },
      "source": [
        "df_train =  pd.read_csv(\"https://raw.githubusercontent.com/DonRoboto/AprendizajeAutomatizado/master/spam.csv\",header=None, delimiter=\" \")\n",
        "\n",
        "df_train[:] = df_train[:].astype(float)\n",
        "data_train = df_train.to_numpy()\n",
        "\n",
        "X_dataP = data_train[:, 0:2000]\n",
        "y_dataP = data_train[:, -1]"
      ],
      "execution_count": 0,
      "outputs": []
    },
    {
      "cell_type": "code",
      "metadata": {
        "id": "DOY4UVdpweQd",
        "colab_type": "code",
        "colab": {
          "base_uri": "https://localhost:8080/",
          "height": 435
        },
        "outputId": "ae42bf29-cba1-458f-8b1d-34679f500415"
      },
      "source": [
        "score_final = []\n",
        "for ex in range(10):\n",
        "\n",
        "  X_data, y_data = shuffle(X_dataP, y_dataP)\n",
        "\n",
        "  kf = StratifiedKFold(n_splits=5)\n",
        "  pred_test_full =0\n",
        "  \n",
        "  for train_index,test_index in kf.split(X_data,y_data):\n",
        "    cv_score =[]\n",
        "    xtr,xvl = X_data[train_index],X_data[test_index]\n",
        "    ytr,yvl = y_data[train_index],y_data[test_index]\n",
        "\n",
        "    theta = fit_modelo(xtr, ytr)\n",
        "    y_hat = evalua_modelo(xvl, theta)\n",
        "    score = roc_auc_score(yvl,y_hat)\n",
        "\n",
        "  \n",
        "    cv_score.append(score)\n",
        "  \n",
        "  print(ex, \" \", score.mean())   \n",
        "  score_final.append(score.mean())   \n",
        "print(\"Resultado Regresión Logística:\", sum(score_final)/len(score_final))   \n"
      ],
      "execution_count": 6,
      "outputs": [
        {
          "output_type": "error",
          "ename": "KeyboardInterrupt",
          "evalue": "ignored",
          "traceback": [
            "\u001b[0;31m---------------------------------------------------------------------------\u001b[0m",
            "\u001b[0;31mKeyboardInterrupt\u001b[0m                         Traceback (most recent call last)",
            "\u001b[0;32m<ipython-input-6-5b48c73dbf2a>\u001b[0m in \u001b[0;36m<module>\u001b[0;34m()\u001b[0m\n\u001b[1;32m     12\u001b[0m     \u001b[0mytr\u001b[0m\u001b[0;34m,\u001b[0m\u001b[0myvl\u001b[0m \u001b[0;34m=\u001b[0m \u001b[0my_data\u001b[0m\u001b[0;34m[\u001b[0m\u001b[0mtrain_index\u001b[0m\u001b[0;34m]\u001b[0m\u001b[0;34m,\u001b[0m\u001b[0my_data\u001b[0m\u001b[0;34m[\u001b[0m\u001b[0mtest_index\u001b[0m\u001b[0;34m]\u001b[0m\u001b[0;34m\u001b[0m\u001b[0;34m\u001b[0m\u001b[0m\n\u001b[1;32m     13\u001b[0m \u001b[0;34m\u001b[0m\u001b[0m\n\u001b[0;32m---> 14\u001b[0;31m     \u001b[0mtheta\u001b[0m \u001b[0;34m=\u001b[0m \u001b[0mfit_modelo\u001b[0m\u001b[0;34m(\u001b[0m\u001b[0mxtr\u001b[0m\u001b[0;34m,\u001b[0m \u001b[0mytr\u001b[0m\u001b[0;34m)\u001b[0m\u001b[0;34m\u001b[0m\u001b[0;34m\u001b[0m\u001b[0m\n\u001b[0m\u001b[1;32m     15\u001b[0m     \u001b[0my_hat\u001b[0m \u001b[0;34m=\u001b[0m \u001b[0mevalua_modelo\u001b[0m\u001b[0;34m(\u001b[0m\u001b[0mxvl\u001b[0m\u001b[0;34m,\u001b[0m \u001b[0mtheta\u001b[0m\u001b[0;34m)\u001b[0m\u001b[0;34m\u001b[0m\u001b[0;34m\u001b[0m\u001b[0m\n\u001b[1;32m     16\u001b[0m     \u001b[0mscore\u001b[0m \u001b[0;34m=\u001b[0m \u001b[0mroc_auc_score\u001b[0m\u001b[0;34m(\u001b[0m\u001b[0myvl\u001b[0m\u001b[0;34m,\u001b[0m\u001b[0my_hat\u001b[0m\u001b[0;34m)\u001b[0m\u001b[0;34m\u001b[0m\u001b[0;34m\u001b[0m\u001b[0m\n",
            "\u001b[0;32m<ipython-input-3-08f0d3610c2c>\u001b[0m in \u001b[0;36mfit_modelo\u001b[0;34m(X_train, y_train)\u001b[0m\n\u001b[1;32m      8\u001b[0m   \u001b[0;32mfor\u001b[0m \u001b[0mi\u001b[0m \u001b[0;32min\u001b[0m \u001b[0mrange\u001b[0m\u001b[0;34m(\u001b[0m\u001b[0mnum_iter\u001b[0m\u001b[0;34m)\u001b[0m\u001b[0;34m:\u001b[0m\u001b[0;34m\u001b[0m\u001b[0;34m\u001b[0m\u001b[0m\n\u001b[1;32m      9\u001b[0m     \u001b[0mh\u001b[0m \u001b[0;34m=\u001b[0m \u001b[0msigmoide\u001b[0m\u001b[0;34m(\u001b[0m\u001b[0mX_train\u001b[0m\u001b[0;34m,\u001b[0m \u001b[0mtheta\u001b[0m\u001b[0;34m)\u001b[0m\u001b[0;34m\u001b[0m\u001b[0;34m\u001b[0m\u001b[0m\n\u001b[0;32m---> 10\u001b[0;31m     \u001b[0mgradient\u001b[0m \u001b[0;34m=\u001b[0m \u001b[0mdescenso_gradiente\u001b[0m\u001b[0;34m(\u001b[0m\u001b[0mX_train\u001b[0m\u001b[0;34m,\u001b[0m \u001b[0mh\u001b[0m\u001b[0;34m,\u001b[0m \u001b[0my_train\u001b[0m\u001b[0;34m)\u001b[0m\u001b[0;34m\u001b[0m\u001b[0;34m\u001b[0m\u001b[0m\n\u001b[0m\u001b[1;32m     11\u001b[0m     \u001b[0mtheta\u001b[0m \u001b[0;34m=\u001b[0m \u001b[0mactualiza_pesos\u001b[0m\u001b[0;34m(\u001b[0m\u001b[0mtheta\u001b[0m\u001b[0;34m,\u001b[0m \u001b[0;36m0.001\u001b[0m\u001b[0;34m,\u001b[0m \u001b[0mgradient\u001b[0m\u001b[0;34m)\u001b[0m\u001b[0;34m\u001b[0m\u001b[0;34m\u001b[0m\u001b[0m\n\u001b[1;32m     12\u001b[0m   \u001b[0;32mreturn\u001b[0m \u001b[0mtheta\u001b[0m\u001b[0;34m\u001b[0m\u001b[0;34m\u001b[0m\u001b[0m\n",
            "\u001b[0;32m<ipython-input-2-1b909377fe02>\u001b[0m in \u001b[0;36mdescenso_gradiente\u001b[0;34m(X, h, y)\u001b[0m\n\u001b[1;32m      7\u001b[0m \u001b[0;34m\u001b[0m\u001b[0m\n\u001b[1;32m      8\u001b[0m \u001b[0;32mdef\u001b[0m \u001b[0mdescenso_gradiente\u001b[0m\u001b[0;34m(\u001b[0m\u001b[0mX\u001b[0m\u001b[0;34m,\u001b[0m \u001b[0mh\u001b[0m\u001b[0;34m,\u001b[0m \u001b[0my\u001b[0m\u001b[0;34m)\u001b[0m\u001b[0;34m:\u001b[0m\u001b[0;34m\u001b[0m\u001b[0;34m\u001b[0m\u001b[0m\n\u001b[0;32m----> 9\u001b[0;31m     \u001b[0;32mreturn\u001b[0m \u001b[0mnp\u001b[0m\u001b[0;34m.\u001b[0m\u001b[0mdot\u001b[0m\u001b[0;34m(\u001b[0m\u001b[0mX\u001b[0m\u001b[0;34m.\u001b[0m\u001b[0mT\u001b[0m\u001b[0;34m,\u001b[0m \u001b[0;34m(\u001b[0m\u001b[0mh\u001b[0m \u001b[0;34m-\u001b[0m \u001b[0my\u001b[0m\u001b[0;34m)\u001b[0m\u001b[0;34m)\u001b[0m \u001b[0;34m/\u001b[0m \u001b[0my\u001b[0m\u001b[0;34m.\u001b[0m\u001b[0mshape\u001b[0m\u001b[0;34m[\u001b[0m\u001b[0;36m0\u001b[0m\u001b[0;34m]\u001b[0m\u001b[0;34m\u001b[0m\u001b[0;34m\u001b[0m\u001b[0m\n\u001b[0m\u001b[1;32m     10\u001b[0m \u001b[0;34m\u001b[0m\u001b[0m\n\u001b[1;32m     11\u001b[0m \u001b[0;32mdef\u001b[0m \u001b[0mactualiza_pesos\u001b[0m\u001b[0;34m(\u001b[0m\u001b[0mweight\u001b[0m\u001b[0;34m,\u001b[0m \u001b[0mlearning_rate\u001b[0m\u001b[0;34m,\u001b[0m \u001b[0mgradient\u001b[0m\u001b[0;34m)\u001b[0m\u001b[0;34m:\u001b[0m\u001b[0;34m\u001b[0m\u001b[0;34m\u001b[0m\u001b[0m\n",
            "\u001b[0;32m<__array_function__ internals>\u001b[0m in \u001b[0;36mdot\u001b[0;34m(*args, **kwargs)\u001b[0m\n",
            "\u001b[0;31mKeyboardInterrupt\u001b[0m: "
          ]
        }
      ]
    },
    {
      "cell_type": "code",
      "metadata": {
        "id": "-0ihwDOZ4bQR",
        "colab_type": "code",
        "colab": {}
      },
      "source": [
        "score_final = []\n",
        "for ex in range(10):\n",
        "\n",
        "  X_data, y_data = shuffle(X_dataP, y_dataP)\n",
        "\n",
        "  kf = StratifiedKFold(n_splits=5)\n",
        "  pred_test_full =0\n",
        "  \n",
        "  for train_index,test_index in kf.split(X_data,y_data):\n",
        "    cv_score =[]\n",
        "    xtr,xvl = X_data[train_index],X_data[test_index]\n",
        "    ytr,yvl = y_data[train_index],y_data[test_index]\n",
        "    \n",
        "    lr = GaussianNB()\n",
        "    lr.fit(xtr,ytr)\n",
        "    score = roc_auc_score(yvl,lr.predict(xvl))\n",
        "  \n",
        "    cv_score.append(score)\n",
        "  \n",
        "  print(ex, \" \", score.mean())   \n",
        "  score_final.append(score.mean())   \n",
        "print(\"Resultado Clasificador Bayesiano Ingenuo:\", sum(score_final)/len(score_final)) "
      ],
      "execution_count": 0,
      "outputs": []
    }
  ]
}