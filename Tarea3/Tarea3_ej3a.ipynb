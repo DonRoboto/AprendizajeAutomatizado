{
  "nbformat": 4,
  "nbformat_minor": 0,
  "metadata": {
    "colab": {
      "name": "Tarea3_ej3a.ipynb",
      "provenance": [],
      "authorship_tag": "ABX9TyPBGpqFUh3Xxz4mV9SLS7hX",
      "include_colab_link": true
    },
    "kernelspec": {
      "name": "python3",
      "display_name": "Python 3"
    }
  },
  "cells": [
    {
      "cell_type": "markdown",
      "metadata": {
        "id": "view-in-github",
        "colab_type": "text"
      },
      "source": [
        "<a href=\"https://colab.research.google.com/github/DonRoboto/AprendizajeAutomatizado/blob/master/Tarea3/Tarea3_ej3a.ipynb\" target=\"_parent\"><img src=\"https://colab.research.google.com/assets/colab-badge.svg\" alt=\"Open In Colab\"/></a>"
      ]
    },
    {
      "cell_type": "code",
      "metadata": {
        "id": "OYRb_dHtanqS",
        "colab_type": "code",
        "colab": {}
      },
      "source": [
        "import numpy as np\n",
        "import pandas as pd\n",
        "import math\n",
        "import random\n",
        "from sklearn.model_selection import train_test_split\n",
        "from sklearn.linear_model import LogisticRegression\n",
        "from sklearn.metrics import classification_report, confusion_matrix\n",
        "from sklearn import metrics"
      ],
      "execution_count": 0,
      "outputs": []
    },
    {
      "cell_type": "code",
      "metadata": {
        "id": "YVb9CXzeihx_",
        "colab_type": "code",
        "colab": {}
      },
      "source": [
        "def sigmoide(X, weight):\n",
        "    z = np.dot(X, weight)\n",
        "    return 1 / (1 + np.exp(-z))\n",
        "\n",
        "\n",
        "def funcion_perdida(h, y):\n",
        "    return (-y * np.log(h) - (1 - y) * np.log(1 - h)).mean()\n",
        "\n",
        "\n",
        "def descenso_gradiente(X, h, y):\n",
        "    return np.dot(X.T, (h - y)) / y.shape[0]\n",
        "\n",
        "\n",
        "def actualiza_pesos(weight, learning_rate, gradient):\n",
        "    return weight - learning_rate * gradient\n"
      ],
      "execution_count": 0,
      "outputs": []
    },
    {
      "cell_type": "code",
      "metadata": {
        "id": "ZDXiVO6AatZV",
        "colab_type": "code",
        "colab": {}
      },
      "source": [
        "df_train =  pd.read_csv(\"https://raw.githubusercontent.com/DonRoboto/AprendizajeAutomatizado/master/breast-cancer-wisconsin.data\",header=None, delimiter=\",\")\n",
        "df_train[6] = df_train[6].map({'?': 0, '0': 0, '1': 1, '2': 2, '3': 3, '4': 4, '5': 5, '6': 6, '7': 7, '8': 8, '9': 9, '10': 10})\n",
        "df_train[10] = df_train[10].map({2: 1, 4: 0})\n",
        "\n",
        "df_train[:] = df_train[:].astype(float)\n",
        "data_train = df_train.to_numpy()"
      ],
      "execution_count": 0,
      "outputs": []
    },
    {
      "cell_type": "code",
      "metadata": {
        "id": "CKMfVmGEc9GC",
        "colab_type": "code",
        "colab": {}
      },
      "source": [
        "X_data = data_train[:, 1:9]\n",
        "y_data = data_train[:, -1]\n",
        "\n",
        "X_train, X_test, y_train, y_test = train_test_split(X_data, y_data, test_size=0.3, random_state=0)\n",
        "\n"
      ],
      "execution_count": 0,
      "outputs": []
    },
    {
      "cell_type": "code",
      "metadata": {
        "id": "ooXV4e6virIY",
        "colab_type": "code",
        "colab": {}
      },
      "source": [
        "num_iter = 1000000\n",
        "\n",
        "intercept_train = np.ones((X_train.shape[0], 1)) \n",
        "X_train = np.concatenate((intercept_train, X_train), axis=1)\n",
        "theta = np.zeros(X_train.shape[1])\n",
        "\n",
        "intercept_test = np.ones((X_test.shape[0], 1)) \n",
        "X_test = np.concatenate((intercept_test, X_test), axis=1)\n",
        "\n",
        "for i in range(num_iter):\n",
        "    h = sigmoide(X_train, theta)\n",
        "    gradient = descenso_gradiente(X_train, h, y_train)\n",
        "    theta = actualiza_pesos(theta, 0.001, gradient)\n",
        "\n",
        "y_val = sigmoide(X_test, theta)"
      ],
      "execution_count": 0,
      "outputs": []
    },
    {
      "cell_type": "code",
      "metadata": {
        "id": "pxoQklMGkYJY",
        "colab_type": "code",
        "outputId": "d0384c70-4284-45ef-dacf-60d2f452211e",
        "colab": {
          "base_uri": "https://localhost:8080/",
          "height": 35
        }
      },
      "source": [
        "y_label = [0] * len(y_val)\n",
        "v_max = max(y_val)\n",
        "v_min = min(y_val)\n",
        "umbral = (v_max-v_min)/2\n",
        "\n",
        "for i in range(len(y_val)):\n",
        "    if(y_val[i]>umbral):\n",
        "        y_label[i]=1\n",
        "    else:\n",
        "        y_label[i]=0\n",
        "\n",
        "print('Accuracy: ',metrics.accuracy_score(y_test, y_label))"
      ],
      "execution_count": 38,
      "outputs": [
        {
          "output_type": "stream",
          "text": [
            "Accuracy:  0.9523809523809523\n"
          ],
          "name": "stdout"
        }
      ]
    },
    {
      "cell_type": "code",
      "metadata": {
        "id": "BswiWXLUmHT-",
        "colab_type": "code",
        "outputId": "f43b4b69-5b4d-436c-bea1-dbc51eb1bc2a",
        "colab": {
          "base_uri": "https://localhost:8080/",
          "height": 35
        }
      },
      "source": [
        "#print(X_train)\n",
        "\n",
        "clf = LogisticRegression(random_state=0).fit(X_train, y_train)\n",
        "\n",
        "\n",
        "\n",
        "scr=clf.score(X_test, y_test)\n",
        "print(scr)"
      ],
      "execution_count": 39,
      "outputs": [
        {
          "output_type": "stream",
          "text": [
            "0.9523809523809523\n"
          ],
          "name": "stdout"
        }
      ]
    }
  ]
}