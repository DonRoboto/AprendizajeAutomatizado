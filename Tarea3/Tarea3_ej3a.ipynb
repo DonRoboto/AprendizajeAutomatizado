{
  "nbformat": 4,
  "nbformat_minor": 0,
  "metadata": {
    "colab": {
      "name": "Tarea3_ej3a.ipynb",
      "provenance": [],
      "include_colab_link": true
    },
    "kernelspec": {
      "name": "python3",
      "display_name": "Python 3"
    }
  },
  "cells": [
    {
      "cell_type": "markdown",
      "metadata": {
        "id": "view-in-github",
        "colab_type": "text"
      },
      "source": [
        "<a href=\"https://colab.research.google.com/github/DonRoboto/AprendizajeAutomatizado/blob/master/Tarea3/Tarea3_ej3a.ipynb\" target=\"_parent\"><img src=\"https://colab.research.google.com/assets/colab-badge.svg\" alt=\"Open In Colab\"/></a>"
      ]
    },
    {
      "cell_type": "markdown",
      "metadata": {
        "id": "QBEYcPRK6Stu",
        "colab_type": "text"
      },
      "source": [
        "Ejercicio 3\n",
        "<br>\n",
        "Inciso a)\n",
        "<br>\n",
        "Spam"
      ]
    },
    {
      "cell_type": "markdown",
      "metadata": {
        "id": "Nb0Ug0VM6Med",
        "colab_type": "text"
      },
      "source": [
        "Importamos librerias"
      ]
    },
    {
      "cell_type": "code",
      "metadata": {
        "id": "sF-lzzn86Qyc",
        "colab_type": "code",
        "colab": {}
      },
      "source": [
        "import numpy as np\n",
        "import pandas as pd\n",
        "import math\n",
        "import random\n",
        "from sklearn.model_selection import train_test_split\n",
        "from sklearn.naive_bayes import GaussianNB\n",
        "from sklearn import metrics\n",
        "from sklearn.model_selection import StratifiedKFold\n",
        "from sklearn.metrics import roc_auc_score\n",
        "from sklearn.utils import shuffle"
      ],
      "execution_count": 0,
      "outputs": []
    },
    {
      "cell_type": "code",
      "metadata": {
        "id": "1w9WaZf27CCZ",
        "colab_type": "code",
        "colab": {}
      },
      "source": [
        "def sigmoide(X, weight):\n",
        "    z = np.dot(X, weight)\n",
        "    return 1 / (1 + np.exp(-z))\n",
        "\n",
        "def funcion_perdida(h, y):\n",
        "    return (-y * np.log(h) - (1 - y) * np.log(1 - h)).mean()\n",
        "\n",
        "def descenso_gradiente(X, h, y):\n",
        "    return np.dot(X.T, (h - y)) / y.shape[0]\n",
        "\n",
        "def actualiza_pesos(weight, learning_rate, gradient):\n",
        "    return weight - learning_rate * gradient"
      ],
      "execution_count": 0,
      "outputs": []
    },
    {
      "cell_type": "code",
      "metadata": {
        "id": "TdgZLN2D8uwX",
        "colab_type": "code",
        "colab": {}
      },
      "source": [
        "def fit_modelo(X_train, y_train):\n",
        "  num_iter = 10000\n",
        "\n",
        "  intercept_train = np.ones((X_train.shape[0], 1)) \n",
        "  X_train = np.concatenate((intercept_train, X_train), axis=1)\n",
        "  theta = np.zeros(X_train.shape[1])\n",
        "\n",
        "  for i in range(num_iter):\n",
        "    h = sigmoide(X_train, theta)\n",
        "    gradient = descenso_gradiente(X_train, h, y_train)\n",
        "    theta = actualiza_pesos(theta, 0.001, gradient)\n",
        "  return theta   "
      ],
      "execution_count": 0,
      "outputs": []
    },
    {
      "cell_type": "code",
      "metadata": {
        "id": "2gQrp_zN9LDx",
        "colab_type": "code",
        "colab": {}
      },
      "source": [
        "def evalua_modelo(X_test, theta):\n",
        "  intercept_test = np.ones((X_test.shape[0], 1)) \n",
        "  X_test = np.concatenate((intercept_test, X_test), axis=1)\n",
        "  y_val = sigmoide(X_test, theta)\n",
        "  \n",
        "  y_label = [0] * len(y_val)\n",
        "  v_max = max(y_val)\n",
        "  v_min = min(y_val)\n",
        "  umbral = (v_max-v_min)/2\n",
        "\n",
        "  for i in range(len(y_val)):\n",
        "    if(y_val[i]>umbral):\n",
        "        y_label[i]=1\n",
        "    else:\n",
        "        y_label[i]=0\n",
        "  return y_label"
      ],
      "execution_count": 0,
      "outputs": []
    },
    {
      "cell_type": "code",
      "metadata": {
        "id": "ZDXiVO6AatZV",
        "colab_type": "code",
        "colab": {}
      },
      "source": [
        "df_train =  pd.read_csv(\"https://raw.githubusercontent.com/DonRoboto/AprendizajeAutomatizado/master/spam.csv\",header=None, delimiter=\" \")\n",
        "\n",
        "df_train[:] = df_train[:].astype(float)\n",
        "data_train = df_train.to_numpy()\n",
        "\n",
        "X_dataP = data_train[:, 0:2000]\n",
        "y_dataP = data_train[:, -1]"
      ],
      "execution_count": 0,
      "outputs": []
    },
    {
      "cell_type": "code",
      "metadata": {
        "id": "DOY4UVdpweQd",
        "colab_type": "code",
        "outputId": "f9ba36ad-8828-4529-f854-629718159259",
        "colab": {
          "base_uri": "https://localhost:8080/",
          "height": 219
        }
      },
      "source": [
        "score_final = []\n",
        "for ex in range(10):\n",
        "\n",
        "  X_data, y_data = shuffle(X_dataP, y_dataP)\n",
        "\n",
        "  kf = StratifiedKFold(n_splits=5)\n",
        "  pred_test_full =0\n",
        "  \n",
        "  for train_index,test_index in kf.split(X_data,y_data):\n",
        "    cv_score =[]\n",
        "    xtr,xvl = X_data[train_index],X_data[test_index]\n",
        "    ytr,yvl = y_data[train_index],y_data[test_index]\n",
        "\n",
        "    theta = fit_modelo(xtr, ytr)\n",
        "    y_hat = evalua_modelo(xvl, theta)\n",
        "    score = roc_auc_score(yvl,y_hat)\n",
        "\n",
        "  \n",
        "    cv_score.append(score)\n",
        "  \n",
        "  print(ex, \" \", score.mean())   \n",
        "  score_final.append(score.mean())   \n",
        "print(\"Resultado Regresión Logística:\", sum(score_final)/len(score_final))   \n"
      ],
      "execution_count": 6,
      "outputs": [
        {
          "output_type": "stream",
          "text": [
            "0   0.826071752951862\n",
            "1   0.81736148955495\n",
            "2   0.846071752951862\n",
            "3   0.8451589464123523\n",
            "4   0.8357674841053588\n",
            "5   0.8450862851952771\n",
            "6   0.8303905540417801\n",
            "7   0.8467529518619438\n",
            "8   0.8224341507720254\n",
            "9   0.830086285195277\n",
            "Resultado Regresión Logística: 0.8345181653042688\n"
          ],
          "name": "stdout"
        }
      ]
    },
    {
      "cell_type": "code",
      "metadata": {
        "id": "-0ihwDOZ4bQR",
        "colab_type": "code",
        "colab": {
          "base_uri": "https://localhost:8080/",
          "height": 219
        },
        "outputId": "28794a68-1d2a-482f-a9f0-4701d4a19d97"
      },
      "source": [
        "score_final = []\n",
        "for ex in range(10):\n",
        "\n",
        "  X_data, y_data = shuffle(X_dataP, y_dataP)\n",
        "\n",
        "  kf = StratifiedKFold(n_splits=5)\n",
        "  pred_test_full =0\n",
        "  \n",
        "  for train_index,test_index in kf.split(X_data,y_data):\n",
        "    cv_score =[]\n",
        "    xtr,xvl = X_data[train_index],X_data[test_index]\n",
        "    ytr,yvl = y_data[train_index],y_data[test_index]\n",
        "    \n",
        "    lr = GaussianNB()\n",
        "    lr.fit(xtr,ytr)\n",
        "    score = roc_auc_score(yvl,lr.predict(xvl))\n",
        "  \n",
        "    cv_score.append(score)\n",
        "  \n",
        "  print(ex, \" \", score.mean())   \n",
        "  score_final.append(score.mean())   \n",
        "print(\"Resultado Clasificador Bayesiano Ingenuo:\", sum(score_final)/len(score_final)) "
      ],
      "execution_count": 8,
      "outputs": [
        {
          "output_type": "stream",
          "text": [
            "0   0.8757674841053589\n",
            "1   0.8601589464123525\n",
            "2   0.887811080835604\n",
            "3   0.8778110808356041\n",
            "4   0.883796548592189\n",
            "5   0.8644050862851953\n",
            "6   0.8701589464123524\n",
            "7   0.8897820163487739\n",
            "8   0.8634196185286104\n",
            "9   0.8775068119891009\n",
            "Resultado Clasificador Bayesiano Ingenuo: 0.875061762034514\n"
          ],
          "name": "stdout"
        }
      ]
    }
  ]
}