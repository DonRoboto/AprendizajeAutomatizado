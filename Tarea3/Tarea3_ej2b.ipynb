{
  "nbformat": 4,
  "nbformat_minor": 0,
  "metadata": {
    "colab": {
      "name": " \tTarea3_ej2b.ipynb",
      "provenance": [],
      "authorship_tag": "ABX9TyOJLswWhp4YrtO/98i+14Xw",
      "include_colab_link": true
    },
    "kernelspec": {
      "name": "python3",
      "display_name": "Python 3"
    }
  },
  "cells": [
    {
      "cell_type": "markdown",
      "metadata": {
        "id": "view-in-github",
        "colab_type": "text"
      },
      "source": [
        "<a href=\"https://colab.research.google.com/github/DonRoboto/AprendizajeAutomatizado/blob/master/Tarea3/Tarea3_ej2b.ipynb\" target=\"_parent\"><img src=\"https://colab.research.google.com/assets/colab-badge.svg\" alt=\"Open In Colab\"/></a>"
      ]
    },
    {
      "cell_type": "markdown",
      "metadata": {
        "id": "aiojrJypl7hD",
        "colab_type": "text"
      },
      "source": [
        "Ejercicio 2\n",
        "<br>\n",
        "Inciso b)"
      ]
    },
    {
      "cell_type": "markdown",
      "metadata": {
        "id": "A75eQvaumEOf",
        "colab_type": "text"
      },
      "source": [
        "Se importan librerias"
      ]
    },
    {
      "cell_type": "code",
      "metadata": {
        "id": "TYNO9lthmB6t",
        "colab_type": "code",
        "colab": {}
      },
      "source": [
        "import pandas as pd\n",
        "import numpy as np"
      ],
      "execution_count": 0,
      "outputs": []
    },
    {
      "cell_type": "markdown",
      "metadata": {
        "id": "SYB28aVXmKHE",
        "colab_type": "text"
      },
      "source": [
        "Se definen las funciones para entrenar un modelo mediante regresión logistica"
      ]
    },
    {
      "cell_type": "code",
      "metadata": {
        "id": "tjRJ5mJHmQJ2",
        "colab_type": "code",
        "colab": {}
      },
      "source": [
        "def sigmoide(X, weight):\n",
        "    z = np.dot(X, weight)\n",
        "    return 1 / (1 + np.exp(-z))\n",
        "\n",
        "def funcion_perdida(h, y):\n",
        "    return (-y * np.log(h) - (1 - y) * np.log(1 - h)).mean()\n",
        "\n",
        "def descenso_gradiente(X, h, y):\n",
        "    return np.dot(X.T, (h - y)) / y.shape[0]\n",
        "\n",
        "def actualiza_pesos(weight, learning_rate, gradient):\n",
        "    return weight - learning_rate * gradient"
      ],
      "execution_count": 0,
      "outputs": []
    },
    {
      "cell_type": "markdown",
      "metadata": {
        "id": "-9RPN7lYmVhY",
        "colab_type": "text"
      },
      "source": [
        "Cargamos datos de partidas de entrenamiento y validación"
      ]
    },
    {
      "cell_type": "code",
      "metadata": {
        "id": "fLlfWDC7mZbz",
        "colab_type": "code",
        "colab": {}
      },
      "source": [
        "#CARGAR LOS DATOS\n",
        "data_train = pd.read_csv(\"https://raw.githubusercontent.com/DonRoboto/AprendizajeAutomatizado/master/Tarea3/juegos_entrenamiento.txt\",header=None, delimiter=r\"\\s+\")\n",
        "df_train = pd.DataFrame(data_train)\n",
        "\n",
        "data_test = pd.read_csv(\"https://raw.githubusercontent.com/DonRoboto/AprendizajeAutomatizado/master/Tarea3/juegos_validacion.txt\",header=None, delimiter=r\"\\s+\")\n",
        "df_test = pd.DataFrame(data_test)"
      ],
      "execution_count": 0,
      "outputs": []
    },
    {
      "cell_type": "markdown",
      "metadata": {
        "id": "C1ZCtgUFmuMP",
        "colab_type": "text"
      },
      "source": [
        "Creamos una nueva matriz donde se codifican los ID de los jugadores en un vector"
      ]
    },
    {
      "cell_type": "code",
      "metadata": {
        "id": "kuTMPJjGm1QI",
        "colab_type": "code",
        "colab": {}
      },
      "source": [
        "num_rows_train, num_cols_train = data_train.shape\n",
        "id_max = data_train.max().max()\n",
        "\n",
        "a=[0]*int(id_max)\n",
        "juegos =[a]*num_rows_train\n",
        "juegos_train = pd.DataFrame(juegos)\n",
        "\n",
        "for row in range(num_rows_train):\n",
        "    A = df_train[0][row]\n",
        "    B = df_train[1][row]\n",
        "    Y = df_train[2][row]\n",
        "    \n",
        "    juegos_train[A-1][row]=1\n",
        "    juegos_train[B-1][row]=1\n",
        "    if(Y==1):\n",
        "        juegos_train[id_max-1][row]=1\n",
        "    else:\n",
        "        juegos_train[id_max-1][row]=0\n",
        "juegos_train = np.array(juegos_train)\n",
        "\n",
        "X_train = juegos_train[:,0:id_max-1]\n",
        "y_train = juegos_train[:,-1]"
      ],
      "execution_count": 0,
      "outputs": []
    },
    {
      "cell_type": "markdown",
      "metadata": {
        "id": "71RyVBjNnCyV",
        "colab_type": "text"
      },
      "source": [
        "Matriz codificada de las partidas de validación"
      ]
    },
    {
      "cell_type": "code",
      "metadata": {
        "id": "nqbHSD20nG3c",
        "colab_type": "code",
        "colab": {}
      },
      "source": [
        "num_rows_test, num_cols_test = data_test.shape\n",
        "\n",
        "a=[0]*int(id_max)\n",
        "juegos =[a]*num_rows_test\n",
        "juegos_test = pd.DataFrame(juegos)\n",
        "\n",
        "for row in range(num_rows_test):\n",
        "    A = df_test[0][row]\n",
        "    B = df_test[1][row]\n",
        "    Y = df_test[2][row]\n",
        "    \n",
        "    juegos_test[A-1][row]=1\n",
        "    juegos_test[B-1][row]=1\n",
        "    if(Y==1):\n",
        "        juegos_test[id_max-1][row]=1\n",
        "    else:\n",
        "        juegos_test[id_max-1][row]=0\n",
        "juegos_test = np.array(juegos_test)\n",
        "\n",
        "X_test = juegos_test[:,:id_max-1]\n",
        "y_test = juegos_test[:,-1]"
      ],
      "execution_count": 0,
      "outputs": []
    },
    {
      "cell_type": "markdown",
      "metadata": {
        "id": "QptyFEGLnRY3",
        "colab_type": "text"
      },
      "source": [
        "Se entrena con el modelo de regresión logística"
      ]
    },
    {
      "cell_type": "code",
      "metadata": {
        "id": "UVBhrGLAnZSu",
        "colab_type": "code",
        "colab": {}
      },
      "source": [
        "num_iter = 100000\n",
        "\n",
        "intercept_train = np.ones((X_train.shape[0], 1)) \n",
        "X_train = np.concatenate((intercept_train, X_train), axis=1)\n",
        "theta = np.zeros(X_train.shape[1])\n",
        "\n",
        "for i in range(num_iter):\n",
        "    h = sigmoide(X_train, theta)\n",
        "    gradient = descenso_gradiente(X_train, h, y_train)\n",
        "    theta = actualiza_pesos(theta, 0.001, gradient)"
      ],
      "execution_count": 0,
      "outputs": []
    },
    {
      "cell_type": "markdown",
      "metadata": {
        "id": "WHCP0aDVnhPC",
        "colab_type": "text"
      },
      "source": [
        "Evaluamos con el modelo entrenado"
      ]
    },
    {
      "cell_type": "code",
      "metadata": {
        "id": "R0rQvgRcnl89",
        "colab_type": "code",
        "colab": {}
      },
      "source": [
        "intercept_test = np.ones((X_test.shape[0], 1)) \n",
        "X_test = np.concatenate((intercept_test, X_test), axis=1)\n",
        "\n",
        "y_val = sigmoide(X_test, theta)"
      ],
      "execution_count": 0,
      "outputs": []
    },
    {
      "cell_type": "markdown",
      "metadata": {
        "id": "pB3G9tF1n1Hr",
        "colab_type": "text"
      },
      "source": [
        "Convertimos los valores a etiquetas 0 o 1 dependiendo de un umbral"
      ]
    },
    {
      "cell_type": "code",
      "metadata": {
        "id": "bp0BOv2Gn6IT",
        "colab_type": "code",
        "colab": {}
      },
      "source": [
        "y_label = [0] * len(y_val)\n",
        "v_max = max(y_val)\n",
        "v_min = min(y_val)\n",
        "umbral = (v_max-v_min)/2\n",
        "\n",
        "for i in range(len(y_val)):\n",
        "    if(y_val[i]>umbral):\n",
        "        y_label[i]=1\n",
        "    else:\n",
        "        y_label[i]=0"
      ],
      "execution_count": 0,
      "outputs": []
    },
    {
      "cell_type": "markdown",
      "metadata": {
        "id": "CxHAcsO9n9D9",
        "colab_type": "text"
      },
      "source": [
        "Evaluamos los casos en los que coincide el modelo con el conjunto de validación"
      ]
    },
    {
      "cell_type": "code",
      "metadata": {
        "id": "f3PU1chnoDeV",
        "colab_type": "code",
        "outputId": "99e2fa28-e738-4190-d997-f263d5a8d0f8",
        "colab": {
          "base_uri": "https://localhost:8080/",
          "height": 35
        }
      },
      "source": [
        "score=[]\n",
        "for y1, y2 in zip(y_test, y_label):\n",
        "    if y1 == y2:\n",
        "        score.append(1)\n",
        "    else:\n",
        "        score.append(0)\n",
        "\n",
        "print(\"Accuracy:\", sum(score)/len(score))"
      ],
      "execution_count": 0,
      "outputs": [
        {
          "output_type": "stream",
          "text": [
            "Accuracy: 0.7130434782608696\n"
          ],
          "name": "stdout"
        }
      ]
    },
    {
      "cell_type": "markdown",
      "metadata": {
        "id": "qQTJeasOpaXt",
        "colab_type": "text"
      },
      "source": [
        "Comparamos este resultado con el que obtendríamos mediante las librerias de sklearn"
      ]
    },
    {
      "cell_type": "code",
      "metadata": {
        "id": "K6AotL9mpf2F",
        "colab_type": "code",
        "outputId": "573b9cc3-61cb-4401-a780-093f65f93cfe",
        "colab": {
          "base_uri": "https://localhost:8080/",
          "height": 35
        }
      },
      "source": [
        "from sklearn.linear_model import LogisticRegression \n",
        "from sklearn import metrics\n",
        "\n",
        "model=LogisticRegression()\n",
        "model.fit(X_train,y_train)\n",
        "\n",
        "score2 = metrics.accuracy_score(y_test, y_label)\n",
        "\n",
        "print(\"Accuracy:\", score2)"
      ],
      "execution_count": 0,
      "outputs": [
        {
          "output_type": "stream",
          "text": [
            "Accuracy: 0.7130434782608696\n"
          ],
          "name": "stdout"
        }
      ]
    },
    {
      "cell_type": "markdown",
      "metadata": {
        "id": "ZmFUmYqQoNBg",
        "colab_type": "text"
      },
      "source": [
        "Lo que representa una mejora con respecto al modelo Bayesiano"
      ]
    },
    {
      "cell_type": "markdown",
      "metadata": {
        "id": "jhWcXGdeoYfG",
        "colab_type": "text"
      },
      "source": [
        "Graficamos la curva ROC"
      ]
    },
    {
      "cell_type": "code",
      "metadata": {
        "id": "o_nVmta_oaUU",
        "colab_type": "code",
        "outputId": "c6b3465b-15e2-4762-b8f6-ae46a178c2e4",
        "colab": {
          "base_uri": "https://localhost:8080/",
          "height": 295
        }
      },
      "source": [
        "import matplotlib.pyplot as plt\n",
        "from sklearn import metrics\n",
        "\n",
        "fpr, tpr, threshold = metrics.roc_curve(y_test, y_val)\n",
        "roc_auc = metrics.auc(fpr, tpr)\n",
        "\n",
        "plt.title('ROC')\n",
        "plt.plot(fpr, tpr, 'b', label = 'AUC = %0.2f' % roc_auc)\n",
        "plt.legend(loc = 'lower right')\n",
        "plt.plot([0, 1], [0, 1],'r--')\n",
        "plt.xlim([0, 1])\n",
        "plt.ylim([0, 1])\n",
        "plt.ylabel('True Positive Rate')\n",
        "plt.xlabel('False Positive Rate')\n",
        "plt.show()"
      ],
      "execution_count": 0,
      "outputs": [
        {
          "output_type": "display_data",
          "data": {
            "image/png": "[encoded data removed]",
            "text/plain": [
              "<Figure size 432x288 with 1 Axes>"
            ]
          },
          "metadata": {
            "tags": [],
            "needs_background": "light"
          }
        }
      ]
    },
    {
      "cell_type": "markdown",
      "metadata": {
        "id": "GPj46Vk8sxDo",
        "colab_type": "text"
      },
      "source": [
        "Graficamos la curva precisiónexhaustividad"
      ]
    },
    {
      "cell_type": "code",
      "metadata": {
        "id": "NnQrNPN8pKED",
        "colab_type": "code",
        "outputId": "6d4d0f9a-5fc8-44ef-9cb8-85890c633586",
        "colab": {
          "base_uri": "https://localhost:8080/",
          "height": 332
        }
      },
      "source": [
        "from sklearn.metrics import average_precision_score\n",
        "average_precision = average_precision_score(y_test, y_val)\n",
        "print('Average precision-recall score: {0:0.2f}'.format(average_precision))\n",
        "\n",
        "from sklearn.metrics import plot_precision_recall_curve\n",
        "disp = plot_precision_recall_curve(model, X_test, y_test)\n",
        "disp.ax_.set_title('2-class Precision-Recall curve: '\n",
        "                   'AP={0:0.2f}'.format(average_precision))"
      ],
      "execution_count": 0,
      "outputs": [
        {
          "output_type": "stream",
          "text": [
            "Average precision-recall score: 0.77\n"
          ],
          "name": "stdout"
        },
        {
          "output_type": "execute_result",
          "data": {
            "text/plain": [
              "Text(0.5, 1.0, '2-class Precision-Recall curve: AP=0.77')"
            ]
          },
          "metadata": {
            "tags": []
          },
          "execution_count": 12
        },
        {
          "output_type": "display_data",
          "data": {
            "image/png": "[encoded data removed]",
            "text/plain": [
              "<Figure size 432x288 with 1 Axes>"
            ]
          },
          "metadata": {
            "tags": [],
            "needs_background": "light"
          }
        }
      ]
    }
  ]
}