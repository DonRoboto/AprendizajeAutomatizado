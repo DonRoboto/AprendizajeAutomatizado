{
  "nbformat": 4,
  "nbformat_minor": 0,
  "metadata": {
    "colab": {
      "name": "Tarea2_ej3.ipynb",
      "provenance": [],
      "authorship_tag": "ABX9TyNZhbIHmxFlJJnPOIPPgTDN",
      "include_colab_link": true
    },
    "kernelspec": {
      "name": "python3",
      "display_name": "Python 3"
    }
  },
  "cells": [
    {
      "cell_type": "markdown",
      "metadata": {
        "id": "view-in-github",
        "colab_type": "text"
      },
      "source": [
        "<a href=\"https://colab.research.google.com/github/DonRoboto/AprendizajeAutomatizado/blob/master/Tarea2_ej3.ipynb\" target=\"_parent\"><img src=\"https://colab.research.google.com/assets/colab-badge.svg\" alt=\"Open In Colab\"/></a>"
      ]
    },
    {
      "cell_type": "markdown",
      "metadata": {
        "id": "A8vbQxezEVGW",
        "colab_type": "text"
      },
      "source": [
        "Tarea 2: Ejercicio 3 Cáncer de seno"
      ]
    },
    {
      "cell_type": "markdown",
      "metadata": {
        "id": "YunjNOqdEfmE",
        "colab_type": "text"
      },
      "source": [
        "Importamos librerias necesarias"
      ]
    },
    {
      "cell_type": "code",
      "metadata": {
        "id": "39tQTA0mEeTZ",
        "colab_type": "code",
        "colab": {}
      },
      "source": [
        "from sklearn.utils import shuffle\n",
        "import pandas as pd\n",
        "from csv import writer"
      ],
      "execution_count": 0,
      "outputs": []
    },
    {
      "cell_type": "markdown",
      "metadata": {
        "id": "SN6Usnc2Emfc",
        "colab_type": "text"
      },
      "source": [
        "Función para almacenar resultados en archivo csv"
      ]
    },
    {
      "cell_type": "code",
      "metadata": {
        "id": "60MiPS4DEp91",
        "colab_type": "code",
        "colab": {}
      },
      "source": [
        "def append_list_as_row(file_name, list_of_elem):\n",
        "    with open(file_name, 'a+', newline='') as write_obj:\n",
        "        csv_writer = writer(write_obj)\n",
        "        csv_writer.writerow(list_of_elem)  "
      ],
      "execution_count": 0,
      "outputs": []
    },
    {
      "cell_type": "markdown",
      "metadata": {
        "id": "nLFpvj06EsI1",
        "colab_type": "text"
      },
      "source": [
        "Cargamos datos y los mezclamos con semilla=0"
      ]
    },
    {
      "cell_type": "code",
      "metadata": {
        "id": "sf-hHF6fEyk8",
        "colab_type": "code",
        "colab": {}
      },
      "source": [
        "df = pd.read_csv(\"./breast-cancer-wisconsin.data\", header=None, delimiter = ',')\n",
        "data = df.to_numpy()\n",
        "df = shuffle(df,random_state=0)"
      ],
      "execution_count": 0,
      "outputs": []
    },
    {
      "cell_type": "markdown",
      "metadata": {
        "id": "y0uiBW4-E3QN",
        "colab_type": "text"
      },
      "source": [
        "Tomamos el 70% para entrenamiento y el 30% para validación"
      ]
    },
    {
      "cell_type": "code",
      "metadata": {
        "id": "VTw4kDkKE94v",
        "colab_type": "code",
        "colab": {}
      },
      "source": [
        "num_rows = len(df.index)\n",
        "i = int(round(num_rows*0.7))\n",
        "\n",
        "data_train = df.iloc[:i].to_numpy()\n",
        "data_test = df.iloc[i:].to_numpy()\n",
        "\n",
        "X_train = data_train[:,1:10]\n",
        "y_train = data_train[:,10]\n",
        "X_test = data_test[:,1:10]\n",
        "y_test = data_test[:,10]"
      ],
      "execution_count": 0,
      "outputs": []
    },
    {
      "cell_type": "markdown",
      "metadata": {
        "id": "89ZRgYAyFAw1",
        "colab_type": "text"
      },
      "source": [
        "Entrenamos con un clasificador bayesiano"
      ]
    },
    {
      "cell_type": "code",
      "metadata": {
        "id": "VYOwmeJ-FDYf",
        "colab_type": "code",
        "colab": {}
      },
      "source": [
        "from sklearn.naive_bayes import GaussianNB\n",
        "clf = GaussianNB()\n",
        "clf.fit(X_train, y_train)"
      ],
      "execution_count": 0,
      "outputs": []
    },
    {
      "cell_type": "markdown",
      "metadata": {
        "id": "MEgG_BMzFFIX",
        "colab_type": "text"
      },
      "source": [
        "Evaluamos en el conjunto de entrenamiento"
      ]
    },
    {
      "cell_type": "code",
      "metadata": {
        "id": "RsXOzS5tFJJc",
        "colab_type": "code",
        "colab": {}
      },
      "source": [
        "for index in range(len(X_train)):\n",
        "    x=X_train[index,:]\n",
        "    y=y_train[index]\n",
        "    row_contents = [clf.predict([x])[0], y]\n",
        "    append_list_as_row('./breast_result.csv', row_contents) "
      ],
      "execution_count": 0,
      "outputs": []
    },
    {
      "cell_type": "markdown",
      "metadata": {
        "id": "mBbYBiYhFKAW",
        "colab_type": "text"
      },
      "source": [
        "Evaluamos en el conjunto de validación"
      ]
    },
    {
      "cell_type": "code",
      "metadata": {
        "id": "FcIK2PS_FML9",
        "colab_type": "code",
        "colab": {}
      },
      "source": [
        "for index in range(len(X_test)):\n",
        "    x=X_test[index,:]\n",
        "    y=y_test[index]\n",
        "    row_contents = [clf.predict([x])[0], y]\n",
        "    append_list_as_row('./breast_result.csv', row_contents) "
      ],
      "execution_count": 0,
      "outputs": []
    }
  ]
}