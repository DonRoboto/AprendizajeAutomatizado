{
  "nbformat": 4,
  "nbformat_minor": 0,
  "metadata": {
    "colab": {
      "name": "BayesianNetwork_v1.ipynb",
      "provenance": [],
      "authorship_tag": "ABX9TyNnpzJwjeYzTcj26Fj1jXP2",
      "include_colab_link": true
    },
    "kernelspec": {
      "name": "python3",
      "display_name": "Python 3"
    },
    "language_info": {
      "name": "python"
    }
  },
  "cells": [
    {
      "cell_type": "markdown",
      "metadata": {
        "id": "view-in-github",
        "colab_type": "text"
      },
      "source": [
        "<a href=\"https://colab.research.google.com/github/DonRoboto/AprendizajeAutomatizado/blob/master/BayesianNetwork_v1.ipynb\" target=\"_parent\"><img src=\"https://colab.research.google.com/assets/colab-badge.svg\" alt=\"Open In Colab\"/></a>"
      ]
    },
    {
      "cell_type": "code",
      "metadata": {
        "colab": {
          "base_uri": "https://localhost:8080/"
        },
        "id": "1dNxisrE2MkY",
        "outputId": "7c18715f-7077-4f22-b45b-8106183730f3"
      },
      "source": [
        "!pip install pomegranate\n"
      ],
      "execution_count": 20,
      "outputs": [
        {
          "output_type": "stream",
          "text": [
            "Requirement already satisfied: pomegranate in /usr/local/lib/python3.7/dist-packages (0.14.5)\n",
            "Requirement already satisfied: joblib>=0.9.0b4 in /usr/local/lib/python3.7/dist-packages (from pomegranate) (1.0.1)\n",
            "Requirement already satisfied: pyyaml in /usr/local/lib/python3.7/dist-packages (from pomegranate) (3.13)\n",
            "Requirement already satisfied: scipy>=0.17.0 in /usr/local/lib/python3.7/dist-packages (from pomegranate) (1.4.1)\n",
            "Requirement already satisfied: numpy>=1.20.0 in /usr/local/lib/python3.7/dist-packages (from pomegranate) (1.20.3)\n",
            "Requirement already satisfied: networkx>=2.4 in /usr/local/lib/python3.7/dist-packages (from pomegranate) (2.5.1)\n",
            "Requirement already satisfied: decorator<5,>=4.3 in /usr/local/lib/python3.7/dist-packages (from networkx>=2.4->pomegranate) (4.4.2)\n"
          ],
          "name": "stdout"
        }
      ]
    },
    {
      "cell_type": "code",
      "metadata": {
        "id": "ZWnNCOeiGoHf"
      },
      "source": [
        "\n",
        "import numpy as np\n",
        "import pandas as pd\n",
        "from sklearn import datasets\n",
        "import matplotlib.pyplot as plt\n",
        "from sklearn.model_selection import train_test_split\n",
        "from sklearn.metrics import confusion_matrix\n",
        "\n",
        "import math\n",
        "from pomegranate import *\n"
      ],
      "execution_count": 50,
      "outputs": []
    },
    {
      "cell_type": "code",
      "metadata": {
        "colab": {
          "base_uri": "https://localhost:8080/",
          "height": 206
        },
        "id": "j_skcTDTAdzI",
        "outputId": "c8da6ae2-60dd-425f-ab39-87298f7b3339"
      },
      "source": [
        "df = pd.read_csv(\"iris.csv\") \n",
        "\n",
        "df.head()"
      ],
      "execution_count": 85,
      "outputs": [
        {
          "output_type": "execute_result",
          "data": {
            "text/html": [
              "<div>\n",
              "<style scoped>\n",
              "    .dataframe tbody tr th:only-of-type {\n",
              "        vertical-align: middle;\n",
              "    }\n",
              "\n",
              "    .dataframe tbody tr th {\n",
              "        vertical-align: top;\n",
              "    }\n",
              "\n",
              "    .dataframe thead th {\n",
              "        text-align: right;\n",
              "    }\n",
              "</style>\n",
              "<table border=\"1\" class=\"dataframe\">\n",
              "  <thead>\n",
              "    <tr style=\"text-align: right;\">\n",
              "      <th></th>\n",
              "      <th>s_length</th>\n",
              "      <th>s_width</th>\n",
              "      <th>p_length</th>\n",
              "      <th>p_width</th>\n",
              "      <th>variety</th>\n",
              "    </tr>\n",
              "  </thead>\n",
              "  <tbody>\n",
              "    <tr>\n",
              "      <th>0</th>\n",
              "      <td>5.1</td>\n",
              "      <td>3.5</td>\n",
              "      <td>1.4</td>\n",
              "      <td>0.2</td>\n",
              "      <td>0</td>\n",
              "    </tr>\n",
              "    <tr>\n",
              "      <th>1</th>\n",
              "      <td>4.9</td>\n",
              "      <td>3.0</td>\n",
              "      <td>1.4</td>\n",
              "      <td>0.2</td>\n",
              "      <td>0</td>\n",
              "    </tr>\n",
              "    <tr>\n",
              "      <th>2</th>\n",
              "      <td>4.7</td>\n",
              "      <td>3.2</td>\n",
              "      <td>1.3</td>\n",
              "      <td>0.2</td>\n",
              "      <td>0</td>\n",
              "    </tr>\n",
              "    <tr>\n",
              "      <th>3</th>\n",
              "      <td>4.6</td>\n",
              "      <td>3.1</td>\n",
              "      <td>1.5</td>\n",
              "      <td>0.2</td>\n",
              "      <td>0</td>\n",
              "    </tr>\n",
              "    <tr>\n",
              "      <th>4</th>\n",
              "      <td>5.0</td>\n",
              "      <td>3.6</td>\n",
              "      <td>1.4</td>\n",
              "      <td>0.2</td>\n",
              "      <td>0</td>\n",
              "    </tr>\n",
              "  </tbody>\n",
              "</table>\n",
              "</div>"
            ],
            "text/plain": [
              "   s_length  s_width  p_length  p_width  variety\n",
              "0       5.1      3.5       1.4      0.2        0\n",
              "1       4.9      3.0       1.4      0.2        0\n",
              "2       4.7      3.2       1.3      0.2        0\n",
              "3       4.6      3.1       1.5      0.2        0\n",
              "4       5.0      3.6       1.4      0.2        0"
            ]
          },
          "metadata": {
            "tags": []
          },
          "execution_count": 85
        }
      ]
    },
    {
      "cell_type": "code",
      "metadata": {
        "id": "9I7sGSze2c4T"
      },
      "source": [
        "def jitter(a_series, noise_reduction=1000000):\n",
        "    return (np.random.random(len(a_series))*a_series.std()/noise_reduction)-(a_series.std()/(2*noise_reduction))\n",
        "\n",
        "\n",
        "\n",
        "df['Ds_length'] = pd.qcut(df['s_length']+ jitter(df['s_length']), 10, labels=False)\n",
        "df['Ds_width'] = pd.qcut(df['s_width']+ jitter(df['s_width']), 10, labels=False)\n",
        "df['Dp_length'] = pd.qcut(df['p_length']+ jitter(df['p_length']), 10, labels=False)\n",
        "df['Dp_width'] = pd.qcut(df['p_width']+ jitter(df['p_width']), 10, labels=False)\n",
        "\n"
      ],
      "execution_count": 86,
      "outputs": []
    },
    {
      "cell_type": "code",
      "metadata": {
        "colab": {
          "base_uri": "https://localhost:8080/",
          "height": 206
        },
        "id": "jZhFhtywE-9X",
        "outputId": "7464bf27-4a17-4608-c968-b0ed4aa61f85"
      },
      "source": [
        "df.head()\n"
      ],
      "execution_count": 24,
      "outputs": [
        {
          "output_type": "execute_result",
          "data": {
            "text/html": [
              "<div>\n",
              "<style scoped>\n",
              "    .dataframe tbody tr th:only-of-type {\n",
              "        vertical-align: middle;\n",
              "    }\n",
              "\n",
              "    .dataframe tbody tr th {\n",
              "        vertical-align: top;\n",
              "    }\n",
              "\n",
              "    .dataframe thead th {\n",
              "        text-align: right;\n",
              "    }\n",
              "</style>\n",
              "<table border=\"1\" class=\"dataframe\">\n",
              "  <thead>\n",
              "    <tr style=\"text-align: right;\">\n",
              "      <th></th>\n",
              "      <th>s_length</th>\n",
              "      <th>s_width</th>\n",
              "      <th>p_length</th>\n",
              "      <th>p_width</th>\n",
              "      <th>variety</th>\n",
              "      <th>Ds_length</th>\n",
              "      <th>Ds_width</th>\n",
              "      <th>Dp_length</th>\n",
              "      <th>Dp_width</th>\n",
              "    </tr>\n",
              "  </thead>\n",
              "  <tbody>\n",
              "    <tr>\n",
              "      <th>0</th>\n",
              "      <td>5.1</td>\n",
              "      <td>3.5</td>\n",
              "      <td>1.4</td>\n",
              "      <td>0.2</td>\n",
              "      <td>0</td>\n",
              "      <td>2</td>\n",
              "      <td>8</td>\n",
              "      <td>1</td>\n",
              "      <td>0</td>\n",
              "    </tr>\n",
              "    <tr>\n",
              "      <th>1</th>\n",
              "      <td>4.9</td>\n",
              "      <td>3.0</td>\n",
              "      <td>1.4</td>\n",
              "      <td>0.2</td>\n",
              "      <td>0</td>\n",
              "      <td>1</td>\n",
              "      <td>4</td>\n",
              "      <td>0</td>\n",
              "      <td>2</td>\n",
              "    </tr>\n",
              "    <tr>\n",
              "      <th>2</th>\n",
              "      <td>4.7</td>\n",
              "      <td>3.2</td>\n",
              "      <td>1.3</td>\n",
              "      <td>0.2</td>\n",
              "      <td>0</td>\n",
              "      <td>0</td>\n",
              "      <td>6</td>\n",
              "      <td>0</td>\n",
              "      <td>0</td>\n",
              "    </tr>\n",
              "    <tr>\n",
              "      <th>3</th>\n",
              "      <td>4.6</td>\n",
              "      <td>3.1</td>\n",
              "      <td>1.5</td>\n",
              "      <td>0.2</td>\n",
              "      <td>0</td>\n",
              "      <td>0</td>\n",
              "      <td>5</td>\n",
              "      <td>2</td>\n",
              "      <td>1</td>\n",
              "    </tr>\n",
              "    <tr>\n",
              "      <th>4</th>\n",
              "      <td>5.0</td>\n",
              "      <td>3.6</td>\n",
              "      <td>1.4</td>\n",
              "      <td>0.2</td>\n",
              "      <td>0</td>\n",
              "      <td>2</td>\n",
              "      <td>8</td>\n",
              "      <td>1</td>\n",
              "      <td>1</td>\n",
              "    </tr>\n",
              "  </tbody>\n",
              "</table>\n",
              "</div>"
            ],
            "text/plain": [
              "   s_length  s_width  p_length  ...  Ds_width  Dp_length  Dp_width\n",
              "0       5.1      3.5       1.4  ...         8          1         0\n",
              "1       4.9      3.0       1.4  ...         4          0         2\n",
              "2       4.7      3.2       1.3  ...         6          0         0\n",
              "3       4.6      3.1       1.5  ...         5          2         1\n",
              "4       5.0      3.6       1.4  ...         8          1         1\n",
              "\n",
              "[5 rows x 9 columns]"
            ]
          },
          "metadata": {
            "tags": []
          },
          "execution_count": 24
        }
      ]
    },
    {
      "cell_type": "code",
      "metadata": {
        "id": "fdTxoCIz2zjB"
      },
      "source": [
        "df_model = df.loc[:,['variety','Ds_length', 'Ds_width', 'Dp_length', 'Dp_width' ]]"
      ],
      "execution_count": 87,
      "outputs": []
    },
    {
      "cell_type": "code",
      "metadata": {
        "colab": {
          "base_uri": "https://localhost:8080/",
          "height": 206
        },
        "id": "acyJsxmzF1OH",
        "outputId": "53c2f03f-8cd1-4e48-c632-9a50401b8b4a"
      },
      "source": [
        "df_model.head()"
      ],
      "execution_count": 40,
      "outputs": [
        {
          "output_type": "execute_result",
          "data": {
            "text/html": [
              "<div>\n",
              "<style scoped>\n",
              "    .dataframe tbody tr th:only-of-type {\n",
              "        vertical-align: middle;\n",
              "    }\n",
              "\n",
              "    .dataframe tbody tr th {\n",
              "        vertical-align: top;\n",
              "    }\n",
              "\n",
              "    .dataframe thead th {\n",
              "        text-align: right;\n",
              "    }\n",
              "</style>\n",
              "<table border=\"1\" class=\"dataframe\">\n",
              "  <thead>\n",
              "    <tr style=\"text-align: right;\">\n",
              "      <th></th>\n",
              "      <th>variety</th>\n",
              "      <th>Ds_length</th>\n",
              "      <th>Ds_width</th>\n",
              "      <th>Dp_length</th>\n",
              "      <th>Dp_width</th>\n",
              "    </tr>\n",
              "  </thead>\n",
              "  <tbody>\n",
              "    <tr>\n",
              "      <th>0</th>\n",
              "      <td>0</td>\n",
              "      <td>2</td>\n",
              "      <td>8</td>\n",
              "      <td>1</td>\n",
              "      <td>0</td>\n",
              "    </tr>\n",
              "    <tr>\n",
              "      <th>1</th>\n",
              "      <td>0</td>\n",
              "      <td>1</td>\n",
              "      <td>4</td>\n",
              "      <td>0</td>\n",
              "      <td>2</td>\n",
              "    </tr>\n",
              "    <tr>\n",
              "      <th>2</th>\n",
              "      <td>0</td>\n",
              "      <td>0</td>\n",
              "      <td>6</td>\n",
              "      <td>0</td>\n",
              "      <td>0</td>\n",
              "    </tr>\n",
              "    <tr>\n",
              "      <th>3</th>\n",
              "      <td>0</td>\n",
              "      <td>0</td>\n",
              "      <td>5</td>\n",
              "      <td>2</td>\n",
              "      <td>1</td>\n",
              "    </tr>\n",
              "    <tr>\n",
              "      <th>4</th>\n",
              "      <td>0</td>\n",
              "      <td>2</td>\n",
              "      <td>8</td>\n",
              "      <td>1</td>\n",
              "      <td>1</td>\n",
              "    </tr>\n",
              "  </tbody>\n",
              "</table>\n",
              "</div>"
            ],
            "text/plain": [
              "   variety  Ds_length  Ds_width  Dp_length  Dp_width\n",
              "0        0          2         8          1         0\n",
              "1        0          1         4          0         2\n",
              "2        0          0         6          0         0\n",
              "3        0          0         5          2         1\n",
              "4        0          2         8          1         1"
            ]
          },
          "metadata": {
            "tags": []
          },
          "execution_count": 40
        }
      ]
    },
    {
      "cell_type": "code",
      "metadata": {
        "id": "UPbOnTMXHxtR"
      },
      "source": [
        "X = df_model.loc[:,['Ds_length', 'Ds_width', 'Dp_length', 'Dp_width']]\n",
        "y = df_model.loc[:,['variety']]\n",
        "X_train, X_test, y_train, y_test = train_test_split(X, y, test_size=0.33, random_state=42)"
      ],
      "execution_count": 88,
      "outputs": []
    },
    {
      "cell_type": "code",
      "metadata": {
        "id": "UzXSpJFoGSpb"
      },
      "source": [
        ""
      ],
      "execution_count": 28,
      "outputs": []
    },
    {
      "cell_type": "code",
      "metadata": {
        "id": "rpvz6jJLHOiP"
      },
      "source": [
        "X_train_model = pd.concat([y_train, X_train], axis=1)\n",
        "\n",
        "model = BayesianNetwork.from_samples(X_train_model, state_names=X_train_model.columns.values, algorithm='exact')\n"
      ],
      "execution_count": 89,
      "outputs": []
    },
    {
      "cell_type": "code",
      "metadata": {
        "id": "OhbTZJ7uIpCb"
      },
      "source": [
        "X_test_model = pd.concat([y_test, X_test], axis=1)\n",
        "X_test_model['variety']=None\n"
      ],
      "execution_count": 90,
      "outputs": []
    },
    {
      "cell_type": "code",
      "metadata": {
        "colab": {
          "base_uri": "https://localhost:8080/"
        },
        "id": "WUwo5qa5HdwT",
        "outputId": "ea8bbe98-df62-41af-a58c-03ad48f0c733"
      },
      "source": [
        "X_test_model.values\n"
      ],
      "execution_count": 80,
      "outputs": [
        {
          "output_type": "execute_result",
          "data": {
            "text/plain": [
              "array([[None, 6, 2, 6, 4],\n",
              "       [None, 4, 9, 3, 2],\n",
              "       [None, 9, 1, 9, 9],\n",
              "       [None, 5, 3, 5, 6],\n",
              "       [None, 8, 2, 6, 5],\n",
              "       [None, 3, 7, 2, 2],\n",
              "       [None, 4, 3, 3, 4],\n",
              "       [None, 8, 5, 7, 9],\n",
              "       [None, 6, 0, 5, 6],\n",
              "       [None, 5, 1, 4, 4],\n",
              "       [None, 7, 6, 7, 8],\n",
              "       [None, 0, 4, 1, 0],\n",
              "       [None, 3, 8, 0, 1],\n",
              "       [None, 1, 5, 2, 0],\n",
              "       [None, 2, 9, 1, 2],\n",
              "       [None, 6, 7, 6, 6],\n",
              "       [None, 7, 4, 8, 8],\n",
              "       [None, 3, 0, 3, 3],\n",
              "       [None, 4, 3, 5, 5],\n",
              "       [None, 7, 2, 8, 9],\n",
              "       [None, 0, 7, 2, 2],\n",
              "       [None, 6, 5, 6, 7],\n",
              "       [None, 1, 7, 2, 2],\n",
              "       [None, 7, 2, 8, 8],\n",
              "       [None, 9, 9, 9, 8],\n",
              "       [None, 8, 4, 7, 9],\n",
              "       [None, 8, 0, 9, 7],\n",
              "       [None, 8, 6, 9, 9],\n",
              "       [None, 0, 3, 1, 2],\n",
              "       [None, 0, 6, 2, 1],\n",
              "       [None, 0, 8, 0, 0],\n",
              "       [None, 4, 9, 1, 2],\n",
              "       [None, 8, 5, 5, 5],\n",
              "       [None, 1, 8, 2, 0],\n",
              "       [None, 0, 6, 0, 1],\n",
              "       [None, 7, 1, 7, 7],\n",
              "       [None, 7, 6, 5, 6],\n",
              "       [None, 2, 8, 2, 1],\n",
              "       [None, 1, 8, 1, 2],\n",
              "       [None, 2, 9, 2, 0],\n",
              "       [None, 4, 2, 7, 7],\n",
              "       [None, 5, 7, 5, 6],\n",
              "       [None, 8, 5, 6, 6],\n",
              "       [None, 3, 9, 0, 2],\n",
              "       [None, 3, 9, 2, 0],\n",
              "       [None, 3, 0, 3, 3],\n",
              "       [None, 6, 3, 7, 5],\n",
              "       [None, 7, 5, 8, 6],\n",
              "       [None, 8, 5, 5, 5],\n",
              "       [None, 9, 8, 9, 9]], dtype=object)"
            ]
          },
          "metadata": {
            "tags": []
          },
          "execution_count": 80
        }
      ]
    },
    {
      "cell_type": "code",
      "metadata": {
        "id": "6_WPHxyyc6FE"
      },
      "source": [
        "predict = model.predict_proba(X_test_model.values)"
      ],
      "execution_count": 91,
      "outputs": []
    },
    {
      "cell_type": "code",
      "metadata": {
        "colab": {
          "base_uri": "https://localhost:8080/"
        },
        "id": "GcvKYGU7dFEV",
        "outputId": "3ab1bfbd-d9cc-48d7-ec7f-82ce6dc0d5ec"
      },
      "source": [
        "y_model = model.predict(X_test_model.values)\n",
        "\n",
        "y_model\n",
        "\n"
      ],
      "execution_count": 94,
      "outputs": [
        {
          "output_type": "execute_result",
          "data": {
            "text/plain": [
              "[array([1, 6, 2, 6, 4], dtype=object),\n",
              " array([0, 4, 9, 3, 2], dtype=object),\n",
              " array([1, 9, 1, 9, 9], dtype=object),\n",
              " array([1, 5, 3, 5, 6], dtype=object),\n",
              " array([1, 8, 3, 6, 5], dtype=object),\n",
              " array([0, 3, 7, 2, 2], dtype=object),\n",
              " array([1, 4, 3, 3, 4], dtype=object),\n",
              " array([1, 9, 5, 7, 9], dtype=object),\n",
              " array([1, 6, 0, 5, 6], dtype=object),\n",
              " array([1, 5, 2, 4, 4], dtype=object),\n",
              " array([1, 7, 6, 7, 8], dtype=object),\n",
              " array([0, 0, 4, 0, 0], dtype=object),\n",
              " array([0, 3, 8, 0, 1], dtype=object),\n",
              " array([0, 1, 6, 1, 0], dtype=object),\n",
              " array([0, 2, 9, 1, 2], dtype=object),\n",
              " array([1, 7, 7, 6, 6], dtype=object),\n",
              " array([1, 7, 5, 9, 9], dtype=object),\n",
              " array([1, 4, 0, 3, 3], dtype=object),\n",
              " array([1, 4, 2, 5, 4], dtype=object),\n",
              " array([1, 7, 2, 8, 8], dtype=object),\n",
              " array([0, 0, 6, 2, 0], dtype=object),\n",
              " array([1, 6, 4, 6, 7], dtype=object),\n",
              " array([0, 1, 8, 2, 3], dtype=object),\n",
              " array([1, 7, 2, 8, 8], dtype=object),\n",
              " array([1, 9, 9, 9, 8], dtype=object),\n",
              " array([1, 8, 4, 7, 9], dtype=object),\n",
              " array([1, 8, 1, 9, 7], dtype=object),\n",
              " array([1, 8, 6, 9, 9], dtype=object),\n",
              " array([0, 0, 5, 1, 2], dtype=object),\n",
              " array([0, 1, 5, 2, 1], dtype=object),\n",
              " array([0, 0, 8, 0, 1], dtype=object),\n",
              " array([0, 4, 9, 2, 2], dtype=object),\n",
              " array([1, 8, 6, 5, 5], dtype=object),\n",
              " array([0, 0, 7, 2, 1], dtype=object),\n",
              " array([0, 0, 6, 0, 1], dtype=object),\n",
              " array([1, 6, 0, 6, 7], dtype=object),\n",
              " array([1, 7, 6, 5, 6], dtype=object),\n",
              " array([0, 2, 8, 2, 1], dtype=object),\n",
              " array([0, 1, 8, 1, 0], dtype=object),\n",
              " array([0, 2, 9, 1, 0], dtype=object),\n",
              " array([1, 5, 1, 7, 7], dtype=object),\n",
              " array([1, 5, 8, 5, 6], dtype=object),\n",
              " array([1, 8, 5, 6, 6], dtype=object),\n",
              " array([0, 3, 9, 0, 2], dtype=object),\n",
              " array([0, 3, 9, 2, 2], dtype=object),\n",
              " array([1, 3, 0, 3, 3], dtype=object),\n",
              " array([1, 7, 3, 7, 5], dtype=object),\n",
              " array([1, 7, 5, 8, 7], dtype=object),\n",
              " array([1, 8, 4, 5, 5], dtype=object),\n",
              " array([1, 9, 8, 9, 9], dtype=object)]"
            ]
          },
          "metadata": {
            "tags": []
          },
          "execution_count": 94
        }
      ]
    },
    {
      "cell_type": "code",
      "metadata": {
        "id": "fzG6ZW__grFg"
      },
      "source": [
        "def Extract(lst):\n",
        "    return list(list(zip(*lst))[0])\n",
        "\n",
        "y_pred = Extract(y_model)\n",
        "\n",
        "y_true = y_test"
      ],
      "execution_count": 95,
      "outputs": []
    },
    {
      "cell_type": "code",
      "metadata": {
        "id": "uop1aN-5fGbZ"
      },
      "source": [
        "cf = confusion_matrix(y_true, y_pred)"
      ],
      "execution_count": 96,
      "outputs": []
    },
    {
      "cell_type": "code",
      "metadata": {
        "colab": {
          "base_uri": "https://localhost:8080/"
        },
        "id": "PFeokeXjeu4L",
        "outputId": "c6dafb9a-47c8-479b-abb7-0a29906ce873"
      },
      "source": [
        "cf"
      ],
      "execution_count": 97,
      "outputs": [
        {
          "output_type": "execute_result",
          "data": {
            "text/plain": [
              "array([[19,  0],\n",
              "       [ 0, 31]])"
            ]
          },
          "metadata": {
            "tags": []
          },
          "execution_count": 97
        }
      ]
    }
  ]
}