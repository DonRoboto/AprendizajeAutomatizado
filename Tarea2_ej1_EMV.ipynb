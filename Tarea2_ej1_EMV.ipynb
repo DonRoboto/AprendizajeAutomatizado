{
  "nbformat": 4,
  "nbformat_minor": 0,
  "metadata": {
    "colab": {
      "name": "Tarea2_ej1_EMV.ipynb",
      "provenance": [],
      "mount_file_id": "1iPOurHakEsJNFhF699ZMd95JNYDmnFyf",
      "authorship_tag": "ABX9TyOBxf3Jt7VqycR0VrpB6F9K",
      "include_colab_link": true
    },
    "kernelspec": {
      "name": "python3",
      "display_name": "Python 3"
    }
  },
  "cells": [
    {
      "cell_type": "markdown",
      "metadata": {
        "id": "view-in-github",
        "colab_type": "text"
      },
      "source": [
        "<a href=\"https://colab.research.google.com/github/DonRoboto/AprendizajeAutomatizado/blob/master/Tarea2_ej1_EMV.ipynb\" target=\"_parent\"><img src=\"https://colab.research.google.com/assets/colab-badge.svg\" alt=\"Open In Colab\"/></a>"
      ]
    },
    {
      "cell_type": "markdown",
      "metadata": {
        "id": "bOGIQ0aheeuH",
        "colab_type": "text"
      },
      "source": [
        "**Tarea2: Ejercicio 1 donde las clases tienen distribucion binomial, las letras en los nombres tienen distribucion multinomial y el peso y estatura tiene distribución gaussiana\n",
        "\\\n",
        "Se utiliza el enfoque del Estimador de Máxima Verosimilitud**"
      ]
    },
    {
      "cell_type": "markdown",
      "metadata": {
        "id": "PBXSnQSBeo5i",
        "colab_type": "text"
      },
      "source": [
        "Importamos librerias necesarias\n"
      ]
    },
    {
      "cell_type": "code",
      "metadata": {
        "id": "efOALVzxelq6",
        "colab_type": "code",
        "colab": {}
      },
      "source": [
        "import numpy as np\n",
        "import pandas as pd\n",
        "import math  "
      ],
      "execution_count": 0,
      "outputs": []
    },
    {
      "cell_type": "markdown",
      "metadata": {
        "id": "tTfQ4mGifzFL",
        "colab_type": "text"
      },
      "source": [
        "Cargamos los datos y transformamos a numpy"
      ]
    },
    {
      "cell_type": "code",
      "metadata": {
        "id": "YVc_1Topf3kL",
        "colab_type": "code",
        "outputId": "dbcd03c0-98ff-4863-d52d-b8f8ddd93df1",
        "colab": {
          "base_uri": "https://localhost:8080/",
          "height": 206
        }
      },
      "source": [
        "df = pd.read_csv(\"/content/drive/My Drive/Colab Notebooks/Tarea2/data/ej1_v1.csv\")\n",
        "data = df.to_numpy()\n",
        "df.head()"
      ],
      "execution_count": 0,
      "outputs": [
        {
          "output_type": "execute_result",
          "data": {
            "text/html": [
              "<div>\n",
              "<style scoped>\n",
              "    .dataframe tbody tr th:only-of-type {\n",
              "        vertical-align: middle;\n",
              "    }\n",
              "\n",
              "    .dataframe tbody tr th {\n",
              "        vertical-align: top;\n",
              "    }\n",
              "\n",
              "    .dataframe thead th {\n",
              "        text-align: right;\n",
              "    }\n",
              "</style>\n",
              "<table border=\"1\" class=\"dataframe\">\n",
              "  <thead>\n",
              "    <tr style=\"text-align: right;\">\n",
              "      <th></th>\n",
              "      <th>F1</th>\n",
              "      <th>F2</th>\n",
              "      <th>F3</th>\n",
              "      <th>F4</th>\n",
              "      <th>F5</th>\n",
              "      <th>F6</th>\n",
              "      <th>F7</th>\n",
              "      <th>F8</th>\n",
              "      <th>F9</th>\n",
              "      <th>F10</th>\n",
              "      <th>F11</th>\n",
              "      <th>F12</th>\n",
              "      <th>F13</th>\n",
              "      <th>F14</th>\n",
              "      <th>F15</th>\n",
              "      <th>F16</th>\n",
              "      <th>C</th>\n",
              "    </tr>\n",
              "  </thead>\n",
              "  <tbody>\n",
              "    <tr>\n",
              "      <th>0</th>\n",
              "      <td>0</td>\n",
              "      <td>0</td>\n",
              "      <td>1</td>\n",
              "      <td>1</td>\n",
              "      <td>0</td>\n",
              "      <td>1</td>\n",
              "      <td>0</td>\n",
              "      <td>0</td>\n",
              "      <td>1</td>\n",
              "      <td>0</td>\n",
              "      <td>0</td>\n",
              "      <td>1</td>\n",
              "      <td>0</td>\n",
              "      <td>0</td>\n",
              "      <td>1.72</td>\n",
              "      <td>75.3</td>\n",
              "      <td>M</td>\n",
              "    </tr>\n",
              "    <tr>\n",
              "      <th>1</th>\n",
              "      <td>2</td>\n",
              "      <td>0</td>\n",
              "      <td>1</td>\n",
              "      <td>1</td>\n",
              "      <td>1</td>\n",
              "      <td>0</td>\n",
              "      <td>0</td>\n",
              "      <td>1</td>\n",
              "      <td>0</td>\n",
              "      <td>1</td>\n",
              "      <td>0</td>\n",
              "      <td>0</td>\n",
              "      <td>2</td>\n",
              "      <td>0</td>\n",
              "      <td>1.82</td>\n",
              "      <td>81.6</td>\n",
              "      <td>M</td>\n",
              "    </tr>\n",
              "    <tr>\n",
              "      <th>2</th>\n",
              "      <td>1</td>\n",
              "      <td>0</td>\n",
              "      <td>0</td>\n",
              "      <td>1</td>\n",
              "      <td>0</td>\n",
              "      <td>0</td>\n",
              "      <td>0</td>\n",
              "      <td>1</td>\n",
              "      <td>0</td>\n",
              "      <td>0</td>\n",
              "      <td>0</td>\n",
              "      <td>0</td>\n",
              "      <td>0</td>\n",
              "      <td>1</td>\n",
              "      <td>1.80</td>\n",
              "      <td>86.1</td>\n",
              "      <td>M</td>\n",
              "    </tr>\n",
              "    <tr>\n",
              "      <th>3</th>\n",
              "      <td>1</td>\n",
              "      <td>0</td>\n",
              "      <td>0</td>\n",
              "      <td>1</td>\n",
              "      <td>0</td>\n",
              "      <td>0</td>\n",
              "      <td>0</td>\n",
              "      <td>1</td>\n",
              "      <td>0</td>\n",
              "      <td>0</td>\n",
              "      <td>0</td>\n",
              "      <td>0</td>\n",
              "      <td>0</td>\n",
              "      <td>1</td>\n",
              "      <td>1.70</td>\n",
              "      <td>77.1</td>\n",
              "      <td>M</td>\n",
              "    </tr>\n",
              "    <tr>\n",
              "      <th>4</th>\n",
              "      <td>0</td>\n",
              "      <td>1</td>\n",
              "      <td>0</td>\n",
              "      <td>0</td>\n",
              "      <td>0</td>\n",
              "      <td>1</td>\n",
              "      <td>0</td>\n",
              "      <td>0</td>\n",
              "      <td>0</td>\n",
              "      <td>0</td>\n",
              "      <td>1</td>\n",
              "      <td>1</td>\n",
              "      <td>0</td>\n",
              "      <td>0</td>\n",
              "      <td>1.73</td>\n",
              "      <td>78.2</td>\n",
              "      <td>M</td>\n",
              "    </tr>\n",
              "  </tbody>\n",
              "</table>\n",
              "</div>"
            ],
            "text/plain": [
              "   F1  F2  F3  F4  F5  F6  F7  F8  F9  F10  F11  F12  F13  F14   F15   F16  C\n",
              "0   0   0   1   1   0   1   0   0   1    0    0    1    0    0  1.72  75.3  M\n",
              "1   2   0   1   1   1   0   0   1   0    1    0    0    2    0  1.82  81.6  M\n",
              "2   1   0   0   1   0   0   0   1   0    0    0    0    0    1  1.80  86.1  M\n",
              "3   1   0   0   1   0   0   0   1   0    0    0    0    0    1  1.70  77.1  M\n",
              "4   0   1   0   0   0   1   0   0   0    0    1    1    0    0  1.73  78.2  M"
            ]
          },
          "metadata": {
            "tags": []
          },
          "execution_count": 2
        }
      ]
    },
    {
      "cell_type": "markdown",
      "metadata": {
        "id": "iujqCoL0f_0t",
        "colab_type": "text"
      },
      "source": [
        "Separamos las clases en masculino y femenino"
      ]
    },
    {
      "cell_type": "code",
      "metadata": {
        "id": "o6SPgJj4gHlC",
        "colab_type": "code",
        "colab": {}
      },
      "source": [
        "#clase masculino\n",
        "data_masculino = data[data[:,-1] == \"M\"]\n",
        "x_nombres_masculino = data_masculino[:, :14]\n",
        "x_estatura_masculino = data_masculino[:, 14]\n",
        "x_peso_masculino = data_masculino[:, 15]\n",
        "\n",
        "#clase femenino\n",
        "data_femenino = data[data[:,-1] == \"F\"]\n",
        "x_nombres_femenino = data_femenino[:, :14]\n",
        "x_estatura_femenino = data_femenino[:, 14]\n",
        "x_peso_femenino = data_femenino[:, 15]"
      ],
      "execution_count": 0,
      "outputs": []
    },
    {
      "cell_type": "markdown",
      "metadata": {
        "id": "BZ3uAuRngM2L",
        "colab_type": "text"
      },
      "source": [
        "Calculamos los parámetros de la distribucion binomial para las clases"
      ]
    },
    {
      "cell_type": "code",
      "metadata": {
        "id": "Fj2_w6dzgTfj",
        "colab_type": "code",
        "outputId": "6b7d8f1c-e1d5-4b30-fe8f-451740295603",
        "colab": {
          "base_uri": "https://localhost:8080/",
          "height": 55
        }
      },
      "source": [
        "q_m = data_masculino.shape[0] / data.shape[0]\n",
        "q_f = data_femenino.shape[0] / data.shape[0]\n",
        "\n",
        "print(\"q_masculino=\" + str(q_m))\n",
        "print(\"q_femenino=\" + str(q_f))"
      ],
      "execution_count": 0,
      "outputs": [
        {
          "output_type": "stream",
          "text": [
            "q_masculino=0.5384615384615384\n",
            "q_femenino=0.46153846153846156\n"
          ],
          "name": "stdout"
        }
      ]
    },
    {
      "cell_type": "markdown",
      "metadata": {
        "id": "CRrEY3i6gcaI",
        "colab_type": "text"
      },
      "source": [
        "Contamos el número de ocurrencias para cada letra en los nombres para calcular los parametros de la distribución multinomial"
      ]
    },
    {
      "cell_type": "code",
      "metadata": {
        "id": "fcWYWQk5gqhi",
        "colab_type": "code",
        "outputId": "f4e67ffb-b85d-4bc4-c7b8-2e35c4eecca6",
        "colab": {
          "base_uri": "https://localhost:8080/",
          "height": 207
        }
      },
      "source": [
        "n_letra_masculino = x_nombres_masculino.sum(axis=0) \n",
        "n_letra_femenino = x_nombres_femenino.sum(axis=0) \n",
        "\n",
        "p_letra_masculino = n_letra_masculino / n_letra_masculino.sum()\n",
        "p_letra_femenino = n_letra_femenino / n_letra_femenino.sum()\n",
        "\n",
        "print(\"p_masculino=\" + str(p_letra_masculino))\n",
        "print(\"q_femenino=\" + str(p_letra_femenino))"
      ],
      "execution_count": 0,
      "outputs": [
        {
          "output_type": "stream",
          "text": [
            "p_masculino=[0.17647058823529413 0.029411764705882353 0.058823529411764705\n",
            " 0.11764705882352941 0.029411764705882353 0.058823529411764705\n",
            " 0.058823529411764705 0.08823529411764706 0.08823529411764706\n",
            " 0.029411764705882353 0.029411764705882353 0.058823529411764705\n",
            " 0.11764705882352941 0.058823529411764705]\n",
            "q_femenino=[0.14285714285714285 0.02857142857142857 0.08571428571428572\n",
            " 0.17142857142857143 0.05714285714285714 0.05714285714285714 0.0\n",
            " 0.08571428571428572 0.05714285714285714 0.05714285714285714\n",
            " 0.05714285714285714 0.05714285714285714 0.11428571428571428\n",
            " 0.02857142857142857]\n"
          ],
          "name": "stdout"
        }
      ]
    },
    {
      "cell_type": "markdown",
      "metadata": {
        "id": "VzOl3SUEhprg",
        "colab_type": "text"
      },
      "source": [
        "Calculamos los parametros de distribución gaussiana para la estatura"
      ]
    },
    {
      "cell_type": "code",
      "metadata": {
        "id": "sKCLatxohu1W",
        "colab_type": "code",
        "outputId": "02e9b7f6-6e84-4fb2-aec0-fc2ac7cbfd43",
        "colab": {
          "base_uri": "https://localhost:8080/",
          "height": 93
        }
      },
      "source": [
        "mu_estatura_masculino = x_estatura_masculino.mean()\n",
        "sigma_estatura_masculino = x_estatura_masculino.var()\n",
        "\n",
        "mu_estatura_femenino = x_estatura_femenino.mean()\n",
        "sigma_estatura_femenino = x_estatura_femenino.var()\n",
        "\n",
        "print(\"mu_estatura_masculino=\" + str(mu_estatura_masculino))\n",
        "print(\"sigma_estatura_masculino=\" + str(sigma_estatura_masculino))\n",
        "\n",
        "print(\"mu_estatura_femenino=\" + str(mu_estatura_femenino))\n",
        "print(\"sigma_estatura_femenino=\" + str(sigma_estatura_femenino))"
      ],
      "execution_count": 0,
      "outputs": [
        {
          "output_type": "stream",
          "text": [
            "mu_estatura_masculino=1.7671428571428573\n",
            "sigma_estatura_masculino=0.0020204081632653097\n",
            "mu_estatura_femenino=1.6183333333333334\n",
            "sigma_estatura_femenino=0.00744722222222222\n"
          ],
          "name": "stdout"
        }
      ]
    },
    {
      "cell_type": "markdown",
      "metadata": {
        "id": "0C8n3rv0h7nf",
        "colab_type": "text"
      },
      "source": [
        "Calculamos los parametros de distribución gaussiana para el peso"
      ]
    },
    {
      "cell_type": "code",
      "metadata": {
        "id": "I2zW_ozxh_wJ",
        "colab_type": "code",
        "outputId": "32de0bc5-63e6-46c9-bf7e-351416f4bca7",
        "colab": {
          "base_uri": "https://localhost:8080/",
          "height": 93
        }
      },
      "source": [
        "mu_peso_masculino = x_peso_masculino.mean()\n",
        "sigma_peso_masculino = x_peso_masculino.var()\n",
        "\n",
        "mu_peso_femenino = x_peso_femenino.mean()\n",
        "sigma_peso_femenino = x_peso_femenino.var()\n",
        "\n",
        "\n",
        "print(\"mu_peso_masculino=\" + str(mu_peso_masculino))\n",
        "print(\"sigma_peso_masculino=\" + str(sigma_peso_masculino))\n",
        "\n",
        "print(\"mu_peso_femenino=\" + str(mu_peso_femenino))\n",
        "print(\"sigma_peso_femenino=\" + str(sigma_peso_femenino))"
      ],
      "execution_count": 0,
      "outputs": [
        {
          "output_type": "stream",
          "text": [
            "mu_peso_masculino=78.2\n",
            "sigma_peso_masculino=15.765714285714276\n",
            "mu_peso_femenino=58.65\n",
            "sigma_peso_femenino=71.00916666666667\n"
          ],
          "name": "stdout"
        }
      ]
    },
    {
      "cell_type": "markdown",
      "metadata": {
        "id": "YCIYjeIeiVcv",
        "colab_type": "text"
      },
      "source": [
        "Nuevos datos para clasificar"
      ]
    },
    {
      "cell_type": "code",
      "metadata": {
        "id": "PzXOZKLqiYOo",
        "colab_type": "code",
        "colab": {}
      },
      "source": [
        "N1 = [0,0,0,2,0,0,0,0,1,0,1,0,0,0,1.68,65.00]\n",
        "N2 = [2,0,1,1,1,0,0,1,0,1,0,0,2,0,1.75,80.00]\n",
        "N3 = [0,0,1,1,0,1,0,0,1,0,0,1,0,0,1.80,79.00]\n",
        "N4 = [1,0,0,1,0,0,0,1,0,0,0,0,0,1,1.90,85.00]\n",
        "N5 = [0,1,0,0,0,1,0,0,0,0,1,1,0,0,1.65,70.00]"
      ],
      "execution_count": 0,
      "outputs": []
    },
    {
      "cell_type": "markdown",
      "metadata": {
        "id": "iX57ppxBj1B-",
        "colab_type": "text"
      },
      "source": [
        "Definimos las etiquetas de las clases "
      ]
    },
    {
      "cell_type": "code",
      "metadata": {
        "id": "6gHtMvIuj5OD",
        "colab_type": "code",
        "colab": {}
      },
      "source": [
        "CLASES = ['MASCULINO', 'FEMENINO']"
      ],
      "execution_count": 0,
      "outputs": []
    },
    {
      "cell_type": "markdown",
      "metadata": {
        "id": "rCYTWM3Ci0dg",
        "colab_type": "text"
      },
      "source": [
        "*   Separamos datos en nombre, estatura y peso\n",
        "*   Calculamos los parametros\n",
        "*   Estimamos la Maxima Verosimilitud\n",
        "*   Clasificamos"
      ]
    },
    {
      "cell_type": "code",
      "metadata": {
        "id": "e46JHrPDi4ct",
        "colab_type": "code",
        "outputId": "9aff722d-f815-43ec-fcb2-bcca1d3eeffb",
        "colab": {
          "base_uri": "https://localhost:8080/",
          "height": 36
        }
      },
      "source": [
        "#x1=(Rene; 1.68; 65)\n",
        "N1_nombre=N1[0:14]\n",
        "N1_estatura=N1[14]\n",
        "N1_peso=N1[15]\n",
        "\n",
        "p_n1_m = q_m * np.power(p_letra_masculino, N1_nombre).prod() * ((1/math.sqrt(2*3.14*sigma_estatura_masculino)) * math.exp(-0.5\n",
        "                                 * pow((N1_estatura - mu_estatura_masculino),2)/sigma_estatura_masculino)) * (1/math.sqrt(2*3.14*sigma_peso_masculino)) * math.exp(-0.5\n",
        "                                 * pow((N1_peso - mu_peso_masculino),2)/sigma_peso_masculino)\n",
        "\n",
        "p_n1_f = q_f * np.power(p_letra_femenino, N1_nombre).prod()  *((1/math.sqrt(2*3.14*sigma_estatura_femenino)) * math.exp(-0.5\n",
        "                                 * pow((N1_estatura - mu_estatura_femenino),2)/sigma_estatura_femenino)) * (1/math.sqrt(2*3.14*sigma_peso_femenino)) * math.exp(-0.5\n",
        "                                 * pow((N1_peso - mu_peso_femenino),2)/sigma_peso_femenino)\n",
        "\n",
        "C1 = np.argmax([p_n1_m, p_n1_f])\n",
        "print(CLASES[C1])"
      ],
      "execution_count": 0,
      "outputs": [
        {
          "output_type": "stream",
          "text": [
            "FEMENINO\n"
          ],
          "name": "stdout"
        }
      ]
    },
    {
      "cell_type": "code",
      "metadata": {
        "id": "4JzYLv2djE5v",
        "colab_type": "code",
        "outputId": "36f8f045-20ea-416d-9c42-d92338cee45a",
        "colab": {
          "base_uri": "https://localhost:8080/",
          "height": 36
        }
      },
      "source": [
        "#x2 = (Guadalupe; 1.75; 80)\n",
        "N2_nombre=N2[0:14]\n",
        "N2_estatura=N2[14]\n",
        "N2_peso=N2[15]\n",
        "\n",
        "p_n2_m = q_m * np.power(p_letra_masculino, N2_nombre).prod() * ((1/math.sqrt(2*3.14*sigma_estatura_masculino)) * math.exp(-0.5\n",
        "                                 * pow((N2_estatura - mu_estatura_masculino),2)/sigma_estatura_masculino)) * (1/math.sqrt(2*3.14*sigma_peso_masculino)) * math.exp(-0.5\n",
        "                                 * pow((N2_peso - mu_peso_masculino),2)/sigma_peso_masculino)\n",
        "\n",
        "p_n2_f = q_f * np.power(p_letra_femenino, N2_nombre).prod()  * ((1/math.sqrt(2*3.14*sigma_estatura_femenino)) * math.exp(-0.5\n",
        "                                 * pow((N2_estatura - mu_estatura_femenino),2)/sigma_estatura_femenino)) * (1/math.sqrt(2*3.14*sigma_peso_femenino)) * math.exp(-0.5\n",
        "                                 * pow((N2_peso - mu_peso_femenino),2)/sigma_peso_femenino)\n",
        "\n",
        "C2 = np.argmax([p_n2_m, p_n2_f])\n",
        "print(CLASES[C2])"
      ],
      "execution_count": 0,
      "outputs": [
        {
          "output_type": "stream",
          "text": [
            "MASCULINO\n"
          ],
          "name": "stdout"
        }
      ]
    },
    {
      "cell_type": "code",
      "metadata": {
        "id": "fOg9tUH4kO1e",
        "colab_type": "code",
        "outputId": "de0ef679-73dd-475a-b7bc-1501e1e9c819",
        "colab": {
          "base_uri": "https://localhost:8080/",
          "height": 36
        }
      },
      "source": [
        "#x3 = (Denis; 1.80; 79)\n",
        "N3_nombre=N3[0:14]\n",
        "N3_estatura=N3[14]\n",
        "N3_peso=N3[15]\n",
        "\n",
        "p_n3_m = q_m * np.power(p_letra_masculino, N3_nombre).prod() * ((1/math.sqrt(2*3.14*sigma_estatura_masculino)) * math.exp(-0.5\n",
        "                                 * pow((N3_estatura - mu_estatura_masculino),2)/sigma_estatura_masculino)) * (1/math.sqrt(2*3.14*sigma_peso_masculino)) * math.exp(-0.5\n",
        "                                 * pow((N3_peso - mu_peso_masculino),2)/sigma_peso_masculino)\n",
        "\n",
        "p_n3_f = q_f * np.power(p_letra_femenino, N3_nombre).prod()  * ((1/math.sqrt(2*3.14*sigma_estatura_femenino)) * math.exp(-0.5\n",
        "                                 * pow((N3_estatura - mu_estatura_femenino),2)/sigma_estatura_femenino)) * (1/math.sqrt(2*3.14*sigma_peso_femenino)) * math.exp(-0.5\n",
        "                                 * pow((N3_peso - mu_peso_femenino),2)/sigma_peso_femenino)\n",
        "\n",
        "C3 = np.argmax([p_n3_m, p_n3_f])\n",
        "print(CLASES[C3])"
      ],
      "execution_count": 0,
      "outputs": [
        {
          "output_type": "stream",
          "text": [
            "MASCULINO\n"
          ],
          "name": "stdout"
        }
      ]
    },
    {
      "cell_type": "code",
      "metadata": {
        "id": "briRfvSHkvAp",
        "colab_type": "code",
        "outputId": "dfd8186a-23d6-44d3-a08c-256fb7dad82c",
        "colab": {
          "base_uri": "https://localhost:8080/",
          "height": 36
        }
      },
      "source": [
        "#x4 = (Alex; 1.90; 85)\n",
        "N4_nombre=N4[0:14]\n",
        "N4_estatura=N4[14]\n",
        "N4_peso=N4[15]\n",
        "\n",
        "p_n4_m = q_m * np.power(p_letra_masculino, N4_nombre).prod() * ((1/math.sqrt(2*3.14*sigma_estatura_masculino)) * math.exp(-0.5\n",
        "                                 * pow((N4_estatura - mu_estatura_masculino),2)/sigma_estatura_masculino)) * (1/math.sqrt(2*3.14*sigma_peso_masculino)) * math.exp(-0.5\n",
        "                                 * pow((N4_peso - mu_peso_masculino),2)/sigma_peso_masculino)\n",
        "\n",
        "p_n4_f = q_f * np.power(p_letra_femenino, N4_nombre).prod()  * ((1/math.sqrt(2*3.14*sigma_estatura_femenino)) * math.exp(-0.5\n",
        "                                 * pow((N4_estatura - mu_estatura_femenino),2)/sigma_estatura_femenino)) * (1/math.sqrt(2*3.14*sigma_peso_femenino)) * math.exp(-0.5\n",
        "                                 * pow((N4_peso - mu_peso_femenino),2)/sigma_peso_femenino)\n",
        "\n",
        "C4 = np.argmax([p_n4_m, p_n4_f])\n",
        "print(CLASES[C4])"
      ],
      "execution_count": 0,
      "outputs": [
        {
          "output_type": "stream",
          "text": [
            "MASCULINO\n"
          ],
          "name": "stdout"
        }
      ]
    },
    {
      "cell_type": "code",
      "metadata": {
        "id": "H9lXZVFgk5yd",
        "colab_type": "code",
        "outputId": "c73ac844-515f-4628-cf2b-ab102cbee117",
        "colab": {
          "base_uri": "https://localhost:8080/",
          "height": 36
        }
      },
      "source": [
        "#x5 = (Cris; 1.65; 70)\n",
        "N5_nombre=N5[0:14]\n",
        "N5_estatura=N5[14]\n",
        "N5_peso=N5[15]\n",
        "\n",
        "p_n5_m = q_m * np.power(p_letra_masculino, N5_nombre).prod() * ((1/math.sqrt(2*3.14*sigma_estatura_masculino)) * math.exp(-0.5\n",
        "                                 * pow((N5_estatura - mu_estatura_masculino),2)/sigma_estatura_masculino))*(1/math.sqrt(2*3.14*sigma_peso_masculino)) * math.exp(-0.5\n",
        "                                 * pow((N5_peso - mu_peso_masculino),2)/sigma_peso_masculino)\n",
        "\n",
        "p_n5_f = q_f * np.power(p_letra_femenino, N5_nombre).prod()  * ((1/math.sqrt(2*3.14*sigma_estatura_femenino)) * math.exp(-0.5\n",
        "                                 * pow((N5_estatura - mu_estatura_femenino),2)/sigma_estatura_femenino)) * (1/math.sqrt(2*3.14*sigma_peso_femenino)) * math.exp(-0.5\n",
        "                                 * pow((N5_peso - mu_peso_femenino),2)/sigma_peso_femenino)\n",
        "\n",
        "C5 = np.argmax([p_n5_m, p_n5_f])\n",
        "print(CLASES[C5])"
      ],
      "execution_count": 0,
      "outputs": [
        {
          "output_type": "stream",
          "text": [
            "FEMENINO\n"
          ],
          "name": "stdout"
        }
      ]
    }
  ]
}