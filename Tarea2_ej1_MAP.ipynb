{
  "nbformat": 4,
  "nbformat_minor": 0,
  "metadata": {
    "colab": {
      "name": "Tarea2_ej1_MAP.ipynb",
      "provenance": [],
      "mount_file_id": "1yiB_O5lDYH_myAPaBTruwybC5BMhjO-l",
      "authorship_tag": "ABX9TyPXM8Wn3XISVL429FpAiXdT",
      "include_colab_link": true
    },
    "kernelspec": {
      "name": "python3",
      "display_name": "Python 3"
    }
  },
  "cells": [
    {
      "cell_type": "markdown",
      "metadata": {
        "id": "view-in-github",
        "colab_type": "text"
      },
      "source": [
        "<a href=\"https://colab.research.google.com/github/DonRoboto/AprendizajeAutomatizado/blob/master/Tarea2_ej1_MAP.ipynb\" target=\"_parent\"><img src=\"https://colab.research.google.com/assets/colab-badge.svg\" alt=\"Open In Colab\"/></a>"
      ]
    },
    {
      "cell_type": "markdown",
      "metadata": {
        "id": "B6ZCx36k-77t",
        "colab_type": "text"
      },
      "source": [
        "**Tarea2: Ejercicio 1 donde las clases tienen distribucion binomial, las letras en los nombres tienen distribucion multinomial y el peso y estatura tiene distribución gaussiana\n",
        "\\\n",
        "Se utiliza el enfoque del Maximo A Posteriori**"
      ]
    },
    {
      "cell_type": "markdown",
      "metadata": {
        "id": "g-uafCV2-9ML",
        "colab_type": "text"
      },
      "source": [
        "Importamos librerias necesarias"
      ]
    },
    {
      "cell_type": "code",
      "metadata": {
        "id": "8s9izlxw_J2U",
        "colab_type": "code",
        "colab": {}
      },
      "source": [
        "import numpy as np\n",
        "import pandas as pd\n",
        "import math  "
      ],
      "execution_count": 0,
      "outputs": []
    },
    {
      "cell_type": "markdown",
      "metadata": {
        "id": "90dbPTcd_UcZ",
        "colab_type": "text"
      },
      "source": [
        "Cargamos los datos y transformamos a numpy"
      ]
    },
    {
      "cell_type": "code",
      "metadata": {
        "id": "fj39WH7v_VIr",
        "colab_type": "code",
        "outputId": "d896a489-965c-4f65-c37f-80b66c7af0fb",
        "colab": {
          "base_uri": "https://localhost:8080/",
          "height": 206
        }
      },
      "source": [
        "df = pd.read_csv(\"./ej1_v1.csv\")\n",
        "data = df.to_numpy()\n",
        "df.head()"
      ],
      "execution_count": 0,
      "outputs": [
        {
          "output_type": "execute_result",
          "data": {
            "text/html": [
              "<div>\n",
              "<style scoped>\n",
              "    .dataframe tbody tr th:only-of-type {\n",
              "        vertical-align: middle;\n",
              "    }\n",
              "\n",
              "    .dataframe tbody tr th {\n",
              "        vertical-align: top;\n",
              "    }\n",
              "\n",
              "    .dataframe thead th {\n",
              "        text-align: right;\n",
              "    }\n",
              "</style>\n",
              "<table border=\"1\" class=\"dataframe\">\n",
              "  <thead>\n",
              "    <tr style=\"text-align: right;\">\n",
              "      <th></th>\n",
              "      <th>F1</th>\n",
              "      <th>F2</th>\n",
              "      <th>F3</th>\n",
              "      <th>F4</th>\n",
              "      <th>F5</th>\n",
              "      <th>F6</th>\n",
              "      <th>F7</th>\n",
              "      <th>F8</th>\n",
              "      <th>F9</th>\n",
              "      <th>F10</th>\n",
              "      <th>F11</th>\n",
              "      <th>F12</th>\n",
              "      <th>F13</th>\n",
              "      <th>F14</th>\n",
              "      <th>F15</th>\n",
              "      <th>F16</th>\n",
              "      <th>C</th>\n",
              "    </tr>\n",
              "  </thead>\n",
              "  <tbody>\n",
              "    <tr>\n",
              "      <th>0</th>\n",
              "      <td>0</td>\n",
              "      <td>0</td>\n",
              "      <td>1</td>\n",
              "      <td>1</td>\n",
              "      <td>0</td>\n",
              "      <td>1</td>\n",
              "      <td>0</td>\n",
              "      <td>0</td>\n",
              "      <td>1</td>\n",
              "      <td>0</td>\n",
              "      <td>0</td>\n",
              "      <td>1</td>\n",
              "      <td>0</td>\n",
              "      <td>0</td>\n",
              "      <td>1.72</td>\n",
              "      <td>75.3</td>\n",
              "      <td>M</td>\n",
              "    </tr>\n",
              "    <tr>\n",
              "      <th>1</th>\n",
              "      <td>2</td>\n",
              "      <td>0</td>\n",
              "      <td>1</td>\n",
              "      <td>1</td>\n",
              "      <td>1</td>\n",
              "      <td>0</td>\n",
              "      <td>0</td>\n",
              "      <td>1</td>\n",
              "      <td>0</td>\n",
              "      <td>1</td>\n",
              "      <td>0</td>\n",
              "      <td>0</td>\n",
              "      <td>2</td>\n",
              "      <td>0</td>\n",
              "      <td>1.82</td>\n",
              "      <td>81.6</td>\n",
              "      <td>M</td>\n",
              "    </tr>\n",
              "    <tr>\n",
              "      <th>2</th>\n",
              "      <td>1</td>\n",
              "      <td>0</td>\n",
              "      <td>0</td>\n",
              "      <td>1</td>\n",
              "      <td>0</td>\n",
              "      <td>0</td>\n",
              "      <td>0</td>\n",
              "      <td>1</td>\n",
              "      <td>0</td>\n",
              "      <td>0</td>\n",
              "      <td>0</td>\n",
              "      <td>0</td>\n",
              "      <td>0</td>\n",
              "      <td>1</td>\n",
              "      <td>1.80</td>\n",
              "      <td>86.1</td>\n",
              "      <td>M</td>\n",
              "    </tr>\n",
              "    <tr>\n",
              "      <th>3</th>\n",
              "      <td>1</td>\n",
              "      <td>0</td>\n",
              "      <td>0</td>\n",
              "      <td>1</td>\n",
              "      <td>0</td>\n",
              "      <td>0</td>\n",
              "      <td>0</td>\n",
              "      <td>1</td>\n",
              "      <td>0</td>\n",
              "      <td>0</td>\n",
              "      <td>0</td>\n",
              "      <td>0</td>\n",
              "      <td>0</td>\n",
              "      <td>1</td>\n",
              "      <td>1.70</td>\n",
              "      <td>77.1</td>\n",
              "      <td>M</td>\n",
              "    </tr>\n",
              "    <tr>\n",
              "      <th>4</th>\n",
              "      <td>0</td>\n",
              "      <td>1</td>\n",
              "      <td>0</td>\n",
              "      <td>0</td>\n",
              "      <td>0</td>\n",
              "      <td>1</td>\n",
              "      <td>0</td>\n",
              "      <td>0</td>\n",
              "      <td>0</td>\n",
              "      <td>0</td>\n",
              "      <td>1</td>\n",
              "      <td>1</td>\n",
              "      <td>0</td>\n",
              "      <td>0</td>\n",
              "      <td>1.73</td>\n",
              "      <td>78.2</td>\n",
              "      <td>M</td>\n",
              "    </tr>\n",
              "  </tbody>\n",
              "</table>\n",
              "</div>"
            ],
            "text/plain": [
              "   F1  F2  F3  F4  F5  F6  F7  F8  F9  F10  F11  F12  F13  F14   F15   F16  C\n",
              "0   0   0   1   1   0   1   0   0   1    0    0    1    0    0  1.72  75.3  M\n",
              "1   2   0   1   1   1   0   0   1   0    1    0    0    2    0  1.82  81.6  M\n",
              "2   1   0   0   1   0   0   0   1   0    0    0    0    0    1  1.80  86.1  M\n",
              "3   1   0   0   1   0   0   0   1   0    0    0    0    0    1  1.70  77.1  M\n",
              "4   0   1   0   0   0   1   0   0   0    0    1    1    0    0  1.73  78.2  M"
            ]
          },
          "metadata": {
            "tags": []
          },
          "execution_count": 2
        }
      ]
    },
    {
      "cell_type": "markdown",
      "metadata": {
        "id": "4yTRz0p6_lP-",
        "colab_type": "text"
      },
      "source": [
        "Separamos las clases en masculino y femenino"
      ]
    },
    {
      "cell_type": "code",
      "metadata": {
        "id": "HExLqMLg_l6e",
        "colab_type": "code",
        "colab": {}
      },
      "source": [
        "#clase masculino\n",
        "data_masculino = data[data[:,-1] == \"M\"]\n",
        "x_nombres_masculino = data_masculino[:, :14]\n",
        "x_estatura_masculino = data_masculino[:, 14]\n",
        "x_peso_masculino = data_masculino[:, 15]\n",
        "\n",
        "#clase femenino\n",
        "data_femenino = data[data[:,-1] == \"F\"]\n",
        "x_nombres_femenino = data_femenino[:, :14]\n",
        "x_estatura_femenino = data_femenino[:, 14]\n",
        "x_peso_femenino = data_femenino[:, 15]\n",
        "\n",
        "#contamos cuantos hay de cada clase\n",
        "n_masculino=data_masculino.shape[0]\n",
        "n_femenino=data_femenino.shape[0]\n"
      ],
      "execution_count": 0,
      "outputs": []
    },
    {
      "cell_type": "markdown",
      "metadata": {
        "id": "6tyL6Ga7B2rd",
        "colab_type": "text"
      },
      "source": [
        "Parámetros conocidos\n"
      ]
    },
    {
      "cell_type": "code",
      "metadata": {
        "id": "saE5cSd3B-7a",
        "colab_type": "code",
        "colab": {}
      },
      "source": [
        "alfa_m=2\n",
        "alfa_f=2\n",
        "\n",
        "mu_0_estatura_m=1.7\n",
        "mu_0_estatura_f=1.5\n",
        "\n",
        "sigma_0_estatura_m=0.3\n",
        "sigma_0_estatura_f=0.1\n",
        "\n",
        "sigma_estatura_masculino=0.0020\n",
        "sigma_estatura_femenino=0.0074\n",
        "\n",
        "mu_0_peso_m=85.5\n",
        "mu_0_peso_f=70.3\n",
        "\n",
        "sigma_0_peso_m=17.0\n",
        "sigma_0_peso_f=85.0\n",
        "\n",
        "sigma_peso_masculino=15.76\n",
        "sigma_peso_femenino=71.00"
      ],
      "execution_count": 0,
      "outputs": []
    },
    {
      "cell_type": "markdown",
      "metadata": {
        "id": "gz3mWkG5DDuD",
        "colab_type": "text"
      },
      "source": [
        "Cálculo de parámetros"
      ]
    },
    {
      "cell_type": "markdown",
      "metadata": {
        "id": "6fo1_j-mDRT7",
        "colab_type": "text"
      },
      "source": [
        "-Multinomial"
      ]
    },
    {
      "cell_type": "code",
      "metadata": {
        "id": "HbJy2Nw5DGIV",
        "colab_type": "code",
        "colab": {}
      },
      "source": [
        "#datos para realizar cálculo del parámetro\n",
        "n_letra_masculino = x_nombres_masculino.sum(axis=0) \n",
        "n_letra_femenino = x_nombres_femenino.sum(axis=0) \n",
        "\n",
        "n_m=n_letra_masculino.sum()\n",
        "n_f=n_letra_masculino.sum()"
      ],
      "execution_count": 0,
      "outputs": []
    },
    {
      "cell_type": "code",
      "metadata": {
        "id": "9nMwT7ZcGaO4",
        "colab_type": "code",
        "outputId": "6b9db8b6-01b5-406a-f317-e22245516986",
        "colab": {
          "base_uri": "https://localhost:8080/",
          "height": 207
        }
      },
      "source": [
        "p_letra_masculino=(n_letra_masculino+alfa_m-1)/(n_m+14-14)\n",
        "p_letra_femenino=(n_letra_femenino+alfa_f-1)/(n_f+14-14)\n",
        "\n",
        "print(\"p_letra_masculino=\"+str(p_letra_masculino))\n",
        "print(\"p_letra_femenino=\"+str(p_letra_femenino))"
      ],
      "execution_count": 0,
      "outputs": [
        {
          "output_type": "stream",
          "text": [
            "p_letra_masculino=[0.20588235294117646 0.058823529411764705 0.08823529411764706\n",
            " 0.14705882352941177 0.058823529411764705 0.08823529411764706\n",
            " 0.08823529411764706 0.11764705882352941 0.11764705882352941\n",
            " 0.058823529411764705 0.058823529411764705 0.08823529411764706\n",
            " 0.14705882352941177 0.08823529411764706]\n",
            "p_letra_femenino=[0.17647058823529413 0.058823529411764705 0.11764705882352941\n",
            " 0.20588235294117646 0.08823529411764706 0.08823529411764706\n",
            " 0.029411764705882353 0.11764705882352941 0.08823529411764706\n",
            " 0.08823529411764706 0.08823529411764706 0.08823529411764706\n",
            " 0.14705882352941177 0.058823529411764705]\n"
          ],
          "name": "stdout"
        }
      ]
    },
    {
      "cell_type": "markdown",
      "metadata": {
        "id": "IR3P6xSeIyPn",
        "colab_type": "text"
      },
      "source": [
        "-Normal Estatura"
      ]
    },
    {
      "cell_type": "code",
      "metadata": {
        "id": "jaWUWIpU8tFz",
        "colab_type": "code",
        "colab": {}
      },
      "source": [
        "#datos para reallizar cálculo del parámetro\n",
        "sum_estatura_masculino=x_estatura_masculino.sum(axis=0)\n",
        "sum_estatura_femenino=x_estatura_femenino.sum(axis=0)"
      ],
      "execution_count": 0,
      "outputs": []
    },
    {
      "cell_type": "code",
      "metadata": {
        "id": "xjFBK0dGJi6J",
        "colab_type": "code",
        "outputId": "272f09f1-c880-476b-c70d-99b8fa34a16d",
        "colab": {
          "base_uri": "https://localhost:8080/",
          "height": 55
        }
      },
      "source": [
        "mu_estatura_masculino=(sigma_0_estatura_m*sum_estatura_masculino+sigma_estatura_masculino*mu_0_estatura_m)/(sigma_0_estatura_m*n_masculino+sigma_estatura_masculino)\n",
        "mu_estatura_femenino=(sigma_0_estatura_f*sum_estatura_femenino+sigma_estatura_femenino*mu_0_estatura_f)/(sigma_0_estatura_f*n_femenino+sigma_estatura_femenino)\n",
        "\n",
        "print(\"mu_estatura_masculino=\"+str(mu_estatura_masculino))\n",
        "print(\"mu_estatura_femenino=\"+str(mu_estatura_femenino))"
      ],
      "execution_count": 0,
      "outputs": [
        {
          "output_type": "stream",
          "text": [
            "mu_estatura_masculino=1.7670789724072316\n",
            "mu_estatura_femenino=1.6168916694106026\n"
          ],
          "name": "stdout"
        }
      ]
    },
    {
      "cell_type": "markdown",
      "metadata": {
        "id": "JSRAtZVmLnFT",
        "colab_type": "text"
      },
      "source": [
        "-Normal Peso"
      ]
    },
    {
      "cell_type": "code",
      "metadata": {
        "id": "yRov-8qu8yST",
        "colab_type": "code",
        "colab": {}
      },
      "source": [
        "#datos para reallizar cálculo del parámetro\n",
        "sum_peso_masculino=x_peso_masculino.sum(axis=0)\n",
        "sum_peso_femenino=x_peso_femenino.sum(axis=0)"
      ],
      "execution_count": 0,
      "outputs": []
    },
    {
      "cell_type": "code",
      "metadata": {
        "id": "lv5kuX9nLo61",
        "colab_type": "code",
        "outputId": "e72925f7-42b9-4738-ca6c-72cad7d1f6ec",
        "colab": {
          "base_uri": "https://localhost:8080/",
          "height": 55
        }
      },
      "source": [
        "mu_peso_masculino=(sigma_0_peso_m*sum_peso_masculino+sigma_peso_masculino*mu_0_peso_m)/(sigma_0_peso_m*n_masculino+sigma_0_peso_m)\n",
        "mu_peso_femenino=(sigma_0_peso_f*sum_peso_femenino+sigma_peso_femenino*mu_0_peso_f)/(sigma_0_peso_f*n_femenino+sigma_0_peso_f)\n",
        "\n",
        "\n",
        "print(\"mu_peso_masculino=\"+str(mu_peso_masculino))\n",
        "print(\"mu_peso_femenino=\"+str(mu_peso_femenino))"
      ],
      "execution_count": 0,
      "outputs": [
        {
          "output_type": "stream",
          "text": [
            "mu_peso_masculino=78.33294117647058\n",
            "mu_peso_femenino=58.660168067226884\n"
          ],
          "name": "stdout"
        }
      ]
    },
    {
      "cell_type": "markdown",
      "metadata": {
        "id": "pKVogI6NMQ25",
        "colab_type": "text"
      },
      "source": [
        "Nuevos Datos a Clasificar"
      ]
    },
    {
      "cell_type": "code",
      "metadata": {
        "id": "9J3VZHrjMUdb",
        "colab_type": "code",
        "colab": {}
      },
      "source": [
        "N1 = [0,0,0,2,0,0,0,0,1,0,1,0,0,0,1.68,65.00]\n",
        "N2 = [2,0,1,1,1,0,0,1,0,1,0,0,2,0,1.75,80.00]\n",
        "N3 = [0,0,1,1,0,1,0,0,1,0,0,1,0,0,1.80,79.00]\n",
        "N4 = [1,0,0,1,0,0,0,1,0,0,0,0,0,1,1.90,85.00]\n",
        "N5 = [0,1,0,0,0,1,0,0,0,0,1,1,0,0,1.65,70.00]"
      ],
      "execution_count": 0,
      "outputs": []
    },
    {
      "cell_type": "markdown",
      "metadata": {
        "id": "VPjdBjQ2MZDv",
        "colab_type": "text"
      },
      "source": [
        "Definimos las etiquetas de las clases "
      ]
    },
    {
      "cell_type": "code",
      "metadata": {
        "id": "skkzJ_pUMZuV",
        "colab_type": "code",
        "colab": {}
      },
      "source": [
        "CLASES = ['MASCULINO', 'FEMENINO']\n",
        "\n",
        "#parametros de binomial \n",
        "q_m = data_masculino.shape[0] / data.shape[0]\n",
        "q_f = data_femenino.shape[0] / data.shape[0]"
      ],
      "execution_count": 0,
      "outputs": []
    },
    {
      "cell_type": "markdown",
      "metadata": {
        "id": "_fdfQ7DvMiOW",
        "colab_type": "text"
      },
      "source": [
        "*   Separamos datos en nombre, estatura y peso\n",
        "*   Calculamos los parámetros\n",
        "*   Estimamos el Máximo A Posteriori\n",
        "*   Clasificamos"
      ]
    },
    {
      "cell_type": "code",
      "metadata": {
        "id": "tQmhuTLBMjK7",
        "colab_type": "code",
        "outputId": "0df8aa05-7da1-4b93-e9de-5e6eb28ff69d",
        "colab": {
          "base_uri": "https://localhost:8080/",
          "height": 36
        }
      },
      "source": [
        "#x1=(Rene; 1.68; 65)\n",
        "N1_nombre=N1[0:14]\n",
        "N1_estatura=N1[14]\n",
        "N1_peso=N1[15]\n",
        "\n",
        "p_n1_m = q_m * np.power(p_letra_masculino, N1_nombre).prod() * ((1/math.sqrt(2*3.14*sigma_estatura_masculino)) * math.exp(-0.5\n",
        "                                 * pow((N1_estatura - mu_estatura_masculino),2)/sigma_estatura_masculino)) * (1/math.sqrt(2*3.14*sigma_peso_masculino)) * math.exp(-0.5\n",
        "                                 * pow((N1_peso - mu_peso_masculino),2)/sigma_peso_masculino)\n",
        "\n",
        "p_n1_f = q_f * np.power(p_letra_femenino, N1_nombre).prod()  *((1/math.sqrt(2*3.14*sigma_estatura_femenino)) * math.exp(-0.5\n",
        "                                 * pow((N1_estatura - mu_estatura_femenino),2)/sigma_estatura_femenino)) * (1/math.sqrt(2*3.14*sigma_peso_femenino)) * math.exp(-0.5\n",
        "                                 * pow((N1_peso - mu_peso_femenino),2)/sigma_peso_femenino)\n",
        "\n",
        "\n",
        "C1 = np.argmax([p_n1_m, p_n1_f])\n",
        "print(CLASES[C1])"
      ],
      "execution_count": 0,
      "outputs": [
        {
          "output_type": "stream",
          "text": [
            "FEMENINO\n"
          ],
          "name": "stdout"
        }
      ]
    },
    {
      "cell_type": "code",
      "metadata": {
        "id": "45ZYsz9ZOSwa",
        "colab_type": "code",
        "outputId": "59895b52-e5d5-4137-e072-cef4263a7569",
        "colab": {
          "base_uri": "https://localhost:8080/",
          "height": 36
        }
      },
      "source": [
        "#x2 = (Guadalupe; 1.75; 80)\n",
        "N2_nombre=N2[0:14]\n",
        "N2_estatura=N2[14]\n",
        "N2_peso=N2[15]\n",
        "\n",
        "p_n2_m = q_m * np.power(p_letra_masculino, N2_nombre).prod() * ((1/math.sqrt(2*3.14*sigma_estatura_masculino)) * math.exp(-0.5\n",
        "                                 * pow((N2_estatura - mu_estatura_masculino),2)/sigma_estatura_masculino)) * (1/math.sqrt(2*3.14*sigma_peso_masculino)) * math.exp(-0.5\n",
        "                                 * pow((N2_peso - mu_peso_masculino),2)/sigma_peso_masculino)\n",
        "\n",
        "p_n2_f = q_f * np.power(p_letra_femenino, N2_nombre).prod()  * ((1/math.sqrt(2*3.14*sigma_estatura_femenino)) * math.exp(-0.5\n",
        "                                 * pow((N2_estatura - mu_estatura_femenino),2)/sigma_estatura_femenino)) * (1/math.sqrt(2*3.14*sigma_peso_femenino)) * math.exp(-0.5\n",
        "                                 * pow((N2_peso - mu_peso_femenino),2)/sigma_peso_femenino)\n",
        "\n",
        "C2 = np.argmax([p_n2_m, p_n2_f])\n",
        "print(CLASES[C2])"
      ],
      "execution_count": 0,
      "outputs": [
        {
          "output_type": "stream",
          "text": [
            "MASCULINO\n"
          ],
          "name": "stdout"
        }
      ]
    },
    {
      "cell_type": "code",
      "metadata": {
        "id": "WfIZaNl9OWDk",
        "colab_type": "code",
        "outputId": "c9733699-12a4-4319-d2b0-ff984ade6583",
        "colab": {
          "base_uri": "https://localhost:8080/",
          "height": 36
        }
      },
      "source": [
        "#x3 = (Denis; 1.80; 79)\n",
        "N3_nombre=N3[0:14]\n",
        "N3_estatura=N3[14]\n",
        "N3_peso=N3[15]\n",
        "\n",
        "p_n3_m = q_m * np.power(p_letra_masculino, N3_nombre).prod() * ((1/math.sqrt(2*3.14*sigma_estatura_masculino)) * math.exp(-0.5\n",
        "                                 * pow((N3_estatura - mu_estatura_masculino),2)/sigma_estatura_masculino)) * (1/math.sqrt(2*3.14*sigma_peso_masculino)) * math.exp(-0.5\n",
        "                                 * pow((N3_peso - mu_peso_masculino),2)/sigma_peso_masculino)\n",
        "\n",
        "p_n3_f = q_f * np.power(p_letra_femenino, N3_nombre).prod()  * ((1/math.sqrt(2*3.14*sigma_estatura_femenino)) * math.exp(-0.5\n",
        "                                 * pow((N3_estatura - mu_estatura_femenino),2)/sigma_estatura_femenino)) * (1/math.sqrt(2*3.14*sigma_peso_femenino)) * math.exp(-0.5\n",
        "                                 * pow((N3_peso - mu_peso_femenino),2)/sigma_peso_femenino)\n",
        "\n",
        "C3 = np.argmax([p_n3_m, p_n3_f])\n",
        "print(CLASES[C3])"
      ],
      "execution_count": 0,
      "outputs": [
        {
          "output_type": "stream",
          "text": [
            "MASCULINO\n"
          ],
          "name": "stdout"
        }
      ]
    },
    {
      "cell_type": "code",
      "metadata": {
        "id": "imd6GTlBOb-l",
        "colab_type": "code",
        "outputId": "e35db6a4-dd0a-41ef-8311-7b18677a6a8b",
        "colab": {
          "base_uri": "https://localhost:8080/",
          "height": 36
        }
      },
      "source": [
        "#x4 = (Alex; 1.90; 85)\n",
        "N4_nombre=N4[0:14]\n",
        "N4_estatura=N4[14]\n",
        "N4_peso=N4[15]\n",
        "\n",
        "p_n4_m = q_m * np.power(p_letra_masculino, N4_nombre).prod() * ((1/math.sqrt(2*3.14*sigma_estatura_masculino)) * math.exp(-0.5\n",
        "                                 * pow((N4_estatura - mu_estatura_masculino),2)/sigma_estatura_masculino)) * (1/math.sqrt(2*3.14*sigma_peso_masculino)) * math.exp(-0.5\n",
        "                                 * pow((N4_peso - mu_peso_masculino),2)/sigma_peso_masculino)\n",
        "\n",
        "p_n4_f = q_f * np.power(p_letra_femenino, N4_nombre).prod()  * ((1/math.sqrt(2*3.14*sigma_estatura_femenino)) * math.exp(-0.5\n",
        "                                 * pow((N4_estatura - mu_estatura_femenino),2)/sigma_estatura_femenino)) * (1/math.sqrt(2*3.14*sigma_peso_femenino)) * math.exp(-0.5\n",
        "                                 * pow((N4_peso - mu_peso_femenino),2)/sigma_peso_femenino)\n",
        "\n",
        "C4 = np.argmax([p_n4_m, p_n4_f])\n",
        "print(CLASES[C4])"
      ],
      "execution_count": 0,
      "outputs": [
        {
          "output_type": "stream",
          "text": [
            "MASCULINO\n"
          ],
          "name": "stdout"
        }
      ]
    },
    {
      "cell_type": "code",
      "metadata": {
        "id": "BHahQBxfOi2N",
        "colab_type": "code",
        "outputId": "92032276-1c3c-47ce-e737-cae541cbaa65",
        "colab": {
          "base_uri": "https://localhost:8080/",
          "height": 36
        }
      },
      "source": [
        "#x5 = (Cris; 1.65; 70)\n",
        "N5_nombre=N5[0:14]\n",
        "N5_estatura=N5[14]\n",
        "N5_peso=N5[15]\n",
        "\n",
        "p_n5_m = q_m * np.power(p_letra_masculino, N5_nombre).prod() * ((1/math.sqrt(2*3.14*sigma_estatura_masculino)) * math.exp(-0.5\n",
        "                                 * pow((N5_estatura - mu_estatura_masculino),2)/sigma_estatura_masculino))*(1/math.sqrt(2*3.14*sigma_peso_masculino)) * math.exp(-0.5\n",
        "                                 * pow((N5_peso - mu_peso_masculino),2)/sigma_peso_masculino)\n",
        "\n",
        "p_n5_f = q_f * np.power(p_letra_femenino, N5_nombre).prod()  * ((1/math.sqrt(2*3.14*sigma_estatura_femenino)) * math.exp(-0.5\n",
        "                                 * pow((N5_estatura - mu_estatura_femenino),2)/sigma_estatura_femenino)) * (1/math.sqrt(2*3.14*sigma_peso_femenino)) * math.exp(-0.5\n",
        "                                 * pow((N5_peso - mu_peso_femenino),2)/sigma_peso_femenino)\n",
        "\n",
        "C5 = np.argmax([p_n5_m, p_n5_f])\n",
        "print(CLASES[C5])"
      ],
      "execution_count": 0,
      "outputs": [
        {
          "output_type": "stream",
          "text": [
            "FEMENINO\n"
          ],
          "name": "stdout"
        }
      ]
    }
  ]
}