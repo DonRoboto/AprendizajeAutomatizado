{
  "nbformat": 4,
  "nbformat_minor": 0,
  "metadata": {
    "colab": {
      "name": "Tarea2_ej2.ipynb",
      "provenance": [],
      "authorship_tag": "ABX9TyM3+9JLyvmijWRlLYW+KQk6",
      "include_colab_link": true
    },
    "kernelspec": {
      "name": "python3",
      "display_name": "Python 3"
    }
  },
  "cells": [
    {
      "cell_type": "markdown",
      "metadata": {
        "id": "view-in-github",
        "colab_type": "text"
      },
      "source": [
        "<a href=\"https://colab.research.google.com/github/DonRoboto/AprendizajeAutomatizado/blob/master/Tarea2_ej2.ipynb\" target=\"_parent\"><img src=\"https://colab.research.google.com/assets/colab-badge.svg\" alt=\"Open In Colab\"/></a>"
      ]
    },
    {
      "cell_type": "markdown",
      "metadata": {
        "id": "Uqnmr1pXDPEA",
        "colab_type": "text"
      },
      "source": [
        "Importamos librerias necesarias"
      ]
    },
    {
      "cell_type": "code",
      "metadata": {
        "id": "bcXt4OZ5DRTf",
        "colab_type": "code",
        "colab": {}
      },
      "source": [
        "import pandas as pd\n",
        "from sklearn.utils import shuffle\n",
        "from csv import writer"
      ],
      "execution_count": 0,
      "outputs": []
    },
    {
      "cell_type": "markdown",
      "metadata": {
        "id": "3jGyOBs6DbE4",
        "colab_type": "text"
      },
      "source": [
        "Función para guardar los resultados en un archivo de texto"
      ]
    },
    {
      "cell_type": "code",
      "metadata": {
        "id": "oFUajo9vDixS",
        "colab_type": "code",
        "colab": {}
      },
      "source": [
        "def append_list_as_row(file_name, list_of_elem):\n",
        "    with open(file_name, 'a+', newline='') as write_obj:\n",
        "        csv_writer = writer(write_obj)\n",
        "        csv_writer.writerow(list_of_elem)"
      ],
      "execution_count": 0,
      "outputs": []
    },
    {
      "cell_type": "code",
      "metadata": {
        "id": "sbx17xo9Dn9N",
        "colab_type": "code",
        "colab": {}
      },
      "source": [
        "Cargamos el conjunto de datos y los ordenamos de forma aleatoria con semilla=0"
      ],
      "execution_count": 0,
      "outputs": []
    },
    {
      "cell_type": "code",
      "metadata": {
        "id": "rJ8ynoqWDtVX",
        "colab_type": "code",
        "colab": {}
      },
      "source": [
        "data = pd.read_csv('./spam.csv', header=None, delimiter = ' ')\n",
        "data = shuffle(data,random_state=0)"
      ],
      "execution_count": 0,
      "outputs": []
    },
    {
      "cell_type": "markdown",
      "metadata": {
        "id": "8X9XrYP-S254",
        "colab_type": "text"
      },
      "source": [
        "Separamos el conunto 70% para entrenamiento y 30% para validación"
      ]
    },
    {
      "cell_type": "code",
      "metadata": {
        "id": "jrYFd08NS9xV",
        "colab_type": "code",
        "colab": {}
      },
      "source": [
        "num_rows = len(data.index)\n",
        "i = int(round(num_rows*0.7))\n",
        "\n",
        "X_train = data.iloc[:i,:-1].to_numpy()\n",
        "y_train = data.iloc[:i,2000].to_numpy()\n",
        "\n",
        "X_test = data.iloc[i:,:-1].to_numpy()\n",
        "y_test = data.iloc[i:,2000].to_numpy()"
      ],
      "execution_count": 0,
      "outputs": []
    },
    {
      "cell_type": "code",
      "metadata": {
        "id": "kWpjQzL-TG5z",
        "colab_type": "code",
        "colab": {}
      },
      "source": [
        "Entrenamos un clasificador asumiendo una distribución Multinomial"
      ],
      "execution_count": 0,
      "outputs": []
    },
    {
      "cell_type": "code",
      "metadata": {
        "id": "3oWtbwevTLs0",
        "colab_type": "code",
        "colab": {}
      },
      "source": [
        "from sklearn.naive_bayes import MultinomialNB\n",
        "clasificadorMultinomial = MultinomialNB()\n",
        "clasificadorMultinomial.fit(X_train, y_train)"
      ],
      "execution_count": 0,
      "outputs": []
    },
    {
      "cell_type": "code",
      "metadata": {
        "id": "X3LHsIUKTfZM",
        "colab_type": "code",
        "colab": {}
      },
      "source": [
        "Una vez entrenado clasificamos con los datos de entrenamiento"
      ],
      "execution_count": 0,
      "outputs": []
    },
    {
      "cell_type": "code",
      "metadata": {
        "id": "fs9XtnEmTjWH",
        "colab_type": "code",
        "colab": {}
      },
      "source": [
        "for index in range(len(X_train)):\n",
        "    x=X_train[index,:]\n",
        "    y=y_train[index]\n",
        "    row_contents = [clasificadorMultinomial.predict([x])[0], y]\n",
        "    append_list_as_row('./mail_classMultinomialTRAIN.csv', row_contents)  "
      ],
      "execution_count": 0,
      "outputs": []
    },
    {
      "cell_type": "markdown",
      "metadata": {
        "id": "2i3nSB4FTntg",
        "colab_type": "text"
      },
      "source": [
        "Clasificamos también los datos de validación"
      ]
    },
    {
      "cell_type": "code",
      "metadata": {
        "id": "apcREjjETrCA",
        "colab_type": "code",
        "colab": {}
      },
      "source": [
        "for index in range(len(X_test)):\n",
        "    x=X_test[index,:]\n",
        "    y=y_test[index]\n",
        "    row_contents = [clasificadorMultinomial.predict([x])[0], y]\n",
        "    append_list_as_row('./mail_classMultinomialTEST.csv', row_contents)  "
      ],
      "execution_count": 0,
      "outputs": []
    },
    {
      "cell_type": "markdown",
      "metadata": {
        "id": "VDePrBUpTvHf",
        "colab_type": "text"
      },
      "source": [
        "Entrenamos otro clasificador pero esta vez asumiendo una distribución Gaussiana"
      ]
    },
    {
      "cell_type": "code",
      "metadata": {
        "id": "1uQUrzdET0sl",
        "colab_type": "code",
        "colab": {}
      },
      "source": [
        "from sklearn.naive_bayes import GaussianNB\n",
        "clasificadorGaussiano = GaussianNB()\n",
        "clasificadorGaussiano.fit(X_train, y_train)"
      ],
      "execution_count": 0,
      "outputs": []
    },
    {
      "cell_type": "code",
      "metadata": {
        "id": "mz2g3oqTT4ev",
        "colab_type": "code",
        "colab": {}
      },
      "source": [
        "Clasificamos los datos de entrenamiento"
      ],
      "execution_count": 0,
      "outputs": []
    },
    {
      "cell_type": "code",
      "metadata": {
        "id": "SksWWarOT7Gw",
        "colab_type": "code",
        "colab": {}
      },
      "source": [
        "for index in range(len(X_train)):\n",
        "    x=X_train[index,:]\n",
        "    y=y_train[index]\n",
        "    row_contents = [clasificadorGaussiano.predict([x])[0], y]\n",
        "    append_list_as_row('./mail_classGaussianoTRAIN.csv', row_contents) "
      ],
      "execution_count": 0,
      "outputs": []
    },
    {
      "cell_type": "markdown",
      "metadata": {
        "id": "0B_wLHG9T9-J",
        "colab_type": "text"
      },
      "source": [
        "Clasificamos los datos de validación"
      ]
    },
    {
      "cell_type": "code",
      "metadata": {
        "id": "vE6UKe1nUCo1",
        "colab_type": "code",
        "colab": {}
      },
      "source": [
        "for index in range(len(X_test)):\n",
        "    x=X_test[index,:]\n",
        "    y=y_test[index]\n",
        "    row_contents = [clasificadorGaussiano.predict([x])[0], y]\n",
        "    append_list_as_row('./mail_classGaussianoTEST.csv', row_contents) "
      ],
      "execution_count": 0,
      "outputs": []
    }
  ]
}